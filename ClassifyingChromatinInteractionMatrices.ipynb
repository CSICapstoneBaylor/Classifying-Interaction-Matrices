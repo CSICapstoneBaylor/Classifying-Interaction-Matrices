{
 "cells": [
  {
   "cell_type": "markdown",
   "metadata": {
    "id": "UG1RK-zLuTKN",
    "pycharm": {
     "name": "#%% md\n"
    }
   },
   "source": [
    "# The purpose of this notebook is to classify the cell type of a \".hic\" file into one of the following categories:\n",
    "*   Uterine Cervix\n",
    "*   Colon\n",
    "*   Blood Cell\n",
    "*   Skin Fibroblast\n",
    "*   B Lymphocyte\n",
    "*   Stem Cell\n",
    "---\n",
    "The core pipeline operates as follows:\n",
    "1.   User uploads HIC file or uses default HIC file as an example\n",
    "2.   HIC file is processsed (Computer Vision or TAD Frequency)\n",
    "3.   Models predict based on processed HIC files\n",
    "\n",
    "This colab script offers 2 classification types: Computer Vision and TAD Frequency.\n",
    "\n",
    "1) The Computer Vision approach involves creating a heatmap from the given .hic file and using a Neural Network framework to classify the heatmap into one of the 6 cell types based on previously trained heatmaps.\n",
    "\n",
    "2) The TAD Frequency approach utilizes a derivative of the one-hot encoding scheme coined as frequency encoding where insulation scores are used to quantify TAD strength as well as presence. Utilizing a Random Forest model trained on previously generated frequency encoding schemes, our pipeline is able to generate and classify the encoding scheme into one of the 6 cell types.\n",
    "\n",
    "\n",
    "Quick Statistics:\n",
    "\n",
    "![image.png](data:image/png;base64,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)\n",
    "\n",
    "\n",
    "\n",
    "\n",
    "\n",
    "\n",
    "\n",
    "---\n",
    "\n",
    "\n",
    "As you navigate this notebook, please follow the instructions underneath each subheading.\n",
    "\n"
   ]
  },
  {
   "cell_type": "markdown",
   "metadata": {
    "id": "9UmDJLYxx39M",
    "pycharm": {
     "name": "#%% md\n"
    }
   },
   "source": [
    "#Package Installation\n",
    "Run cells and continue to next section.\n",
    "\n",
    "These cells do not need to be opened."
   ]
  },
  {
   "cell_type": "code",
   "execution_count": 10,
   "metadata": {
    "colab": {
     "base_uri": "https://localhost:8080/"
    },
    "id": "Eg-b44-WyBI8",
    "outputId": "2d6c73c5-06ac-4501-d123-3219df060cf9",
    "pycharm": {
     "name": "#%%\n"
    }
   },
   "outputs": [
    {
     "name": "stdout",
     "output_type": "stream",
     "text": [
      "Requirement already satisfied: pip in /Users/cyrilpillai/opt/anaconda3/lib/python3.9/site-packages (23.3.1)\n",
      "Found existing installation: fanc 0.9.26\n",
      "Uninstalling fanc-0.9.26:\n",
      "  Successfully uninstalled fanc-0.9.26\n",
      "Found existing installation: pysam 0.21.0\n",
      "Uninstalling pysam-0.21.0:\n",
      "  Successfully uninstalled pysam-0.21.0\n",
      "Requirement already satisfied: Cython in /Users/cyrilpillai/opt/anaconda3/lib/python3.9/site-packages (0.29.32)\n",
      "Collecting pysam\n",
      "  Downloading pysam-0.22.0-cp39-cp39-macosx_10_9_x86_64.whl.metadata (1.5 kB)\n",
      "Downloading pysam-0.22.0-cp39-cp39-macosx_10_9_x86_64.whl (8.4 MB)\n",
      "\u001B[2K   \u001B[90m━━━━━━━━━━━━━━━━━━━━━━━━━━━━━━━━━━━━━━━━\u001B[0m \u001B[32m8.4/8.4 MB\u001B[0m \u001B[31m16.6 MB/s\u001B[0m eta \u001B[36m0:00:00\u001B[0m00:01\u001B[0m00:01\u001B[0m\n",
      "\u001B[?25hInstalling collected packages: pysam\n",
      "Successfully installed pysam-0.22.0\n",
      "Collecting fanc\n",
      "  Downloading fanc-0.9.27.tar.gz (281 kB)\n",
      "\u001B[2K     \u001B[90m━━━━━━━━━━━━━━━━━━━━━━━━━━━━━━━━━━━━━━━\u001B[0m \u001B[32m281.4/281.4 kB\u001B[0m \u001B[31m8.5 MB/s\u001B[0m eta \u001B[36m0:00:00\u001B[0m\n",
      "\u001B[?25h  Preparing metadata (setup.py) ... \u001B[?25ldone\n",
      "\u001B[?25hRequirement already satisfied: numpy>=1.16.0 in /Users/cyrilpillai/opt/anaconda3/lib/python3.9/site-packages (from fanc) (1.24.4)\n",
      "Requirement already satisfied: scipy in /Users/cyrilpillai/opt/anaconda3/lib/python3.9/site-packages (from fanc) (1.9.1)\n",
      "Requirement already satisfied: pillow in /Users/cyrilpillai/opt/anaconda3/lib/python3.9/site-packages (from fanc) (9.2.0)\n",
      "Requirement already satisfied: matplotlib>=3.1.0 in /Users/cyrilpillai/opt/anaconda3/lib/python3.9/site-packages (from fanc) (3.5.2)\n",
      "Requirement already satisfied: pandas>=0.15.0 in /Users/cyrilpillai/opt/anaconda3/lib/python3.9/site-packages (from fanc) (1.4.4)\n",
      "Requirement already satisfied: pysam>=0.9.1 in /Users/cyrilpillai/opt/anaconda3/lib/python3.9/site-packages (from fanc) (0.22.0)\n",
      "Requirement already satisfied: biopython in /Users/cyrilpillai/opt/anaconda3/lib/python3.9/site-packages (from fanc) (1.81)\n",
      "Requirement already satisfied: pytest in /Users/cyrilpillai/opt/anaconda3/lib/python3.9/site-packages (from fanc) (7.1.2)\n",
      "Requirement already satisfied: msgpack>=1.0.0 in /Users/cyrilpillai/opt/anaconda3/lib/python3.9/site-packages (from fanc) (1.0.3)\n",
      "Requirement already satisfied: msgpack-numpy>=0.4.6.1 in /Users/cyrilpillai/opt/anaconda3/lib/python3.9/site-packages (from fanc) (0.4.8)\n",
      "Requirement already satisfied: scikit-learn in /Users/cyrilpillai/opt/anaconda3/lib/python3.9/site-packages (from fanc) (1.0.2)\n",
      "Requirement already satisfied: progressbar2 in /Users/cyrilpillai/opt/anaconda3/lib/python3.9/site-packages (from fanc) (4.2.0)\n",
      "Requirement already satisfied: pybedtools in /Users/cyrilpillai/opt/anaconda3/lib/python3.9/site-packages (from fanc) (0.9.1)\n",
      "Requirement already satisfied: pyBigWig in /Users/cyrilpillai/opt/anaconda3/lib/python3.9/site-packages (from fanc) (0.3.22)\n",
      "Requirement already satisfied: PyYAML>=5.1 in /Users/cyrilpillai/opt/anaconda3/lib/python3.9/site-packages (from fanc) (6.0)\n",
      "Requirement already satisfied: tables>=3.5.1 in /Users/cyrilpillai/opt/anaconda3/lib/python3.9/site-packages (from fanc) (3.6.1)\n",
      "Requirement already satisfied: seaborn in /Users/cyrilpillai/opt/anaconda3/lib/python3.9/site-packages (from fanc) (0.11.2)\n",
      "Requirement already satisfied: future in /Users/cyrilpillai/opt/anaconda3/lib/python3.9/site-packages (from fanc) (0.18.2)\n",
      "Requirement already satisfied: gridmap>=0.14.0 in /Users/cyrilpillai/opt/anaconda3/lib/python3.9/site-packages (from fanc) (0.15.0)\n",
      "Requirement already satisfied: intervaltree in /Users/cyrilpillai/opt/anaconda3/lib/python3.9/site-packages (from fanc) (3.1.0)\n",
      "Requirement already satisfied: genomic_regions>=0.0.10 in /Users/cyrilpillai/opt/anaconda3/lib/python3.9/site-packages (from fanc) (0.0.10)\n",
      "Requirement already satisfied: scikit-image>=0.15.0 in /Users/cyrilpillai/opt/anaconda3/lib/python3.9/site-packages (from fanc) (0.19.2)\n",
      "Requirement already satisfied: cooler>=0.8.0 in /Users/cyrilpillai/opt/anaconda3/lib/python3.9/site-packages (from fanc) (0.9.2)\n",
      "Requirement already satisfied: h5py in /Users/cyrilpillai/opt/anaconda3/lib/python3.9/site-packages (from fanc) (3.7.0)\n",
      "Requirement already satisfied: Deprecated in /Users/cyrilpillai/opt/anaconda3/lib/python3.9/site-packages (from fanc) (1.2.14)\n",
      "Requirement already satisfied: click>=7 in /Users/cyrilpillai/opt/anaconda3/lib/python3.9/site-packages (from cooler>=0.8.0->fanc) (8.0.4)\n",
      "Requirement already satisfied: cytoolz in /Users/cyrilpillai/opt/anaconda3/lib/python3.9/site-packages (from cooler>=0.8.0->fanc) (0.11.0)\n",
      "Requirement already satisfied: multiprocess in /Users/cyrilpillai/opt/anaconda3/lib/python3.9/site-packages (from cooler>=0.8.0->fanc) (0.70.15)\n",
      "Requirement already satisfied: pyfaidx in /Users/cyrilpillai/opt/anaconda3/lib/python3.9/site-packages (from cooler>=0.8.0->fanc) (0.7.2.1)\n",
      "Requirement already satisfied: asciitree in /Users/cyrilpillai/opt/anaconda3/lib/python3.9/site-packages (from cooler>=0.8.0->fanc) (0.3.3)\n",
      "Requirement already satisfied: simplejson in /Users/cyrilpillai/opt/anaconda3/lib/python3.9/site-packages (from cooler>=0.8.0->fanc) (3.19.1)\n",
      "Requirement already satisfied: cloudpickle in /Users/cyrilpillai/opt/anaconda3/lib/python3.9/site-packages (from gridmap>=0.14.0->fanc) (2.0.0)\n",
      "Requirement already satisfied: drmaa in /Users/cyrilpillai/opt/anaconda3/lib/python3.9/site-packages (from gridmap>=0.14.0->fanc) (0.7.9)\n",
      "Requirement already satisfied: psutil>=2.0.0 in /Users/cyrilpillai/opt/anaconda3/lib/python3.9/site-packages (from gridmap>=0.14.0->fanc) (5.9.0)\n",
      "Requirement already satisfied: pyzmq in /Users/cyrilpillai/opt/anaconda3/lib/python3.9/site-packages (from gridmap>=0.14.0->fanc) (23.2.0)\n",
      "Requirement already satisfied: cycler>=0.10 in /Users/cyrilpillai/opt/anaconda3/lib/python3.9/site-packages (from matplotlib>=3.1.0->fanc) (0.11.0)\n",
      "Requirement already satisfied: fonttools>=4.22.0 in /Users/cyrilpillai/opt/anaconda3/lib/python3.9/site-packages (from matplotlib>=3.1.0->fanc) (4.25.0)\n",
      "Requirement already satisfied: kiwisolver>=1.0.1 in /Users/cyrilpillai/opt/anaconda3/lib/python3.9/site-packages (from matplotlib>=3.1.0->fanc) (1.4.2)\n",
      "Requirement already satisfied: packaging>=20.0 in /Users/cyrilpillai/opt/anaconda3/lib/python3.9/site-packages (from matplotlib>=3.1.0->fanc) (21.3)\n",
      "Requirement already satisfied: pyparsing>=2.2.1 in /Users/cyrilpillai/opt/anaconda3/lib/python3.9/site-packages (from matplotlib>=3.1.0->fanc) (3.0.9)\n",
      "Requirement already satisfied: python-dateutil>=2.7 in /Users/cyrilpillai/opt/anaconda3/lib/python3.9/site-packages (from matplotlib>=3.1.0->fanc) (2.8.2)\n",
      "Requirement already satisfied: pytz>=2020.1 in /Users/cyrilpillai/opt/anaconda3/lib/python3.9/site-packages (from pandas>=0.15.0->fanc) (2022.1)\n",
      "Requirement already satisfied: six in /Users/cyrilpillai/opt/anaconda3/lib/python3.9/site-packages (from pybedtools->fanc) (1.16.0)\n",
      "Requirement already satisfied: networkx>=2.2 in /Users/cyrilpillai/opt/anaconda3/lib/python3.9/site-packages (from scikit-image>=0.15.0->fanc) (2.8.4)\n",
      "Requirement already satisfied: imageio>=2.4.1 in /Users/cyrilpillai/opt/anaconda3/lib/python3.9/site-packages (from scikit-image>=0.15.0->fanc) (2.19.3)\n",
      "Requirement already satisfied: tifffile>=2019.7.26 in /Users/cyrilpillai/opt/anaconda3/lib/python3.9/site-packages (from scikit-image>=0.15.0->fanc) (2021.7.2)\n",
      "Requirement already satisfied: PyWavelets>=1.1.1 in /Users/cyrilpillai/opt/anaconda3/lib/python3.9/site-packages (from scikit-image>=0.15.0->fanc) (1.3.0)\n",
      "Requirement already satisfied: numexpr>=2.6.2 in /Users/cyrilpillai/opt/anaconda3/lib/python3.9/site-packages (from tables>=3.5.1->fanc) (2.8.3)\n",
      "Requirement already satisfied: wrapt<2,>=1.10 in /Users/cyrilpillai/opt/anaconda3/lib/python3.9/site-packages (from Deprecated->fanc) (1.14.1)\n",
      "Requirement already satisfied: sortedcontainers<3.0,>=2.0 in /Users/cyrilpillai/opt/anaconda3/lib/python3.9/site-packages (from intervaltree->fanc) (2.4.0)\n",
      "Requirement already satisfied: python-utils>=3.0.0 in /Users/cyrilpillai/opt/anaconda3/lib/python3.9/site-packages (from progressbar2->fanc) (3.7.0)\n",
      "Requirement already satisfied: attrs>=19.2.0 in /Users/cyrilpillai/opt/anaconda3/lib/python3.9/site-packages (from pytest->fanc) (21.4.0)\n",
      "Requirement already satisfied: iniconfig in /Users/cyrilpillai/opt/anaconda3/lib/python3.9/site-packages (from pytest->fanc) (1.1.1)\n",
      "Requirement already satisfied: pluggy<2.0,>=0.12 in /Users/cyrilpillai/opt/anaconda3/lib/python3.9/site-packages (from pytest->fanc) (1.0.0)\n",
      "Requirement already satisfied: py>=1.8.2 in /Users/cyrilpillai/opt/anaconda3/lib/python3.9/site-packages (from pytest->fanc) (1.11.0)\n",
      "Requirement already satisfied: tomli>=1.0.0 in /Users/cyrilpillai/opt/anaconda3/lib/python3.9/site-packages (from pytest->fanc) (2.0.1)\n"
     ]
    },
    {
     "name": "stdout",
     "output_type": "stream",
     "text": [
      "Requirement already satisfied: joblib>=0.11 in /Users/cyrilpillai/opt/anaconda3/lib/python3.9/site-packages (from scikit-learn->fanc) (1.1.0)\n",
      "Requirement already satisfied: threadpoolctl>=2.0.0 in /Users/cyrilpillai/opt/anaconda3/lib/python3.9/site-packages (from scikit-learn->fanc) (2.2.0)\n",
      "Requirement already satisfied: typing-extensions>3.10.0.2 in /Users/cyrilpillai/opt/anaconda3/lib/python3.9/site-packages (from python-utils>=3.0.0->progressbar2->fanc) (4.7.1)\n",
      "Requirement already satisfied: toolz>=0.8.0 in /Users/cyrilpillai/opt/anaconda3/lib/python3.9/site-packages (from cytoolz->cooler>=0.8.0->fanc) (0.11.2)\n",
      "Requirement already satisfied: dill>=0.3.7 in /Users/cyrilpillai/opt/anaconda3/lib/python3.9/site-packages (from multiprocess->cooler>=0.8.0->fanc) (0.3.7)\n",
      "Requirement already satisfied: setuptools in /Users/cyrilpillai/opt/anaconda3/lib/python3.9/site-packages (from pyfaidx->cooler>=0.8.0->fanc) (63.4.1)\n",
      "Building wheels for collected packages: fanc\n",
      "  Building wheel for fanc (setup.py) ... \u001B[?25ldone\n",
      "\u001B[?25h  Created wheel for fanc: filename=fanc-0.9.27-cp39-cp39-macosx_10_9_x86_64.whl size=304797 sha256=c8f51198da67d0cc7709a3946cfd9d7706462d829a572601098d9affeb086d00\n",
      "  Stored in directory: /Users/cyrilpillai/Library/Caches/pip/wheels/51/97/74/21d19f5c8639baae1865fbb48128f42c2ec098273f85110c43\n",
      "Successfully built fanc\n",
      "Installing collected packages: fanc\n",
      "Successfully installed fanc-0.9.27\n",
      "Requirement already satisfied: texttable in /Users/cyrilpillai/opt/anaconda3/lib/python3.9/site-packages (1.7.0)\n",
      "Requirement already satisfied: opencv-python in /Users/cyrilpillai/opt/anaconda3/lib/python3.9/site-packages (4.8.1.78)\n",
      "Requirement already satisfied: numpy>=1.17.0 in /Users/cyrilpillai/opt/anaconda3/lib/python3.9/site-packages (from opencv-python) (1.24.4)\n"
     ]
    }
   ],
   "source": [
    "!pip install --upgrade pip\n",
    "!pip uninstall -y fanc\n",
    "!pip uninstall -y pysam\n",
    "!pip install Cython\n",
    "!pip install pysam\n",
    "!pip install fanc\n",
    "!pip install texttable\n",
    "!pip install opencv-python"
   ]
  },
  {
   "cell_type": "code",
   "execution_count": 14,
   "metadata": {
    "id": "84rDKb0wx6jk",
    "pycharm": {
     "name": "#%%\n"
    }
   },
   "outputs": [],
   "source": [
    "import matplotlib.pyplot as plt\n",
    "import numpy as np\n",
    "import os\n",
    "import pprint\n",
    "import joblib\n",
    "from skimage.io import imread\n",
    "from skimage.transform import resize\n",
    "from skimage.feature import hog\n",
    "from skimage.io import imread\n",
    "from skimage.transform import rescale\n",
    "from sklearn.linear_model import SGDClassifier\n",
    "from sklearn.model_selection import cross_val_predict\n",
    "from sklearn.preprocessing import StandardScaler, Normalizer\n",
    "import skimage\n",
    "\n",
    "import os\n",
    "import subprocess\n",
    "import pandas as pd\n",
    "import sklearn\n",
    "import numpy as np\n",
    "import matplotlib.pyplot as plt\n",
    "import seaborn as sns\n",
    "from sklearn.feature_selection import SelectFromModel\n",
    "import pickle as pkl\n",
    "from texttable import Texttable\n",
    "import matplotlib.pyplot as plt\n",
    "# import fanc.plotting as fancplot\n",
    "from skimage import io, img_as_ubyte,color\n",
    "import cv2\n",
    "from numpy.linalg import norm\n",
    "import numpy as np\n",
    "import pandas as pd\n",
    "# import fanc.plotting as fancplot\n",
    "import plotly.express as px\n",
    "import plotly.subplots as sp\n",
    "import skimage\n",
    "from skimage.util import crop\n",
    "import plotly\n",
    "from PIL import Image"
   ]
  },
  {
   "cell_type": "markdown",
   "metadata": {
    "id": "Zr9RI5zYxiL0",
    "pycharm": {
     "name": "#%% md\n"
    }
   },
   "source": [
    "#Package Installation Part 2\n",
    "This will restart the runtime. After the runtime restarts, continue to \"Loading the file\".\n",
    "\n",
    "These cells do not need to be opened."
   ]
  },
  {
   "cell_type": "code",
   "execution_count": 15,
   "metadata": {
    "colab": {
     "base_uri": "https://localhost:8080/"
    },
    "id": "X7rixGrqxhJo",
    "outputId": "5d6f1652-db4f-4674-a621-c68b8c8bfdc8",
    "pycharm": {
     "name": "#%%\n"
    }
   },
   "outputs": [
    {
     "ename": "RuntimeError",
     "evalue": "This module must ONLY run as part of a Colab notebook!",
     "output_type": "error",
     "traceback": [
      "\u001B[0;31m---------------------------------------------------------------------------\u001B[0m",
      "\u001B[0;31mModuleNotFoundError\u001B[0m                       Traceback (most recent call last)",
      "\u001B[0;32m~/opt/anaconda3/lib/python3.9/site-packages/condacolab.py\u001B[0m in \u001B[0;36m<module>\u001B[0;34m\u001B[0m\n\u001B[1;32m     25\u001B[0m \u001B[0;32mtry\u001B[0m\u001B[0;34m:\u001B[0m\u001B[0;34m\u001B[0m\u001B[0;34m\u001B[0m\u001B[0m\n\u001B[0;32m---> 26\u001B[0;31m     \u001B[0;32mimport\u001B[0m \u001B[0mgoogle\u001B[0m\u001B[0;34m.\u001B[0m\u001B[0mcolab\u001B[0m\u001B[0;34m\u001B[0m\u001B[0;34m\u001B[0m\u001B[0m\n\u001B[0m\u001B[1;32m     27\u001B[0m \u001B[0;32mexcept\u001B[0m \u001B[0mImportError\u001B[0m\u001B[0;34m:\u001B[0m\u001B[0;34m\u001B[0m\u001B[0;34m\u001B[0m\u001B[0m\n",
      "\u001B[0;31mModuleNotFoundError\u001B[0m: No module named 'google'",
      "\nDuring handling of the above exception, another exception occurred:\n",
      "\u001B[0;31mRuntimeError\u001B[0m                              Traceback (most recent call last)",
      "\u001B[0;32m/var/folders/c4/fgl24c2d5j9_dddbbl8lm4p40000gn/T/ipykernel_22900/1023284214.py\u001B[0m in \u001B[0;36m<module>\u001B[0;34m\u001B[0m\n\u001B[1;32m      1\u001B[0m \u001B[0mget_ipython\u001B[0m\u001B[0;34m(\u001B[0m\u001B[0;34m)\u001B[0m\u001B[0;34m.\u001B[0m\u001B[0msystem\u001B[0m\u001B[0;34m(\u001B[0m\u001B[0;34m'pip install -q condacolab'\u001B[0m\u001B[0;34m)\u001B[0m\u001B[0;34m\u001B[0m\u001B[0;34m\u001B[0m\u001B[0m\n\u001B[0;32m----> 2\u001B[0;31m \u001B[0;32mimport\u001B[0m \u001B[0mcondacolab\u001B[0m\u001B[0;34m\u001B[0m\u001B[0;34m\u001B[0m\u001B[0m\n\u001B[0m\u001B[1;32m      3\u001B[0m \u001B[0mcondacolab\u001B[0m\u001B[0;34m.\u001B[0m\u001B[0minstall\u001B[0m\u001B[0;34m(\u001B[0m\u001B[0;34m)\u001B[0m\u001B[0;34m\u001B[0m\u001B[0;34m\u001B[0m\u001B[0m\n",
      "\u001B[0;32m~/opt/anaconda3/lib/python3.9/site-packages/condacolab.py\u001B[0m in \u001B[0;36m<module>\u001B[0;34m\u001B[0m\n\u001B[1;32m     26\u001B[0m     \u001B[0;32mimport\u001B[0m \u001B[0mgoogle\u001B[0m\u001B[0;34m.\u001B[0m\u001B[0mcolab\u001B[0m\u001B[0;34m\u001B[0m\u001B[0;34m\u001B[0m\u001B[0m\n\u001B[1;32m     27\u001B[0m \u001B[0;32mexcept\u001B[0m \u001B[0mImportError\u001B[0m\u001B[0;34m:\u001B[0m\u001B[0;34m\u001B[0m\u001B[0;34m\u001B[0m\u001B[0m\n\u001B[0;32m---> 28\u001B[0;31m     \u001B[0;32mraise\u001B[0m \u001B[0mRuntimeError\u001B[0m\u001B[0;34m(\u001B[0m\u001B[0;34m\"This module must ONLY run as part of a Colab notebook!\"\u001B[0m\u001B[0;34m)\u001B[0m\u001B[0;34m\u001B[0m\u001B[0;34m\u001B[0m\u001B[0m\n\u001B[0m\u001B[1;32m     29\u001B[0m \u001B[0;34m\u001B[0m\u001B[0m\n\u001B[1;32m     30\u001B[0m \u001B[0;34m\u001B[0m\u001B[0m\n",
      "\u001B[0;31mRuntimeError\u001B[0m: This module must ONLY run as part of a Colab notebook!"
     ]
    }
   ],
   "source": [
    "!pip install -q condacolab\n",
    "import condacolab\n",
    "condacolab.install()"
   ]
  },
  {
   "cell_type": "markdown",
   "metadata": {
    "id": "wsj1DnhmyM1l",
    "pycharm": {
     "name": "#%% md\n"
    }
   },
   "source": [
    "# Loading the File\n",
    "\n",
    "Please open these cells to enter your file URL."
   ]
  },
  {
   "cell_type": "markdown",
   "metadata": {
    "id": "CblfGG7dJK5n",
    "pycharm": {
     "name": "#%% md\n"
    }
   },
   "source": [
    "The following steps should be followed in order to find an appropriate HIC file in the 4D Nucleome data portal\n",
    "\n",
    "\n",
    "1.   Navigate to this [link](https://data.4dnucleome.org/browse/?experiments_in_set.biosample.tissue_organ_info.tissue_source=uterine+cervix&experiments_in_set.biosample.tissue_organ_info.tissue_source=definitive+endoderm&experiments_in_set.biosample.tissue_organ_info.tissue_source=stem+cell&experiments_in_set.biosample.tissue_organ_info.tissue_source=colon&experiments_in_set.biosample.tissue_organ_info.tissue_source=B-lymphocyte&experiments_in_set.biosample.tissue_organ_info.tissue_source=skin+fibroblast&experiments_in_set.experiment_type.display_title=in+situ+Hi-C&experiments_in_set.experiment_type.display_title=Dilution+Hi-C&experiments_in_set.experiment_type.display_title=Micro-C&experiments_in_set.experiment_type.display_title=DNase+Hi-C&experiments_in_set.experiment_type.display_title=TCC&experiments_in_set.experiment_type.experiment_category=Sequencing&experimentset_type=replicate&type=ExperimentSetReplicate)\n",
    "2.  After navigating to this page select one of the rows (experiments) by clicking one of  the cells under the column \"Title\"\n",
    "3.  The new page will be for the experiment selected. The bottom right of the new page will have another table with the section title \"Processed Files\". From this table select the file with the file type contact matrix (hic).\n",
    "4. The new page should have a similair format to the one below. Paste the url into the following cell."
   ]
  },
  {
   "cell_type": "markdown",
   "metadata": {
    "id": "FiU8FQ_g2_Wf",
    "pycharm": {
     "name": "#%% md\n"
    }
   },
   "source": [
    "![Screenshot 2023-12-06 144430.png](data:image/png;base64,iVBORw0KGgoAAAANSUhEUgAAB3sAAALjCAYAAAAbVm/7AAAAAXNSR0IArs4c6QAAAARnQU1BAACxjwv8YQUAAAAJcEhZcwAADsEAAA7BAbiRa+0AAABtaVRYdFNuaXBNZXRhZGF0YQAAAAAAeyJjbGlwUG9pbnRzIjpbeyJ4IjotOTYsInkiOi0xMTF9LHsieCI6MTgxOSwieSI6LTExMX0seyJ4IjoxODE5LCJ5Ijo2Mjh9LHsieCI6LTk2LCJ5Ijo2Mjh9XX3y35MtAAD/LElEQVR4XuzdB4AU5f3/8c9eB+44OghIUUFFQEBQLCCxx4JdI7YYSwq2xJjyU1M1MTEmJkry+1nyT9TYjYolUaJRsGNBQBRQlCog7eDg+u1/vs/M3u3u7e7tXoE7eL9gbqfP7OzMMzPPd55nQmPGjA0LaKZQKKT8/Dzl5eUrKyvba7K8JuT6Z+KBDxcHbQCAljBlvyFBGwAAAAAAAIDWFg6HVVtrTa3X1KiiokKVlZWuP9AasoJPoElyc3NVXNxZPXr0UFFRZ+Xn53v9cpSdnZVxoBcAAAAAAAAAAKA9s9iIxUgsVmIxk86d/RhKcXGxi6kALY1gL5okJydXXboUe00XV5oXAAAAAAAAAAAgM1baddco8ZqXl+diKhZbsRgL0FII9iJjVl2zJUa5uXlBHwAAAAAAAAAAgEztejWEWmzFYiwUpENLIdiLjHTo0MFV10wVzQAAAAAAAAAAoPl2vXiDxVg6dy5yMReguUJjxozljdBIiyU6hYWFQVfreODDxUFbvSn7DQnaAACpkIYCAAAAAAAA7Utp6RaVlZUHXUDmKNmLtNhLwzt16hR0AQAAAAAAAAAAoLk6dSp07/NFy6qorND6TWu0Yu1nWrz0Q5Ws+1xrly3W1vWrVLFptdauXaPamupg7PaNYC8alZ2dpeLiYqpuBgAAAAAAAAAAaEEWeykqKlJ2dnbQB81RVV2lVetWaPGKhVq9cZW2lG9SWU2Vjj10nMYN6atjhvXU8cO6asXK5Vq7bqX69O6t3JzcYOr2iWAvGlVYyDt6AQAAAAAAAAAAWkNWVpYKC6ldtbkqqyq1bPUSlWzd5LZpViikHGWpurJaFcpT8cDh6ty5g7oUZGvfof3Ub8AAHXLI4Ro7Zozy8/KDubQ/BHvbua9+9Tgde+wxQVfLy8nJVV5e+36iAQAAAAAAAAAAoDVZVczNqY45NzdPOTk5QVfLKiws3Olf1VleUa6lqz9TbXVYOcpWXnaWckK5Ki+r1pBBeyqnsFidi6uVX5inVRvLddKEsRq8W1d9PP89de2Qq69MnKCOHdrnNgqNGTM2HLRnrHPnzpo69dvuxdG33fbHoO/2NWbMaBed/+CDuaqqqgr6tq6OHTtq0qTD1a9fP/Xtu5srWr9y5UotW7ZcM2fO1Nat29x4X/3qsfrXv5537a3htNNO1SGHHOza//vfl/Xss8+59pZkv3F+/vZ7muGBDxcHbfWm7DckaAMApEIaCgAAAAAAAEi77767q7F02bJlQZ/WN2rUKIW9fx/M+SDok7mKigpt3rw56GoZ++8/Uuec8zXXfu+992nBgo9ce2v53e9+G7Rl5vvf/0HQlrlwuFZLl3+u8optCmVnKZRlrygNqbysQoccMkEnH3OEli5ZqdJlr2mfQd31+coKDd5nT61YtULvzZmvvPxChXOL1KX3nvps6UrVhpscOt0hmlyyNxLo7d69uwoKCoK+258FWm35trPm5rZ+CdSRI0foRz/6gY444ivae++hrh51C/4OGTJERx55hH7wg2s1YsQIV+L2yCOPDKZqeZFA7/r167VhwwZ95SuTdOqpJwdDW4YlhE19CiUvP19HHXucvnPFVZp61dU68uhjt8vvAwAAAAAAAAAAdm0Wjzj5lJPVq1evoE/rGzV6tEaPHhN0NY3FZFr6tZoWs7ISw9ZYQHpntHHTBlVXlSsrO0vKyVYoN1uVNZUaMHiILph8lIpKFurjD+YqX1kq8LbDkL37K69TJ3XqmK+9+harX7c8dc/dotUfv6zs6pJgri3L4oYWCG+N2nqbVLLXAr2XX/4ddevWzQUa77jjzy3+pEG6rNTpyJEjvc8898TDnDkftFoJ3/HjD9IZZ5zu2l988SW9/vobKinxf/QuXbpo4sQJOuywQ11J44jmPImQjD2BccABY1ygd9q0v7h+3/nOt9WjR3e9+eZbeuyxx12/5rJta791Uxxz3FfV0TtQZr78suuedMSR2rRxg176zwzXnUz6pdKu1J+nH6SNd52r654OerW2q6Zp+pFdNC/VMk+6UQ9c2lVvTZ6q1izrftJN/9ClXd/S5O/8Keizaxp//g81ZPFvdN+bXseAM3X5lD1UqHIt+M8qDTiqr5Y98EdNX+YNmnyVphTP0833veRPiMy57dtJ79z8N9nmjhbzO0QEv0fJy/X9bbxJ/fz2OqVL9MAdj6r++bp9NPnykzWscI1ejl9W/DqM/7p+NKm3G1Rn5Wz/d7ZhY7fWzTuzZQedEZF5RnH71LDgQae4+diyxpY8pTumf+x1JZqnt48G+2b9fhvXP9F3C6yM2qaOzWOyNN1bh5sp2QsAAAAAAABor7320mETDlOHggI9/PAjLpbVmgYOHKjTTj/NtT/22GNavmy5a2+KkpLNqqysCLoy16NHD51xxmkKWfFWT+/evVw1zqa0tFRr1qx17VYa9tFHH3exppYUKdmbKj6WqPRvU+Np1dXVWr76c1WHLNzpNVlZsphvZWWlzjhxso4Zmq/KDavUs0cfbdu2QdX5HVW2rVTbqrO1fu0qb5uUKT+vk7aWVai8ulzhmrDeXVmocKhlq9S+8cZfuMKr27Zt009+8rOgb8vIuGSvBTXbSqDXWIB37ty53melC06OGrV/q5Qg7dq1i045xS85++ijj+lf//p3XaDXbNq0SdOnP62PPmq94u/2NMd5553rAr1ffvmlbr99mtv21txxxzStXfulC0h/7WtnB1M0T14zXka919C99fy/ntOG9etc8+KM5zV0732CoduZBWCnT9NVQWfTnKSbDuoftKNNGHCmxvZbo8Uu6LWPJk/2A4s33/xHTX/nUd1hn/VRPLSWmN+h3vjDIwHMWKULnvJ+I/ud/Oblkj005UdXafKAYASn3DvB9tbYyWmkGRZojZpfqoB+esv2g6n14z2lBcXj9KMffV3jg+Eu0DtgVd1yH1jWV1POPyIYmljsPKMDvfZQQtD/gVUaMCVYzpt/qxv/gQXlfsA56I4J9HpsW2vZvKigNQAAAAAAALDr6dmzpys9+Z2p39FJk0/SF1+s1qxZr+r0M05Xly7FwVitY/9Ro9zy1qxZ3ezSs3l5zYtxHXXUES7Yveeee7gmEug11h7pb+McdVTr1VC7vWwu26IKC/TmZntNlrLzQt5GzFFux07qUb5ac99+VzlF/dV7YD/1HjpcA/cZoUNP/o569xusyi3rVVzYUdnepFXhGhXkhtTRm8duxS1fjfObb/oZu6+99rr7bEkZBXvbWqA3YnsEfCdMmOCKuM+e/Y7eeuvtoG+sU089Rfvtt1/Q1bKstPCFF17gvtvq1atdoNeewIiw9mnTprlhY8ceoHPPneKCw81hVWQ3lb3ou2yb/+5iU7Jpkzp07Bh0tUNXHacRm1ZoRdCJHW/AqL7SgjeDkp99vQS5XCWrXAe2o9jfIWAB4OI1WlmfRCX15n0WzJSGHR4dLC1QybIlXs9jGwRiW1LiZcf7WNPv+I1eXhkJPu+jUQMKtPKd+pK8y6bP08p+IzJeV9t2hSvn1T+UsOxRvVO3nHQdoSH91ugdV4oYAAAAAAAA2PlZMDfeAQccoJNPmaylS5fqr/fcoz/8/g96/t//1vz58/Xif17UWWedpa5duwZjN53FXaxWUwssDxo0SMP2G6YDDzzQBU/nzZ2ruR/M89r31LgDx2nYsH3dODauTZNuzMZiUc2RSXysuYHltqBv357ac1B/1WRJVTkhlYVrvPaQDj/qRO1/3CWacN71GnzQKVq9prM6Fw/XwAPO1pdlufpk4Yf+QwDhWpVuLVO+N235xm3auq5EPfNbvgbhZ555zpVefv75F4I+LSftYG8k0GufbSnQG9HaAd/hw/0g7syZM91nvOOP/6oOPfSQoKtlZWdn6aKLvu7WYdWqVW7bWzHveFu3bnPVOq9cuVKjR4/SBRecF1OldKZsuU1x4cWXus9rf3xdTGMJ1AUXXeyGZe4k3fTAU5o+3W8euCm+nn2r1rl++PQHbvSm8FjVy5eOUKH660jr/+cr3diuf9T4D9zkxk7Cm7dV3/yvhUF3tNjl/jlS9M/x1/nPV0WP8w/VL8r6R3d7bL0i6x646s/185+etIRy7HrEfp/YbRe7Dt7Qm/7htkv9cvxluP4J5xc7LPk6mdj1ih032D43Wclrb1jd947bXlclKpltATdp2ZyP/dKRPxqnfirQsCk/1I8uP1MDdITOT1Bis54N98YNmsujgmtWajPSP7o0Z0JW1a4tzz4j07jlRwTrMTkYHin9GT1+dP86VvVv1PCoeSZfv2TfKfl3jV2P+O0VO935CR9Gi/od6gSlrN95U+m+2WDZnFUq7TcgdluvfVTTLRA7OXp7tryEy07gzcVrVDhgRJJ1WaWS0gIV9w06m2FVSbkKM5nR+AHqt3JZg6q1AQAAAAAAgF2Fvepz+IgRevSRx7RgwUcqL4+tAnnJkiVavPgTHXHEV4I+TdepU6HOPPMMnXf+eTr1tFO9eR6hESOGa+WKFVq4cKE+/vhjrVr1hUZ663PEkUe6cWzcM8883U2bjubEdXwt+87ftq5HcbGOPWC8zhp7gIb37q0x+4zWr274va666Ds66OCJGjP+SPUfvK+6DjpQpVWdtejTz/T8vb9WTekahUP52rplqyq3bFNuTY06dChQlmoU2rQmmHv7kPYe853vfMsFeo2V7P3JT653dWqnaq6+OnkIKFMWvLT34aZqxo0b697dayzgay+dbilFRUXuc/XqxD/wc8/9y0Xk45uWcP7552vfff0ATd++fb2Eqty1J1JWVqZ+/fwXU9r3t2qfm6qpJYNTvfC8d58+QVsmLCh4iQZ/drcmTz7ZNW91HaGYSpWv2lt60R82efKLWlE4Ql+13e+PUzX5rnkq1Qq9aMOCd9y60YN5TX5xhQpHHJc0YHnVn49Ul3kPJXhPrwUlj4xa7t3aONgCy7H6H7m3FgbLenFFoUacExvMTcUCsEfqxWD+J+uueRuDIdHi1+NFbRrxtSCg62+7EZvq5zH5xU0acWlc8LT/kdp7oT/8xRV+YPwcPRSMH7t93PuCB3+mu4L53TWvi46MBNFj+OvVZV797+bGjQtm9x8sPWjDp1yvpxt8l4ekgxpuU40fr2FapTlWInKZVdk8Wyvd+05/o5tj3sGaiAUxx0l11erOVkmkBOmAMzV5WIleDqrLvfnlNCrGLdxDU4Ysq6ti11UNHBO8LdCw4mB45F2yk4r9dXXT+NUE1wdh/Xe8DlhWX+VwZDUaVB+8oFiTgmWNP3+ciuuqKX5K7/ivXUja318PbzME87r55ZKowGr8NnpKJQMSVMsc/TsEBkw+VsNKZjeoajilZetVomL1ioukLpv+vBZoD28/iApQt7Qky25g1VaVFnZSX33sfd9y9RsbFYS27ZDedVoMP9AcXSL4CB0eeQ9wWrx9ZWxvrVzMu6gBAAAAAACwa+rcuUgHH3KwHnv0kZhXb0YbOnSoBg0a6OI4zVVaukUPP/Rw3XtvP/jgA91zz1/1yCOPunfHWvPIww+7fjbM2LgPP/SImzYdzQ32zpgxQ3//+7369NMlQZ/krBTyN795mYuvtVdvfLhA6ytDqqiq1KShe+qq00/VMQeMUvWyRfrPQ/+rj96ZoU8WzFZF9hYt37BUr894TB0699e2mi76ct0mFRR11qFfOUpHHHOyjj3jIu17yFHKymn5apytinGLnR577DFBn5aT9h4TDmf+xZoyTVtVW1vrPlvjfcCNsZdnL1y4KOhK36JFi9WnT++gK3Nt5vc76SANLlyht6KirX/8zouxVSr/caq+88egXX/SQm9gl17JQ6p//M5U1Y3+x4XevLoo4ehXTdORXebpwYaRXhcx7l86T/+qm9HTuu5BCyzHWvFi/bL++C9veGFX7RF0p3TSjTqo/wq9GASozdPXXV+/3hEN1uNP8hajweO9LxRsu+h56I//1rzS/to7Otq74sW67fdH23jeFqnb3jHb5ySNH1yoFW9ZYNb39HVvaUX/vRsGy4P1it52btzCwbJVi4ieV7rbdPyQ3jHV6GbESkKWLtErdcHIl/TKAmnAqEhAMSrw9+ZLjZeYtHfGRr0n9s1XlsSVFC3Xglfqh9u6ly54Pup9wh9r+jtRpUZdAHWJpkdVy/vmdPuuyaoPrl9WfYnQj/Xmm/XTJ+rvr0dU9ctvvqkF6utK6jbcRt46Tve+V9AV0eB3iATLU7w3NzP+cjVsfPKStxZsjy6B3FgR3RawbPofg/f9BssdslULGqmyut+k+nWsK6ltDypYkN1KpLthA1Ri7+dNl9tnon8nAAAAAAAAYNdy0Pjxevut2crJzdPe++ztSt1+93vfdY0F14YPH66vHPEVPfnkU66wXEuwAnkW0F2+fJnGjh2rY449JqbwnLVbPxtm49i4qQrxxWtubMYKLc6bN1933XW3qqpSV0ds7/AdMmQvnX32WXUFCdubrHCVnvj345rx4Ty9umipHn7+v/rV7b/VIzOf17/ffUtPP/GgFs5+Se++8qTefesVVdUWaEt1gfK7DtKIg7+qo796hkaM2F977jNKfQcMUceizsrLbvlYYKR24NaoJTjtYO9f/vJ/2rRpk2u3apx/8YsbE5ZkjW7++MeoAFMzvf/+HL366mspG3uXrlXnbOxz3rx5rr0lbNjgl6jcbbfGS6bawXHWWWe6d+e2hN/85hZ3UGbqzjvv0m9/+7ugK3PhsB/g3uH26KrC0o1K/QxKbFXFR8YU+03gpKDqYNccGVtKOMLGseqbH4wKRkY5qVcXadPahMNaRFrfO1iPwhG6tO77PKVLRxSqsOvgJPN4Wmu9QzlpMHzJRpUmXe5gdS20gsD1y/K3X8NgeeLt85k2lhaqa5Jod3rb1H9H6eImBrgG9CpuECCcMqzAD4ha8O2BVRoQBN/qA4exVRrHVtUcx5UUTWYf2eJL1kZXe+ypKzUarF/J+gSBbHsvcVzQ0FVf7Qen7f2zL2tcg/VL3N9fj8JhJ0fN62QNK/SrIk6+DtHifwdvG03ZQyUv/y3zKoUHdPe+RYnWJlpg8B7bSAnmBizYHimd7DUZlSg2qZYdrW8n71jaqshroW27RpZ58332Ev/U74xeWVdK2muiS5+/+bf6/jf/TWuLC1Sa5sun3fuSl81r5HcCAAAAAAAAdl577bWX+u/eT+ec8zV169pNr73+untf75NPPKk+u+2mwyYcpscefUwbNyaqNbPprATvPx9/Qp8tWaL99tuvrtZZYzXPWr9PPvnUjWPjZqIlYzOZ1OCanZ0dtLUvhXkd1LNLV3Uv6qySmgrNXfKxZr75ul5+4zXN+/wT/XvuAr0w91PN31CtMUeeoZPPOE/HnzZFZ3/jch123BR17jVMBd33VlVeoTZv26zqbZtUsS2DQjlpevNNP/P6tdded58tKe1grwV67V2x9mnVONv7ezt37hwM3fGsxK29p9cOIgv0zpnzQaNPLGRiwYIP3eehhx7qPlM55ZSTdeCB4zR48OCgT/tUU9NGSvZa8DG+NOxJveRXKm78qoq7vhWp+teqIg4GJWJB3Eu76q1gXFftczAo2knjB6vQ+zfi0uigpt9t77B92o+YxlRJ7IKrQWuzJfreCbj1WBFVTXOksdK8KeaxaW1TwtQWrC3VvLviljX53AbVXCfcPk6pNqaKYDeyTQdMHtGsd5QuW1sirZwdFWALmkhpVFcttPWbLU2KBHxf0n3R46aqKtoFD5P5WLb44l4JqiUOAolu/Yq7Jwgm23thg6qqo9fl5j/WlRKOBCAfWNZXU+ICvrH9/fWICUAGjQVLE66DBTuDVtPgd7DSwN5HfTDagsdBd7JAbWD84d4eGl3KOM6b983Wyn7jkrw3uHkaW7YvqC45WWlyVxI6tjrrprEAenncO5CTsSqfvd8qrXEBAAAAAACAnUekmuMOHTqooKBAlZWVuvuuu/XGG29o1cr6ghQ5Obku0Lt+/fqgT8uyGmFLNm92gWR7T3DvPr3Vu3dvV4p348ZNKt2ypa7W2Ew0NzZjtcVa9cznnjvF2wY5Qd/ESktL3fuMH/W207Jl7bNYif3OWfkhKT9HtVkh5eZnKy8/V9l5uSrI76gyb9DbK5br6Tdmqdje6Tv2IO1zwKHqXLybtmypUbc9RyqvWy+FVaXKki9Uunq51lXmB3NvOc8885wrKPv88y8EfVpORhV/t9WArwV4WzPQa1577Q3vAKvRmDGjNX78QUHfho488gi3Lrb81vjBtqeamsyeNmk1T6/VJvXXQf5LaJ2rvhr9HlcrbRodQLxSe6cq2Rtf2tWqDg5a/cBxEMy97ty4gKYFhf1A5xSLbLpAavBuYMeb9qDGihRH80u5uuqWnSv15+giyU+/pc9K+8e8D/ekm25sWF2yVbPc/0j9ucEAT4J5uKqp+6/Qwgb1Qafjab35mZK/d9ib9/TpwfuAbb287XNO1O920k1f0wjve7+ZJM78tDfz1NvUqjJWTLXIGXtzmR84TFTd7/ivR/W34GrQmkrhHjq8bpp9vP2kkcDl4jUqjLwj2AmmiZTQtPXz5hn9ntrx7l269q5YRb1XN5o3j/Pr+7tgrZOsv78e/SZ9PXH1yK6kcdz3GhtdJXyC3yGmhKo1T7mqjV1AOWm1zt58L/+hJhXHVlvd0Eu672VvfYcleG9wk6W7bCvVfXKK9xB7wyc1o1rxKPZ+5X4r50VV8Z2CBZjTHRcAAAAAAADYCVmp1f/+9796/t/PNyg9azGaxx59VOvWrQv6tI5+/fpq/foNLjY0ZcoUTTl3imvftHGDdutrdTlmrrmxmWOOOUbf/vY3NWLE8KCPtGXLFhfYjWfv9f2//7vT1ZzbXmVl56gsXKsKC9dme9svJ0uVobDKw9UqrfT6hrJUkJun/LxclZdvcwH43BwL1mera/c+Ku7RV6H8fH1ZslVvvP66PvlksTao7RR2TUdGwV7T1gK+FuAdOXJkqwZ6zebNm/XYY/907aeffpqOO+5YFRUVue5OnTppyJAh+ta3vunqgLcd5eGHH3HTtGeV3kHQFF9+6b+YPJE1q1cHbZn4k74z+UVtGnFJUML2Ke29MLo0rv+O2voSuHvbK2frPX293lrRX0faMAt62jtrFVXtcdzoafPmO+WueepSV6Xx16S3Gr5fNjn/fbSq+157a2FMkWRv+JS7Na/LkcHwp3TpYCWoXtnbPjHrYc0/5MdYG85j+pHSi5Oj3lmcIQuCv7gpttpot10baPi7XTr4M901JXG12I5tU28b1FcTHbdN3TtKm1uC8iXd98ASFcdUh3yVH3xdtTWq/8kasOypxqsFLl2ikiH101hQ8I5UwUMLisa8p9VfTv00Vop4tkqiqlieVOxXqdzgXbHWuFKzH2utovpPkl52pY+T9fd46/HAgmJNigyzJlIa2FVnHb2NjpXeiXpnbzN+h/iqo4vf+U3qktIR3vq+vDJob6J0lx1bVfYIlVhp6uiA9fivRw0f523UJlQf7cRWDz5Js1MExmO59yUvbsZDDwAAAAAAAEA7t23bNs15f07QFWvFihXaunVrTMCzpeXl5al79x7aa689NXzECM2ePds11j54jz3Us2cPN06mmhqbiYivutleg/rLX97kmrfeeivou/PIz8pXdXZIVVm1KgtXa2tNhSpqa2WRwtpQWArXev/Dqqms1obNpcrKCikvN0edu3RRx46dlOWNE8rtoE+WrNJir1lX1VHbsls+7mnxw9/97rc69thjgj4tJzRmzNgmlQfv2rWrpk79trp4G2Pt2rXNejdsc4wbN9YFeq1Y/AcfzG2VQG+0/fcfqTPOON1VD5BIWVm5HnvsMbcuLc12AmPFvFNJd7zGWILQvXv3BglDa3rgw8VBW70p+w0J2rBLstLCB210QeIvz/+hxpZEB0Z3MAv6jd2qB9IJVu5Exre132FXM+BMXT6lk965ueH7kUlDAQAAAAAAsLO7/IrLdcftdwRdyQ0ZOkSDBw3SCy/MCPq0rEGDB+nUU0/V8uUr9J8ZM1whSWPxsyOOPFIDBuyufz7+Ty1dutT1T4cVJmxutdNnnnmGDjrowKBLuuOOafr8c38d9txzD337299y7caqvn788SeCrpYRiVFlqjkxra05ldrWoVrV1TWqqKhUbbhWFtkKVdYoFA4rN7dAFeVl+voFU/WLH/6PQrXVqimt0qYv16lbvx5avWatHrz7D1rx/ktasq5GG6o7+jNuQTfe+AtX7bg9pPCTn/ws6NsymhzsNZGAb2npVt12W1PLCTbP6NGj3Eujt0egN6KwsFCTJk1U//791adPH3fwLVnymRYuXKj33nvfVffcGn7zm1+n/YJsW4cf/vDHQVfTFRd3Vl5ey9dNngyBCsS6Un+efqS6zLtbU67bqvN/NECLEwS4dphdMthrpVHb2O+wixkw+SpN1vMJg+2koQAAAAAAANjZffd73w3aGrdgwQJXzXNrsFpny8rKtHhxwzw5Y8Hm/Lx8zZ8/P+jTOKvBtrm1xnbpUqwTTjhenTsXu257H2+kOuuePXu6Ao3GgtPPPvtci9dSuyOCvWHValN+tWrzshTy/lkcr7BjJ3Uu6Kyunbtqa8VWrflylYoKu+m6a36hEcOGKlwe1uZ1G9WpMKStZaV68J4/683nH9Wamm7e/DKuGLlRJ554vCZNmqQZM/7T4q+BbVawF9vXxRd/Q/vuW/8ez1Q++uhj3XPPX4OupsvOzlG3bl2DrtZHoGJX5wd3o9/SW+oCvUkrft6xdtGSvWi7SEMBAAAAAACA9mvDhg2tVqBwZ5dfUKCTzz1fvXfrq455nZSbnaPCwk6uNG24tkpbSrdoa3mZapStXj27qWOoQlXlWerVd4CytFnPPvmU7r/vAXsJcDDH9oNgLxpVVNTZOxi2T+leAhUA0HSkoQAAAAAAAED7VF5epi1bSoMuNEVR52J97bxvaLc+/ZWlsFxdzh6r1DkvP18bN6zX3Hde06IP3tBeew/UbgOHadvWMq1bMV9vfLBMVVXtM9De8uWQsdMpLd3CkyQAAAAAAAAAAACtwGIwW7duC7rQVFs2l+jv9/xZs/77b9VWV6m6okzh6grlqEq5oWqpqly7de+hkaMO1qChh2jNqrV64dlnNOudJe020Guyd9utb8u+BRg7JXsfshV1D4WCxyBayelfbgja6j3eq3vQBgBIhTQUAAAAAAAAaF/C4bBKSkoodNdCbDt+/vkSvff+bJVs2qjqqkplZYWUm52l/Px8VVdXqrx8mxYuXKAP5n2o0vJKb6rWjX21NqpxRto6dChQYWFR0NU6qIIUAJqONBQAAAAAAABoX6x21bKy8qALyBzVOCNtlthYogMAAAAAAAAAAIDm2bKFQC+aj2AvMmKJTknJJletwPZD4XMAAAAAAAAAAHZOu14MoLa2Vps2lai8nEAvmo9gLzJWWVmlDRs2eIlQ2XYM+hLwBQAAAAAAAABg57Jr5f1bTMUK1W3cuFFVVfauWKD5eGcvmiUnJ1udOhUqLy8v6NM8id43CQBoOt7ZCwAAAAAAAOx4lZWVKi0tVU1NTdAHaBmU7EWzVFfXqKSkROvWrdPmzZtVUVGhqqpqL7Gq3c5VPQMAAAAAAAAAAOxYFhuxGInFSixmsmXLZq1bt97FUgj0ojVQshdtyoy1m4I2AEBLOLpXl6ANAAAAAAAAALCzoWQvAAAAAAAAAAAAALRDBHsBAAAAAAAAAAAAoB2iGmcAAAAAAAAAAAAAaIco2QsAAAAAAAAAAAAA7RDBXgAAAAAAAAAAAABohwj2AgAAAAAAAAAAAEA7RLAXAAAAAAAAAAAAANohgr0AAAAAAAAAAAAA0A4R7AUAAAAAAAAAAACAdig0ZszYcNCeUtgbKxTy23M6jFJu0cnK7XCAQlk9Xb9w7Zeq2vauqrY8peryOX6/qGmAVELezhL2dhb7nJgb1nfza5QTDKuortEPq/K0vDakCvnj2LhoWdHHaz8N136h49Q/e4QKa3q5fqXZa7WiZp7mh/+lVfrQ9Qt7E4X4LRCltqhWVRMrVTOwWsoLeiZSIXX8S2HQASQXnTaVFo3Sl71OU3nHPbyeWd4wb4D3P79ylbqs/6+6f/mMG8/6h0JpXd5gF/Luu7ODtqY54IBxQRvQUFhZWld0mLLCleqybY6ya8uDIbFKu0/Q1m6Hqcvqfypv88K69A0gjUIic4b/17v3zY29IGpMMG4oXKVR878S9ATS92mHUd79fxftV/qqcuTd16FNqg1nKav3Xtp7zESNGbavBg7oq3B5uZYuX633Plmshe/NUnjtJ8rivgiZiDrfjM7Zosl56zQ2b4t6ZVW5fmtrc/VuVZGequih96uLXL+MzlEAtqth3vlhwYKPgi7s7NIO9pqwOqpjzytUUHyKN2WOamvCXj+fJelZWfa3WhWb/6mta+/w+pW5YUAqkeDtgx0r9XFNln5ekaMnO5V7NxXZbrgFe0+vKNDt+dXqnhXWlLJcAr6tJEd5mhj6lvbPOkkdsgu1dXO5sjvVuAO8pjRbnToXqLymVO/VPKGZ4TtVG+LGD/XCnWu17cKtUqegRwqh8pA63kawF+kJh7O0fPC12tZpH/X48kkX2M2p2ewP884VW4rHaV2fU1WTXaQBS25SfvlK7jfRQLJAyiuvvKJJ95+q8F0bgj6JEUhBKmW5ffRZ3++pNrezCiuXqGvJLBWWzlV2jXdeDFTl9dT6fX6sqs5DlVu9XkVfPKsOX8xQVuXGYAzsykijkMj7I15TOKs+2JsV1M1mndYYu96JXPPU1np/gnFDtVUaPe9QfwCQgfJQB5Xmdlf3yhUqyfHOXbn9tGeZX6gDbUN1TiftMf6r+saEAzW+Y7UK83NUM3CQwtu2KXvJp9qa31FvVhXory++riVvPqec6vrrEaAxBarRFZ1W6oz8L5WT5Z1TvHNLcMqxZ66l7CxVe/0eL+uhP5X2U3mQfwug7ck02Pv8tJ5p5aV9sTFfF163IuhCW5FWsNfdRGR1VOFuv1eH4gNUWV6trOwcd6NRW+M/2ZOVnetuLGprqpVXkKPykre1ZdX3vYnL0tpBsGuKBG2f6eTvR+u9fejCMu9m1rNfVq3yvH3n/Rr/jvahjlUq8Lptdzx1qz8OWoYd47nK1+SsX2pE3ldUUrlJldtq1G98rg78QUdl5Uhv/aZMK1+vVF6HbBXlddHcyhmaXvtT75rP++04xuGpOKlM1ful9wAAwV6kw0rohrPztGTvW5RbsUYDl9ykytze2tjzGFXldXPjZNVWqGjjWyra8r7W9zxRq/t+XXss+qE6lH3qhgMRqUrNWTAl4uWXX9ZPf/rToKsegRSksrbHZK3rfaZ3f5TlNdnK9q5jC8o/U9Gmt1RQutBLywpU2v90VfY4SKHsbH+8UFh5pYvU+fVvB3PBrow0Com8P3yWwll5cjWWePfN4a3ejVeNN6Bj2N2jmVq7/N7m9c/2Runk3V/bzZ3VclJbqdHzJ/gjARmoVZbW5/bV2vyB3u5mj+FXa7/S14Kh2NEs0HvQCRfofw7bV923bdJL2zrqxY052lDlHfdZIXXLrtEx3Ws1qUu11lSG9OvZn+rt5+4n4ItGWR5tvpcC3FL8qQ7psFk1lXY6CSnL6++y/Wq881BtWLUVfk1a2cXSG5Wd9f1Ne6rCSzcolAO0PU0J9vYYdHzQldz6pc/pmO98GXShrUjrnb2WVnfsfqUL9FaUVSgnN0c15XNV+sXPtXn5173mIq/9F6r2+tkwG6eg+EA3TTrp/PUPvq4Hrw86nLM07YW4fmffoRfeeFAxo2XM5vu8pp0ddDbi7GnP64VpZwVd6clkGvveb7zxeiPjX6cHk3xvmz7T9Wtr7ELg4fz6au7+WZ1d9zzYh7VZdYHefIU1szrLVe1sYd7HOyWuGq8hf1+y7VzXvHCH0twFGkj1+zZlf2me5PtGpuw4PSx0qQv0bqxcp5D3Ixx+c6GO+2tn5XcNKadTSMfeVaRJvy30Uo2wNlWt0/55R2tC1sXexMFMUgp+hwevC7pjuWMhybDGpNruLXqMXP9gk9exqey7be9lNkf1oNYq6R1/HKefjrcId/6pX37s+aoJbF9K8B3s946fd+Q8Uddkuj+4ZUWmb5n0YnuyG8gVg76n/LLlLtC7us8Fmn/gU1q5x5Va2+s8re15nlb3vViLR9+pT4b90VXj3G/pn7R0r5+oOiuDhwky/I1bPL2PSl9a/lxi54pkaaF/bLXs8iJa7hzV2iJBFCs5N2lSD6+Z5LqbrrHt6v8mDfazJGmD4/bR+GFxaWNa6UOSZTdR9P66489ZLfvdMlGZ20Nl3Q9Vbl6+cvP9Jqegk2q6jdTmvb6p9fvfrE3736Sa3bxxvGF5+Xn+eAUdlVPt11KQnmT7lv/d6/aFBsdeI8OTXOMkT48aW14Ccelsyn0l4frYMuOXY9sj/rhIsh/EnA/9ZkfsK03RcmlUkGYk2fYJr8djtlvia5f6e6u4NCnFdHVSzD/+Gij29/J/5wb7p+1n7jvE76ORxvahhusZmbf7Pgn25+sftHVr7PvFLrPl9i/vZsu7JQ5XhBTeENK5Eyr16/PLVZQdVu3mkGuKvHu3315YrjMPrnLjqNKfJr0btfjjKNF+4vdLfl4z8dsn2e/e3O2U+new/aZ5297WL400rYX4+1z990i9jbePjTm9NK/wcC3vMEwVWZ28XalWA8oWBEObqrF9yN8vGvx2Lo1Isi81+dooGKctpYUZqK0Naa9DTtD/HLqPCsLV+t7yYp3x7/VauKlGx4/pr6/s10fvf1ml0/61TtcuzlNRp3z9z0FDtOf4r7ppG9dw/VsuPWvDMt7X0hGVnrh5NC1taX66lj7Lo72y00od0nGzKr1zieUVZivsl+a1c8tZP1Zoyi+VfcWvFfrjf1SZ01MH523WFYUrMwz0tqU0wRNzjG+/cwCwa0py/J99u16InEvteE4Yv4m9jmxOjKdO9HJb2fZIz9MK9mbn76/84lNciV7LxCjb+KQ2r7hMlVueUW3lIq9Z6LU/rS1ePxuWm5vvxs3rcqqbtjE3frhUg/aLSnDPnqghRVL33aJ+9CHdVfT5fN0YdLZ73k47sft7uu3gQ3TM1EeCnpm58ZymT9tWWGB3jnJcid7/q8jSU1VZ7kHlePau3j9XZuuuimytD9fo7eoc5dZVItKYLXrvtkN0sLetrblt8RBdzck7Rp/wMI3OOllbqjdJ1dkqKA5p8HF5+vC+ck0/vVTTz9iieX8t04Aj81TQxUs2qrK9cUu8aU5Vr/DQYC6N2aIt3Yc33O7uWPCGBZ0tqb0fIw9PPVYHn3NT0NX2hbJjL+47/LmTOvwhaLz25ok6jm9brCFXb59j2N24X91dM4P0w5oPd0vjIsBuFpLdSHi2eDv8mItTzce/+Jm44ba65R588G16T7ulfwFiF0cnSM9Gpr9tvXZrZwnflqIDVNZxiHb//BZt6nq4Vu19hVSerVBRmXIO2azcSZuVvW+pQmXV2tz9EH029CZ12TRTnbbM15p+Xw/mklqTf+P2xHa4IRMbfqfrT9WQVkl92w8LolgpOQug/Kz/VV77Oh1++OHB0Cay69j1S7V+zKmJ06nrh6v750vVfWLD/cz/qRpmelx/yhBLBuu5zIyr1W1m/X578Ie7NZ4JlWLZzdU65yxLC9PMXGvF79aY6g59pY69/ACuC/jmuc88F/gtUE6nLsrp2LkuGJzjfebk5ip362fK/+j/grmkIeW+tbQ+vX9WOqHuhtVuiO1kELWveOeDiU3OdG7i/Ny93LP107TW9U2q/SB6+W4jtY3ASiotn0alfz3uAh4T17v7VX+b3SNNjL62OUsTh2zQ5+vH6BQ3w0c09Zhg3GeXRm3vYzX1YTdBjFTzt2EnKPr3uk0bJsb9Xv7FVJL97iadE0x723ve93ovcj11TpCfEHt/eE5UJsOWLd10QsJruFTfz9Kq6OPCW9/dkl8HZsJlsFeFtGePWj14bZnu/2a5fnRSpWbfuE2nHVylkw6o1hs/36ZrT6zUI1PL9eD3yzSou3dz7Ur4+fPIxPUPXq0hi73tFX2MNnZeq9PY9XpLbKfM9rO2zK5Brx6yOOoYOEQzu12d8h5ie1jWYbhqsnLVsaZEg8vmuvf2FtU083UDbe7aqO2khZkK9R6qi46ZqO6VpfrTynx17lKo/foWKse7F39v6UYXnOvaKU/DditSx66d9efVHdQrp0YXHXmo5E2bnuRp5M4s7X2tKR6+XMfUnYParhFZpTq9w5eqrggpxzuHhFy012up9c4pXXsq1Kmr9Pjt0prl3jkmSzmhsBv3DG8amzZtbSlNsPGS5JukHZhpJP8HQJS0ryuTqb/vfdY7917s3R9k9KzJTi6ty/+8zqd7ibhf3Vjl1vnatvZmhVQje0+eqyHIGq/d+tmwyrL5dVWY5RefFswlhcXrvQut+gzssyd6CbSXqEdnTF6/30B9/mH7CXogPROza/XrihxXdfNz1ZEyvclN925aL9xWoN9405yZ693ENoFlRt72XjdNbOOZO9vTyKzj3Tt6a2prlZ0TUtW2sJ48eYve/GWZqsvCqimX3v51uZ46dYsbZuPU1FarY1ZnjcqaHMylcevXN9zudryvX7w46MJOpcI7yVR45wKvsfYW8/BMLd7STbslvHFvSdfplDEbvIuI2JuyG6derubepxetn+kuSvwMgYbOnnaxy2iLfVjhEU09J4Nlxz8k5d1gTm1nN+rrep+m7muedNcYKwddJZV5adTwbcr7mpcodfGu5nJDyh5Vo7yLShXqWKGNhceoNGeU+iy/Sxt6eXdsjWq937hNKdrgpb8N97fr9+umxYtTvwNyV/Czn53hNY+50nLNDvR63Hntw3P04ecDtV+CY9xt9yef0GIN0cS4dKxovfdbNbjpuU77dV9sl8t1rj9ljNY/G5f5dqN3jDey46Zadnu3I79bhy0fqdenf1DRxleVl1XpB32DwK8L+FqQNy9POV6TnWOvwvHOjeVfKm/e7cresiSYS+Ma27fq3Dhfnxd197aEt10ePEHd37stdl+xDMdnN2jMKZlnSjVnfls2tP71Xvr7gQUDn21GJsP209JpVFrX4y7g8Z5uOyb6fOhdh0yNDwDO1znxD26nI9X8r39QJ9iwmAcCLHgS93t557aZTdyPU1o8U+91n5jhwxBD1K1oqT6sOy7itlVzebe9HfKloX1r5Kq6qg2pd9daFXUIq5f3Oai317/Guy7KCWtIv1p1KvCnyZQFHy3IHv+wbNppT7SE1+utvJ3aE+8YuNiuQWOOAXtY+bYm7H8ty6pwzqstV5fqtSrLKlQo7Yfsk2uL10ZtIi1sgmEHTtSEkYP0cvGe2hzK1c1nDddz35+gqUfvpc1lVd41Rkg/PHFv1+9XZwzX+sqQXiscqImj9tCwcc0/h+zM0t3XdmandfjSBXCtYohQZVihqrDCW2oV+tL77LWPwis/VWjZWoUfmKbQ1CMUKlnnql/M8dIJmzZdbSpN2AnyTbBz+uEPr9WUKef4D114fvzjH8Z0t1dNuq5MwgqQFnWzu15EpBXszek4RrXV3iVfdpYqNv/T26lqFA5nueCu7V+useCv9fOGVZT8041r02R3OCCYSwp2IxCVgA/p5t1jxSTqZ2m37ltUlz8QU71C1FPk9jTOC3domj15Fym5GT3ugxPdaD6/1FRkWPIndYbUjxdTpLvx6f0ngKKKl0emt/W8eoyKisboarf+8aUW4rsTq3/CyJbhfd+o75r8+yRYb5su5rsF8wu6WtOVBTV6MqiSOVGJ3mRsmil5TQv2modnejtT5GGCZPtTdP+Y7ZNsnzBRw+K2oXsiNNH8kizfbrZfmHaHv/8ET4i5EmjBuC9M2831awn9QiNUWVuhLP9gVq13Q5DbMaSuQ7LdE+HWu+ve2a6fDbNxsrwBNk2/0PBgLo3b8GHUdnf8QMuHX3gXV0Eff/+LbI+4J/jt2KkbFr19E/8maR8jSeebhmTTpvu7BunW9XW/bfy4/vdvkJ7EPDUYvc0e1LSo6XZ20cdE9Pb3t911aR2Pddsq+C3qziHXD9egpDVKpEi37bc/YaA06ARvPtHjxLrxyffU/YRE+5s9HW55jWmWSg/Wu8FiLLPfW4eG+0Kqc078sWLrF3XeSLScVlTeYYC6rn9R63ueoIqi3RXKrVHO4RWqnN5J1Y8UqeqZIlX+v86q+ThP+VNKlfu1rVr1zau0bO+fqGjT28FcUkj5G3uSHMfxUu1PiY5tf5tHzTdRcm7Ljtne9tskX4fGfNigFhXLvFqsL+S/+9hJK916uMF62PdPO81Jc5tuLxY4sZJyP1vxR1dFqpWiax6/dIdlZDeoucbxMyJmPvyI/EuR+O02v8FNz9nTJqr74i+k7kEPm8eg6MzydCVfdqo0s7H0NMIfLzLP6H08+lxc369+3Ph0JzK+zeNqjSkq0pirvf4pn5ZvbLu2rlC4Sh02z1W3RX9Qt/k/VafVLyi/dnNdgNdK8WZle9dUdkEVDiurZJHy371ROWvfCOaQjsb2rUT8e6iE55O4h23T0/T5nb1bNxWNuTr4jRPvQ82X6X5wU4tkMrSmlk+j0rset0wYC3omiZE4fkbNTcH1RoIScimkmr/tK1sSDlusDfHBwxuf0HvdT4i9rm+2xZo6c0MjNbDE8/el+hL1LSdst7z5Yc1fmaUDvleoq/6Wr+lzsrXH1CL9/aU83fNingZ9p1BPvZ+t7/49X2O/20kfrvJu4Lxp3LTpmvigX8q0Qan7pqQ9cSx9d2l4622nWFHnm5hzR6JzU3rsHBeZrj4Niz2vWfPCtF+7ZUTP200bfw5LWnPdI/pifZF2ZL5l//KPlRWuVpXytDp/D23JibpWbJK2eW3UFtLCpjhg2DB1rCzTS5+U6JA9uys3O0t9u3TQ8fvvpuNG9tHSddt08F49tFuXAuXlZGns4K566fNSFWaHdcCIYcFcmiL+es2Og+T3iWndb1uvqGPLv9+Iukaw8YNh0dcOKfNG4qex9U37niqdfc2X8Pt5Yr9P1E1e8N3rFht9TxT0T5zObF9jc7e4Al0u0Ntrb4W7ePfgh5+m8G8eUOh/7lbo9G967X9V6CsnKty7tzfOYIUq7F3x/rTpaWNpQpJ8E/uNTxhk2TqR3yj2HFK339lvGZf/E/Nbxqf/QJref3+OxowZrQsuOF/ZXlr/7rvvxXS3Ty1wXVnHOyYndtN7T3rnYC8NcqLT1vi0PtWwiOAc4tKDIN2uy9Nz6UDsucdu7+OvL6OP+esfeE0Peue2unlGsWGJzoXNTTPS2jNCoR5um9VU20vYvZTWSXTn4Per8cZx41qHN23j/AtaPwG3BHmDvvAS9bqLXHtSzrvpmmlXWC4Rja5eYXFs9UBFY9TtQxt2jm60H+UE70ePVD/yYXeNiVy1XX+qxqyvrxoq5kmfKEVjJkr32DhWfWakVIz9iBcH/a2xasASn4gHnTBcHwbLiBQtd0+/3/aetmyxapxbqroh76Zpv/n++jzrHSwJq7BLst52k+xt4bqnpRrL/G5B9v7dHGVrbHZ6d6J53kH0FW9cm6bF3HhOsD1s20WeDg8SjMi+E/UkZ+J9wlc/zKoMq68CzF0kRFVF5qqSjhy8CZfvKxrT3d9/7Kbb2/evdiXQ/HHv8X4z77qjRXRWL9V4N3SWStXWhJXTUTrxkULte26eK8lbVRbWvlPyXD8bZuPYuDZNkTdt2hZfrpnRpcusapb3nojb1+qrXbN9tP6JPS9BvdpLCeqqE6oviZfqN6mX5BixdMIOi8gy3WGRZsKaatp0f1e/hyZ6v6iN6yUNSUso1Kcnz3oXo5Envu249kvZ+Mubr251Cd1OytLv4Jzgqg1139s/5qKfzk51PO7nzhPW3KbFQ6KqAIw6hyy2zMamlEKy376uyq4Uabx3Lrgnar3qWakHOw8GndEXE9E3iI2yY8m+n5+5nn6GVv2x4rbbG5HzRqrjq7WElFWzVVu6HChVe+eJbjVSuXcdtyJHKvbSoSKvXwdv0KsdVX5vsWoXZmvb1r3Ue+XfNOjTnwbzSM5lKKf6jVMcxxGN7U+Jjm2rIrH+GuQe7yf3bg7jJTw3z2z6NYPLEK8vKeIypmZe7h1JUdJKt87Wk953qb/p9m+kZ6ZbZX4a23SHuXtW0NIM7voyuIZKkOnnZ0T4mYYxD55FcQ+C1F3H+TdDM6dG/VJn76buW9bH/nZpaGzZydJMk2pYInXVgAa/tX+dnez8bhKdox/R1GO8dGdLUJVggwBEvXS26/YQ8q6L8jbNV6f5v1Ont7+vgoV3Kmf1LGWvn6us9R8oe9XLypt7mwre+F6GgV5PI/tWNNse/rV8/PkkysNfaH1Q+jd9TZ9f/Pm6NYI9bWU/aDUtkUaZNK7Hh3Qr0vovUqXrQVAkOLbjM10bk2r+yYclCoJ56cQ9yR6eSyV4iMRdXyXI7PHOVXX37mmy18f4rwtqfiZNA2F70lbq36dWQ3cLq2thrUYOqlFWnpRdENZ+A2pV3CmsYf3C6tvTuz7y/ts1VPq87TFmoD73rgsaHN4ZpD0xoq7Xo7Xqdgokv2dKLw8nkcT3HFHntSB/556pP9bUmdGZl3Yel58RGSXVNejiDVtiX2m2nXWr+kJdvWZjnh+oqnHFyZuhrV4btYG0sCn65marbM5cfbhik27453zdPuMTlZZXu2GF+TkuyGuZz5u2Vek3z3ys6x+frw+XbVTZ+3PVL99LNNKSLI1M7z4x3fvtG1PlcTWST5P4OE+QZ5ThPVWj+5on6fdLN8/O5VVH5WsH+Y2p8ja2l17ZNQqXeWeQfQ5V+P+94zVzFPrV4wodd4402EvMho5S6OSLFLrlaYXvmaPwX9/zx/Wm6elNm5Y2lyYkzjex89Wzn1u2TuQ3snuT4DezfT5yb90g/8dPF+p+3xT3MEAqL7wwQy+++KJGjBiuCy64oEF3u3T9KU27rozhnYvc+cny1fz03F36pooZXv9A6niiU38OqavlJipPz+4Nrn4j9txzx1l2vZ0kbQgM8pJOO5dF15xjwd0TQs9541tso2XTjDSDvbbJ3Gbz/qYKskVuKPxxrLqXLDdt4yya74pdW4IcBBrrIvz21OP6L1xCbxfFnz9bH+SxzPKZ0RdU3gX2k5GB3nR67576k7id5CMPGtnT5wlLPMXaUje9PVEUuei2jI7oi58TvBN44ipFo9fVTkatl+mwVM9GdgY7WBJmtiRb79inpay6jPibkdbmX5o2zkLCVoF4iwj2Kf/GL9gm9jSWK5XgZyaMSfBe0MT7hK9+mF2ozQwSLSsFEfX7eOqHmUTL922JutmI3/fdPIL2FuNt2pBlJniyskOucZkLXlPX7XHjNPFnqH9yxw+oJyodUv9ES9SxleKiPNVvUi/JMWLpi5d4uwyHBL9BSimnTe93dVzGgL8d7GI2WcmY+t/fbiQjmV12XEcHWm7Sk3UJ3Y5V9t2t2vqjLa6x9mhhe2AgI1Fpl52g6x7AqA+EXj2mKKb6juTHo90cBvOyiwMvXaybLOoc8vAXG1q9OpCHp96ToKq2+JIrkYwk72Ii6BPDHiCKqVosWuSiw+6O0w341h8rtg1Ud9xZuuh6t3G2b/lpVWMa/42TH8e+xvenhsd2/DnB+41mejeHDcSfmxO/zsIyG/xlN3xSMFb0/KIzpqKll27F3HS7tDm4WE9LY9t0+3rllVdcabmWel9v7O8Un+nnZ/jWnffiarapE90/OjMkoklBusaXnTjN9KUa1lDyBwASnt+ddK5jk0lzu24ntQW9VLXnmaoadomq+xwq5XWRKjcpZ/Vryltwp3KXPKSsbWuCsdOXet8ykZte73xYVzovQUnIaBk/NJDe/BpLl9w+FPmN7aY8GDezB5riNXU/iKo9qk5UOuU1mZT+a2ktnUZFNHY93miwKS7tz/TJ/FTzT73sBL9X8PBcZpni0e+jTPxg3o3nxD+U0rhIRv2zOqHFApnuvbvl0thBNZr7u1JNPbZSE/YI6+WfbNWVx1Tq6mOqvPZSTdqrVpceVam5v9+iA7xxVZ7JO3u97fGsBc0bBr4bT3uiJblet4zwuuueNLaTBUIi6UITSrclv2dKLw8nseT3HO44uri7ZtZ936jMy+iCC1EauwZNHWBsXZ92HK0vCoaoOpSnwuqNKq5eGwxpmrZ7bbTj08Imqa1VuKLC3e1sKa/W8vXbVF7lB9k2bK3Unr0KXXt1Ta02et02zN6tGrKi/t606UmWRqZzn5j+/bZ76CH6HiM6j6uRfJqEx3nCPKP07qnqNLavpfh+6ebZuRLj8XlCTqp0ZjuzHSzs7Vddukm3fFf62v5SjdddXSWdM0q63TuIe/aRcrKl3MweCGmbaUKa+SZ1161x+3UMu172rstb4cFGIMIvUdr+XD8sk+vKZLxzkTs/ec2Hw/17SG+DpIoZphrmb8ohuviNidpwW9x9geXpXf6oa7Vrgvpzlh3nrsWXIm2If5iy+8TndXW3mTpkSmQ7tGyakdblf22NZUiE3Hs6swv283uGEgR9g7uJHG8cG9em8adNQ3BBPM1S9cgdXFAd2LTGTsZJ2A+ZlGWOezvFPbrY/RiZ38RH7ViuSVF6q01JvN51GbfejZVV6xh/M9JaKqprXDOnJr070Spvn5pZk512cDgZe3eDv59ZZk7UC/vtiVx/FPcUl5WS3M8O1lY7SSdffjx7qrS1bNZaZYe8CzT3bg6rgsWq/fKDcXYC8U8ifj8bFhnPptniTZuRSOmy670b3+AJnGiWEWyJnr9/WomeoL93PLfau97cE3jBb2BN0sBZAgmnTf93bbYmlvDa0bKXZfqEePQNZ+QEbTdDdjIO+tvTlGmJnpffJKzdwT0UlCqg0RIs0LfBVRVYfy3gP2xSX3KyJdykc6y0XGtnPrQ0L72pze6oopK3vYsL7zyxwbv2KPCSn/7eWaDES5i2eP3KvEGHbVXBBSXK2rtGHTt9qtX9vq7P9/x5MJMUUv7G6R7Hae5PdSyzMWhthGUQrHdBVavKKuphtij+ucpv4t+xF8/NzzKur09Uq0IG6ZZdGK/3b64ze0BsO6aNmbh7lqsi1VhgpeksyBmd+RNU/RU57izDNyaj2b8RaHisB+nCKdcl2b7+zUBGN0VpL7sFJDkvJTu/N9v2/G6NqO55oMoPvlWVI69Rdd8jVNt9f9V0H6maPhNUsc83tXX8rdo2/FpVdRmhsF13pa2RfcuJusavu45JcT6xDNG6Bx/Tld78MkmXXBCowXon0kiguSn7gd33uBqlgu46kQw/v0mdpm8HLZZGRWnketwFolI8pGwZtd4OWbc/ukz4DK6ZUs0/+TA7DhKXLPfPbxdrWvq5ummwBygbr8kgEQsUp34oJn1266V86eOV2frpgwVatSHLPfz8h+fy9fEXWZq7LEu3PFOgGu/ebPWmLN38z3wtWm2Z73bf5s8jLYuDd2/HPOycTtoTLdH1enJJt1OQV5PufNLX1Dyc1PccVptFt5nR6+nvOy5zcaJfk0qDxSS9BvUDHa1125uO0pxuyqqt1u5lCzS47IMgE7Sp2vC1kdnBaWFTrCwrU27HAg3vka/fnD1Sv/3aSPUo8hIJz5DeRdpW4eeWWb+bveE3nzVSI3oVKDs7W8tLtteVd3r3R42WnM4wnyZZnlE691T1GtvXTOLvl26eXeLv3dS8jZa1tiZbocKQwrNfU+iVfylU451x9j9U4ZMvk7cTeTfeuQofNUXhPfbzhlUr9MZ/FH7rFYU6hfSlN23j2niakCrfxII5E9frtuA3t1K/iQXXkfdIF9t3aKVaLLDzO+aYo3XkkUdq3rx5uvfee2O6//73e4Ox2pPrNGxQKIPryjRk/KB4EpZ8b0n2AEcj0k4bonTfzbvii1xhtWyakVaErWrbG8rJ8W4qqmvUocsZ3q1FB2917BYj27uB8E4C1njtrl+og/K7nOXGzcnNUvW2t4K5NMa/gR/ibdT4J3iGRL2v1y62BkVXt+Nu0hPXw+8CmNFP49rTPnHnXvdUacYZ4P5JI52nh6Pn6wKMQVUUseIyTtzJzW9tWSnWO8i4PeWU6JsRy5SNBMLj25PUbZ6hH1bl6fSKAtee7+1FjbFxQt5d6ylbc3V9eToXEg1ZaYMTvAs8v7SVZbrX7192Mxa76f3qPGKqfUkh+kagvgo9+30HxmQUxFavl2r59dxTonXVlATzCNqba2V4nvKy8lVrOQLe8ewCvFl+lc61ViW7NbX2dLjXWGLkjWPj5nrTrPCmzYz/ZOWYE8b477aJYxe+dRfoUceCfzxHVf/TUtyNdnzJyjQlnTb937XZXDoZXbWuldiLLK31j+GmCG0LKe8V/4a0WSygoPpMP3ezHSX58ejdPKRTdWzwpFfs01XetnvQulsw3Q6qCrSMnQi/NMnV6T2IZKUfEj2Q4l1wRE9f/wBUy6y7paWRElvx7WmtdxoKypdpU/cj1X3ts8rfslzhymxVe/tO3uStyjlri3JPLFXeRZuVvU+VKh4sVNVDndT3//6ogYt+qc1dDgrmkkLK3zid4ziD/amO//Ri/bnYW97E2H23njeuBVWnDa+ryqp5/GWfcEKiWhUyS7du/HCDtw/dEbxPKejZqOTL2B77UyJ178Psf5UmTeoR9G0iV5ogLlMqqmo5+76qq3I/aG6z+r0TlBxzD0Ge4F2vJNq+lrnhXRPElcA6e9qDSdP1dJadOM30pRrWQHBeiq/+NNn5vbka+27ba9+yQG/lATeotus+3onOv3GzB+Rqa2tVU1Ot6upqVWV3UVnfr2rTqF+qZN9rVd5llHdJZS81aUQj+1Yqrmah+POJ3ZDaq27SflCjXkvMr9F9KKGG6e3Z0y6uqyY2o+PL2Lnzau9aNPoJ71Rs/EgJw/j2VnsotIXTqBipr8ddAMTbunWvnXGu04Ou2zJq44NmlrGR3v2xk2r+yYa9Ya8tSVQSyljm7AaNsf2gBUVqYJnYPeiRVGTbBNw1agsJe00orNJa6fZn8nTsLR10wf920BuLsvWXb5TrrsvK9frCbF3w5w46+uYO+t0T+dpS5U2T5U1o02bCuyaNqWa9GWlPDEsjgn2n1bZTo9LPw2kgxT2HPcg0ccNtDQJZdu/afb87vOv7RDWpeJJdg75wdV2VhDsq3elYXaIcVak8q5M+KjxEVaF0q/5NoA1fG/l2cFrYBO8u+lTbcgp0ZM+wPli+WVU1tfpiU7ne/GS9d8iH1bdrB82Yv0afr9uqyupazV+1WUcUV6lU2Xpv0SfBXFpT+vdHKfO4mpBPkzzPKMN7qkb2tWTfL908OzdefDXyjeRt+CyNaN38nXeqirzL2JDC+V7z7r8Uys5W+OhTFRp1kMJfrvaaNQodcoTCx5zuDcvxxnle4Rw/r/CdyjQu7ttimpA03ySW61/3oKQftE7JPbhk3611HwDBzsvez2vv6b333vu9+8lar3tMTPeOtGXtbPf5myu7us+02PG/NPnx36SHy2yewYPmqWKGqYa5y+Uti3XPMZnUiFgv07Rh/cxj/VeaPH977LVcC6UZaQV7K0seU21tucuwyM4frMK+3kVQdncX3LUqnl3jtSurmwr7/Eo5+QPdU6Q1VRtVvunBYC6N8S+yioIbdp9/Eo3pF7kBCZ4AeMPVpZ3kJt3bSO59iJFx91tfX4rAbjgi/a2KoahqhRpnEXc/I75uHkkutj/X8Lpx7J2tyZ5uj2ScuHEv7q71rfLAXer1tozbQYOS3Iy0kuW1IU0rqNLD+eX6dp5f9Uwql3jjPNCpWrd3qNJHNekmA96FWN1TYf7vUP9EoD11a5veH3Zxtw1BKSP/wsmfxt47d09aT/1uWd/dfwrDa+qr0LPd1upsr3/is35YsuUnEASEItXYXOwdF+k8LJKOubXPqqzGu/wPZSmcFVZNZUiVpbXqPTZHHXqGvCZLfbz2is213jDvFsIbx8Ytr9mqeWEvMcyQq84mqvqeaEmPBUv03NPm/vdvSpVeCTWYb31GcAPRT+3a8pNOm8Hv2mzece3eVRZZh+Ha0EaqcY4Xqggpe2GOCu7rqKxN6ZXmT8nb/i6TJNj2+yn26dd0j8dU+1LMe8Vcc7H0pJ9+pEy3gxuPpC/9j+PmVRR9c2QPmvgXGvXr6Z2sEpUMSObGJ7RhYv30Mdsg1bq3IT3W/FPrep3srjH6ff4nqWOWauZ3VOVDBQpt8i40qrw0aU62Kv9focJb89W19AUVVs/R6v4Xq/vap4O5pJb8N07vOM5kf4qIBPPrlrc4+ZPbdm72rukTVonbFPbbb0lYJX6G6Za3j693K5Zqn6w/Pq158PrtmTZm5mc/O8O7yJjQrCpSLVOmYU00FmC3hyt+HVslWYQFRhM+dW7bakvi9ycaKw3p3jNTv30v1hNJrlXiqkOLiFt2sjTTpBrWUMPrTbthalq6E2TC2veMyWiNSO+7tbbawoGqHH6Fajv2cd0uyFtTo5rqalVXVdU1NcFnlTpoa48JWr/3D1RePNJNk0rqfauRDGW7Vok/n7j3FcWVaIu/xgl6F0X9ju6+Id35xbHgemT8xvchT4L1aXA9be82CmpUSWs/iJ5n8D6mHV5qN00tkUbFS3U97h/HQTW7kW1m76iy381l1DYM1lvmdaoScLFSzD/hMNvJGikp7oIylneQjtj7w6TX/rYuMzfEXqIl5KXZGybWr2+qPIpM2S1v2PsTCiunZ63mL8p2NbE+cnWZBnWv1cCutXrimjL3uqP5i7PdOH6g16Zxc8iIC3BbcMs73u9pTtqTUCtup0Y1PDclr70r7vplSJJ7jrPv0MVW1Wr0PCPnKkt/uo/RkMXJHlCwNC3+GjR4331j6WMr22vbu+pd8Zkqszq6qpytpG9Ttd1ro3o7Ni3M3EfvvqrXvWuoCdVr1COrSjf8c4FOuHWW/vDvRepRmK/CghxN+88n+urvZul/Hpuv3XJrdVDFF940IX303qvBXBqTbhqZWNr3R6nyuDLJp4loME39cjO7p0q9ryX9funm2XnjxeRrB9dXqfI2tpd/lvVUdbV3DunknUZm3KvwPT9XqLxc4W1bFXrtv65x7Vad+H03K/zs/3njhtw0/yzvGcwluTaZJqTKN3GBea+/9xt5FwRBHo+NN9wy/OvF5P/YA2qR+bmAw3Y6z2Fnc/PNv9WDDz7k7i397t/EdO9IlWVfqvvA4zV6n/Rrq7Ljf+mHvwq6IqKvK9O9cI26TrNDzO4HbZvEp63R15k3TkkjnhiVD5sw7yExdx2RLG1Iwgqf3rZoL+980fJpRmjMmLFp7SH5XS5W577fUvnWCuXk5au2cpUqtjyrmopFbnhW3lDldz7BG9bXS+SrlJ2Tq8ptc7Rt9U8UrvnCjbOrsUwNe2l/e8lE2FHu7ViubkG14H+tzNITXmPyvGPcblqt6mYr0XtxXq2O9y5UTam3135tWxolIZC2w0Pf0uG5F6ukZp1qy7I08tIOGnNlB1WV+ds8t0OW3vlDmebfU66sTjUqzuqhV6r+qlfCf3HD0XbsqLRn29WlChf4p5TcN/OU93ILlN5tInvK/mLd03j1kWjzlg3+sULhKu3++e+0ercLtGqP73hXL945o9IbaLubnT7ypM7rXtdeC67Spq6TtLr/N7TXh99RTm2pzaJ9s4fT9pu/wzP+GrIL0uH6sEWrV2xd777rP30a7RV7H6aVlrtkgsJ3bQj6JnbAAeOCtp1PqjST9LRxZeN+pZrdj3Kvu7CSvGGvcZ9V27z7oGrVZOXJakup6+8+a5RTulS9Ft2k3IrM3+GLnQ9pFBJ5f8SrCntpiOwVO979cVZWWLlVIR2+d42mXVzujRHW5X/toFcWZ8tuo73kxRcKKVRbqdHzDgt6YPuyh8cvlu5pL6/7qrcxp5eWFQxz5y4rxbFv6evqEN4aDMWOZjWuDZ54hn531BgVefdIv1rbRf/31hodtlc3/eL0/VTjpRXXPTpf73y+Ud85uI9+1L9Mm2qzdc2/3tLSWY+5wjptlpVat8Omkeqam6TN3lO1Pdd2XKavFa1VpXdSydlWq9DQA6Sjz5G69feGeieiTaukFx9UeMHbqu4QUl5BWA9t7qVbtg3wZwCgTRk2bF8tWPBR0NW456f1VI9Bxwddia1f+pwL9trnMd/5MuiLtiCtolVWTXP5xnu0dd105XfMV60VFc/uq449L1Vh31v8ptelCnn97H3toVCOe3I9v9Modez1/WAuQENWJfMF2wpUWe2/V+TknFqFrcoQrzkkO6yDs/271UrvevSwoL1aNQR6W5g9ADOr9m7NrXpBxdk9lFuQrbl/3aaXrt6iJU9Xacn0Kr145RbN/9s25XgXcxbonVs5w03TBh4oQrSoqih2lB0d6MXOw64/+i/9vcoLBmrZoB+ozxf3avjsk9V3ye3qtfZ+9fryH+qz6q8a8v43XaB3fY8TtHLgFRr4yc93jkCvZRROTPT0847XtGpY26hLJujl854IOto5yySreyo0aJKWXGpn2vB3Cxd0U3VlpXvgNVKKN/uLV1X4zo/V+Z1r1enjvyh7w1zVVJQFw71xvc8O618l0IvG7UxpFDJnN1vuhsu/6bJAT0W29MKcHB3204469Ged9Pz7ObKwb12gNzINN2o7jr1CLKbWuvZjacFwF+i16pz3KnuPQG8bYw98fPLmc7r5vc+1pVMX/XpEjp45ZTcd1DtX981cogdf+0yT9uysf128n37ea6M2Vmfp5rc/0afeNG060OtJ/uq75mq791RtjeXR3r61n14v66y8vFqFC0OqWfKewn/4vvTTr0k/O1vhW7+rmkWz3bC8/LDe2NbZTWPTAgB2rLRL9kbkd5migm4XKDu7u7uZiBQdtzr9s7ybjurKEoWyCr0LEL+kZuXWWdr6xfdc+66Gkr3psQsCC+4+2LFSc2uy9OuKHD2eX678HH8fsjCwvaPXqm7uGaJEb2vKCmfrsNClGpN1qjrmdNbWzeWuCkI7ynNzc9ShsEDltaV6v/YJvVLzfwpnNV71NlqfpTX2UnvfFr132455gtxK9ubMyW0TgV5Kou1cwsrW8sE/UHmHQer+5XR1Wf+ysmv9jKdwOEtbisdqXZ9TVZPdWbsv+bUKKla4/E3v1NJ+2dPnJwzUlvdua2P7sZXoPUGDtryn21rjqftWlKjUnLGSc+lUjUrJXtLTZGrzuqqi3zEq2/0UVef1UvbmhSqe+3PllNcHcmuyO6msy2ht7vYVbes4VFlVm9Xv018r30uvAEMahUTeH/Gad8/l3f/GXdhYdktthd+dlW9Vx0eGeeMF44ZqqzR63qFBf2wfVqL3ao0psne5ts+qO98vOkq54UoNL50Z9EFbVJ3TSXse/FVd9NUjdeCGpSrK8a418vIV6tRROdXV2tZvd726slT/77n/aMlbz3v92mDQ3h7ku3pMffX79i7Xli5522bvqdq2fNXqik4rdEb+l8rNsfNLyNVMYwV7QyErNxZWVU1Yj5f3dIHeclfdFoC2qCklexvPS7MRwnr/42r98E8b/V5oEzIK9kbuL0LZuymv6FjldhqnrJy+blhtzReqKn1HlaX/VnbeYBV0PVs5BWNUtfUtbV19jRsHaEyul1CcmVurKXmRx5J915dnu3f0VrjEBK3BHtywhzZMH+2jkaET1T97uDqHert+JeE1WlEzT/Nr/60vQh+6ftHTAJXjK5T3JiV60bKi8za3FI3W+t6nqLxgkHe2CCon8QbmVa1Wlw2v1L2n10oEt/Un17H9JQukpItAClKxtKq6eB+VDjhLBWtnqcPa/wZDYtVmd/DSsrGqySpQ1w0vele2sde82HWRRiGROcP/q3CoYbDXukNZ1m1VxPu96m6V7RLIaw+FqzVq/lf8fkCavsztry/zBmjY1teDPmirau2ep+eeGjr6MI0Zspf6dyly6cSKTVv03seLtOiD1xT+comyQlxrIANR55vROVs0OW+dxuZtUa9Qleu3JpyrdyuLNL2yh96vDkL18ecoAG1GpsFetG8Zl+wFAAAAAAAAAAAAAOx4ab2zFwAAAAAAAAAAAADQthDsBQAAAAAAAAAAAIB2iGAvAAAAAAAAAAAAALRDBHsBAAAAAAAAAAAAoB0i2AsAAAAAAAAAAAAA7RDBXgAAAAAAAAAAAABohwj2AgAAAAAAAAAAAEA7RLAXAAAAAAAAAAAAANohgr0AAAAAAAAAAAAA0A6FTjzx5HDQDgAAAAAAAAAAAABoJ0Ll5eUEewEAAAAAAAAAAABgO6qoqAjamo5qnAEAAAAAAAAAAACgHSLYCwAAAAAAAAAAAADtEMFeAAAAAAAAAAAAAGiHCPYCAAAAAAAAAAAAQDtEsBcAAAAAAAAAAAAA2iGCvQAAAAAAAAAAAADQDhHsBQAAAAAAAAAAAIA2Zvr06UFbcgR7AQAAAAAAAAAAAKANiQR6Gwv4EuwFAAAAAAAAAAAAgDYiPsCbKuBLsBcAAAAAAAAAAAAA2oBkgd1k/UPl5eXhoB0AgBYVDoe1aMMX+nTjF1pRslZrt27QxorNKq0sVUV1mcKqVkFujjrm5Khrh0L16thVuxX11O6dd9OeXQerOL9zMCcAAAAAAAAAAHYuFRUVQVvTEewFALSo0soKvbZskWavWqK5az5TTbhKIdUqK8tr3GdYoVCNskJhr/G6o5pQTHdYg7r01/CewzS6z2j17tQnWAIAAAAAAAAAAO0fwV4AQJuxcP1aPbtonl76bEFc8NaCun5wNzaY2zC4m7i/3z285346tP9E7dNjeLBEAAAAAAAAAADaL4K9AIAd7pMN6/Xw/Pc0a9knylJNUHI3CNQGJXozCerWdycODu/dfR8dPfhEDSoeEqwBAAAAAAAAAADtD8FeAMAOdfd77+jh+e/HBGPrg7MNq2uOD976TTBeljdeJDgcU+1zpNuGB8Fkr/uw3Y/Q8Xt+zZs+K1gbAAAAAAAAAADaD4K9AIAd4qMv1+m2N1/X4vVr64O2ccHYhsHaqO4gyBvdne01mQaL+3TaTSfv/XUN7Dw0WDMAAAAAAAAAANoHgr0AgO3uucWf6jevzlJ2GsHYuqBu2u/srfH61c8v0sSP57qjgsenDr1Yo3sfHqwhAAAAAAAAAABtXyTYO2fOHPeZiVGjRrlP6r4EAKTt3jnzdfOs16Sw/Xd/PF5b2HV5rf7zQ/Y3GOT++N11fZMI5hE1nvWJnsIfEgx3/71/3ueTi+7SzOVPuHEAAAAAAAAAANhVEOwFAKTl7vfm6c53/aeLQiGv8f7Zf9fm9fBb3V/XHjM8+Bf0iFHfJ24899/vcoJl2LJihvutennZo3pl+aM2JgAAAAAAAAAAuwSCvQCARv3t/Q/113fnuVK0dU1Qqta1eS1+q/tbNzzoGQy37mC43xW0R/h9/SE2bux4Nq0b4uZhA/2h1hn5fGXZ43p1+eNudAAAAAAAAAAAdnYEewEAKT2z6HP97zvz/JK00U1Qqta1eS1+q/sbDLcW/09k/Lrhflccv68/JMF4Xosb4uZhHcHYbgR/oLW+suIRffDlS9YTAAAAAAAAAICdWqi8vNyKSAEA0MCHazfooif+o6xQjbKywspSrfdZq1DwGdttw/3xQiGv25rI8Ei3a7zxgvbY/g3Ha3y4t7yo+UUaG++C4b9U/6J9g28CAAAA7Bzeeud9vfL621r75bqgD7Bj9OrZQ4cfcqAOGjs66AMAAIBMVVRUuM85c/xXKGZi1KhR7pNgLwAgqfMff1GL1q93wdPsIIhaH1TNPBgbP77fBONlEkyOGx6Zlz9/f3m9OvbTN0b83utHJRYAAADYOVigd9ab7+j0ycdp8IDdg77AjvHZsuV6fPq/NWH8WAK+AAAATdQSwV5ywAEACd3x1of66MsN/jty7f247iPyGXlPblRjE9mA4MP18XsGw63bevjtrs2N4rdbh/sXjOP/t24baL2syz4iw91QN9xfB9craA/ry23L9NKyv7pJAQAAgJ2Blegl0Iu2wvZD2x9tvwQAAMCOQ7AXANDAwnUl+n/vL5R7F6+9FNc19hG8I9d1+u2Rcay3P9D/8Lv9P363/bEe1hYZ3/5EPoJ+7m99n2AUxx8SDHfL9P65Eazb/a9btq3Tu6uf1crSBTYCAAAA0O5Z1c0EetGW2P5IleIAAAA7FsFeAEAD97y3yC856xqvh/tT9+G12H/3x3W48VyrP4L9DQa5P353Xd8kgnlEjWd9oqfwhwTD3X/vX2SEqE9rtXWyttdXPuR6AwAAAAAAAACwsyHYCwCIMX/tJs34dKUrIltfktf+1H24TytV64rQWpuNFxng+sQND/4FPWLU94kbz/33u5xgGbasmOF+a2TRrsVfbxsQ0tLNH+izkneCgQAAAAAAAAAA7DwI9gIAYjw8b4kVi3VN5P23fndd76AzUqo2GM+1ur91w4OewXDrDob7XUF7hN/XH2Ljxo5n07ohbh420B9qnfWf/vDoxgbMWfOszQEAAAAAAAAAgJ0KwV4AQJ3NFVV6euGKuqKy0SVkXUna6CYoVevavBa/1f0NhluL/ycyft1wvyuO39cfkmA8r8UNcfOwjmBsN4I/0A1x/SOf1jOkzza/ow3ly21E7IQsqF9aWqrq6uqgDwAAAAAAAADsGgj2AgDqvPDJqqA0rHVFSsdaq+sR9Pc7vSFBdzBeZIDrUzfI/fG76/omYWP4/yLjxUzhtbhuf4WC/94/6zR1n8Ecosfz2hdtmOUGY+dTUVGhv/zlL1q+nIA+AAAAAAAAgF1LqLy8PJI9DgDYxV3+zNt6ddlqhUK1yopqrDs7+KzvH044XuzwGveZeHikCcbL8saT153ljRd8xnbbcH+8+OGRefnzT7y83Qr30jn7/CH4ps2zbt06Pfvssy7IGK1fv34aP368unfvHvRpntraWpWVlaljx47ed7Hyyi2nqqpKzz//vFatWhX08WVnZ2vvvffW/vvvr6KioqBv67Ag/LZt29ShQwfvd2z682fetYxuv/12nXHGGRo8eHDQFzsrOy5WrlypOXPm6LPPPtPmzZvd/hxh+5MdM7YvjBo1yh2Xzdm/AABoS75/w0363S+vC7qA9JVVVuqVDz/Sw6++qbUlJa7fXn366MxDD9L4oXspx7sPaCr2y4Y+//xzd7/1xRdfuHus/fbbT0cffXSr32MBAID2J5LHbHldmbK8L0OwFwDgWOBt7P8+p+ra6oTB0gbB26xaHbz77rpgzBgV5uVZhcma9fki3f/B63XB2O8e8lUdO2R/fwFRasK1Wr+tRG8tn6vnP5mljeUbY4LJ+/UaoksOuEBdCrqo1ht31tJX9OiH98Wsz7h+h+r0fb+u/JwO+mTDPP31/Z/FrW/D9b9s/3vVKbf5gVgLMD300EO6+OKLled9d2M38e+//75efPFFDR8+XJdeeqkKCwvdsKbauHGj/vGPf+iSSy5RQUFB0LdlWID0T3/6k4477jgNGDDA9bNqkC1Twi4sXn75ZZ199tk64YQTWi1QZoHsu+++W+eff766dOkS9M0cwd5dhx1nDz/8sDs20tW1a1e3L++2225BH7QFNTU17tht7sMeQGuy85Q9bNXS52CgOQiqoSneW/K5rv3bP/TFxk1Bn1jDdu+vWy86VwN79gj6ZIb9MtaHH36of/7znw1eM2MPBV944YUqLi4O+uzc7Dyak5Oj3NzcoA8AAEikJYK95KwAAJw5azapqtYCpPaeW6+HvfM2aKzd+vndNkzqlJunKd7JZP8+fbVntx7aw2t6FXZ28wpGD/40lB3KUq9OXXXSPofr+knf0qg++3h93Rt23We0LG/c/fuM0tDu+7oh/lheEztaXa/Ist262r+6T2lV6QI3akuwm9bOnTu7IKU1++67r6ZMmeKqE7antf/whz+4UqvNsWnTJneD3Fps29i6Rr5Djx49NHbsWBdcvu2221zA1wLYrcUuZNavXx90AY1buHBhRoFeY+PbdOmwqsDnzp3rGmtvyvFnpYzt2Perkm+f1qxZU7cd4puPP/44piR1U61evVp/+9vftHXr1qBP+xK/jexBhJbYLmgZ9vskqtrf+n/66afuYYN0PPPMM3rzzTeDLgBon16ev0CXTrurLtDbIS9Pg3r11O49uteV5l2wfIW+cfv/6eOVsbX+IHN2/fjaa681CPQau/d5++23g670JTuvtYaWWpY91Pfkk09qw4YNQR+fXS/Z9WTkGmrRokUqLS1tsWtnm/8DDzygp556qtHz/c5w3Q4AQATBXgCAs2BNiXeT45fwDV5669rdfY/7U/fhhp83erRG9N5NtTZO0Nuf0P/r2uoH6LVlH+qPbzyuaW89oVeXztW2qnLXv09hD50/6lT169w7aupYxQVddNjAScF8/b8NRot0B4P8GzbrsCn87/Fl2RI3Smuykr4XXHCB8vPz9fTTTwfr0f5Y4Pfwww/XO++8E/QBdn4W1Hnuuec0Y8YMV4L4lltucaXrt2zZEozRuMWLF7sMpvhq3tsTq73AtoE1tj0ssyzSPWvWrHb93VrKRx99pOnTp9dtl/vuu0+//e1v9cYbb7TbdH9nYr9PoiCt9f/vf/9LYB67BAueLFiwQCtWrEj7AYeWYg8MPvroo0EXdqSVGzbq149Pd1U4W2D3mpOP16u//qmeu+EHev6nP9KsX/1EZx82XtlZWS4Y/PunnlNpuX+fhqaxBw3jA5zRLJBa6f0emUh2XmsNLbUsC2zbw8XdunUL+vgsCPyvf/1L//73v901lN0z24PGVuNTSVC9eHNYjTFWctoeam6s9pid4bodAIAIgr0AAGfx+s2u9KvdkAUtrt1a/T91HxrXv5++OmSo8rKztWzTRpXXZZoG47nG+xuMb8qqKvXyZ3P10pL39Mc3Hvaah7ShzL+Z692pu04YeoSbxk0Xpbzaz2zYp8cwHdD3ILdObsZRo7k+kW6vxV9vG8dvIt9jY/myYKTWZQHfU089VW+99ZYrnRvPbnztnb/Tpk1zN7Z2oxtdCthu/j/44APNmzdPX375pQu42rzeffddl3EXYTel1v+ee+5xQSm7UbXSZS2lf//+bn52Qx5h70udP3++/vrXv+r3v/99ymXa97DMAvu07WCZfjaNlbK0/lZq2DJD7NO+hzXRpTZb+/uh/bH3SVu1zJmw8W26dNl7t6+55hp9//vf15VXXumOTdt3W7OUfVsT2QbWWLtVgT116lTX3RJV1O8sbL+KbKcf/OAHOvHEE11JnrVr1wZjAMD2Zw+czJw5072uw64hrSrZW2+9VUuXLg3GwK7kX+/O0fJ1610w94ennqRvHDnJleyNKO7YUdedcYqmTDzUdb+xcLHeXPiJaweaw9KcPn36JKzC2e6Xzz333LrrKGvMK6+84j6bw96PbK8iOuKII/w8AQAAdhHZ119//c+CdgDALuzeOZ9p5eZtCilc11jJ2Ppu47dfc9gh2qdXL1VUV+mtFctcNc45WVn6ZP0avbH8U3+8UFgH7z5Ee3Xv46b8dOMXmr3iYxd0VahWa0rXqTCvQEO6D3SZD7nZuZq/9mNtrSpVr07dNabv/irIKfDWaaUb1im3kzp4zeyVr7p59ysaoGE9R3nLzdWGsrV6/4uXvflGr6+//lnBpy02JytHI3qe4LU1jwUuraTEQQcd5KpzTsTe72eByoEDB6qXt62MBT2tlOD999+v/fbbT5MmTXLv97Ug7hNPPKEDDzzQlQi20hfr1q1zTzYvW7bMBRTsptWeTLYSt3ZzbPP+1a9+5ZZjJXAPPfRQVx3qHXfc4d5bG1lmMlatmFUhNmzYsKTBM6vq0tbjkEMOccu29bGgqwVqv/rVr+qwww5z6/q///u/LkhrVVlHPz1tpSEtUNuzZ08X2LbhI0eOdEFkG2aBa6vCa5999qnLBLD3WNk7PDP5ful8F+wc7MED2+/smLB9LfIUfnQ1ebYv2X5gx9jxxx/vjjMrxdepU6dgjOTsuLbxBg0a5Lpt/7Nj2Eo3WLXtlmFl+7w98GClXa3k0pIlS9w+bfut7YfW2PFgD2pY069fP7eeNq495GElP23f33333d1x3dbZe7ytdIodu9HpnT20YqV+rWSGvZfOjt3od29bsMEe7LC0zb67Vdts28nSOGNpgB3/+++/f126Z9vZxrfj335rCzInS2N3NNsu9iCA7WcRtu/Y+3Xse1pabQ/H2IM7jzzyiPtO9h379u1bl07aPOxBAts+q1atUu/evdWxY0c3LNX2tQcP7P3wts/ZfmnsN7IMUis9Y/2t2x6ksXYL9Nh+aceNbU97kOixxx5zpbRtObaPW/9ISRurujh+mbYP/+c//3HD7Jxl41s6HJ3mtyWJfh+TaH+2c7odz88//7w++eQT9xtF0ov4NMG2o/2OVvo98rva/mvbggxlbC8v/HeWjjliYtDVkJ2DXnjhBZ1++unuHGjXq3vssYc7prfXezOTHYPYvqw0773e/vL52i+1b/9+rlRvh/z6QG+EpeX9unfVfz6Y70r1disq1MRh9pqd9DW2X+5K7PxiJUaT1QwzYsQIDR06NOhKT2PHVGPXZfHncSvxb/d0to52rRotfll27rPrOgve2vWDXa/ZPmPny2TnPrv2tnPk6NGj665VIiIPNts9YGSYpU22LitXrnTLtWvkVOfnxr6PrbO12/WYse8Uf81l1/OJrtsbW3Zke9h17uOPP+62Qfw2BAAgU3afaSzvJFOWV2UI9gIAnLve/VSbvZumLO9+zYKpdt9m7X633y/Lay4as79O3GeoC9C+vXy5VpRs0sjd+rr38H6y/ku9sfwTN5414wcM0V7d/BPOZxtXa/bKhcF8bL5hbx4hjdptqApy8r3ukDfOcn2xZbV6dupWF+wtqyrTys3L1auwtzrnF6uypkLLSj5Vv+LdNaxHVLB3zcsusGv5zpFPbzHyVqtueRb0PaD36W59miOdYK/dsNo4drM4ZMgQ189uii0j/mtf+5r22msvVzrOGgt2WMaxBTP33HNPN42dqC2oazfVVkrYMprtJtP6GQtC2RPLFiCOZO5bENSms+qwxo0blzKQ1FiA1IZb0MWC0bb+1v1///d/bllW2tEytm2ZFrCaMGGCC2JZpkB0xoUFDuwm3G6or7jiCpe5butn624BYFuu3ejb97PtEQmYmUy+H8HeXcfs2bNdgMUyWEaNGuUCv5aR/ZWvfKWusf3R9jWrvs0Cb/auMNufIsGaVOIDO8aOZQvoWoDW9jELUFoQzR5AsP3TMvMss8cypiyzxx6QsH3fjms7TiwTywJzlrF19NFHu2PGSlzZ/mvtqVh1s/ZeW8uYim+MHROtLVFwzDLibL3s+5188skubbMMRtvmlnlmLJBox6r9RhMnTnQPj7z66qsujbDj2TLgooO9dgxbpuBpp53mMgbtfXGWURlJExLZkdsnUaarZTTaPmTvPre0PZLhammcjWff3wK1Fly1GzirKtzGPfbYY11g2NIyy5RsbPva/mWZj7b/WFpq7Dey7RHJOLVuqzXCMigtfbXfz7an9bMHDo488kj329h6RKo5vPfee93+b+tr6x9Zhg2372Jp+RlnnOGCxvZd7ZyUKnDU1n4fE78/235mVXDbNrKHmOwG+6WXXnL7qaUb8WnC66+/7o5n22ePO+44t39aUM22kT2ckEpbOJ6xc2gsqLZ582YXxLD939INY/to5Hi1/dzSowcffNDtf5YuRfY/2+ctmGNpjp3r7LrLrq3sHGaBDwuw2HAbz86J9iCgddu51tJxW46lU3as2TBLzx566CE3zI4RrtO2r83byvS3l2Zqo3ePccTIYTrOu49LJj83R28v/tSVAu5a2ElHjBiu3Jz0H0oj2FvPjjU7h9j1oZ3fo9m52O5xbHgmkp3XTGPXDXbM272a1TxyzjnnuIc/7JrLApR27EfSiYj4Zdm5z65drZ9ds9j1ik1v9612zCdi98t2nTdmzJgG1wqJgr22jrYcu/6wYHiq87PNr7HvY/Oy+wU7fye75rJ7zPjrdkujLOib6trA5m0BZtsedi9g98qRhxkBAGgqO9+Y5gR72+aj2ACA7W5DWYV3Q+SXxnKFYb0/1m6d/h9pcNcuOmnfocrPydHa0lI9Mu8D17+eP56bJNISsPfmxvTwzFuzWFsr/apRs7OylZudE4xXz4In76x6W2VV25SXna+xfQ/1lu/dTMWOVt9t6+w+3F//f/A9Kmu3ulG2B1tvC8zajWSE9RswYIC7AY9mQR+7EbYMAX+9G2cBAbsZjmc3pRZEscBxU1lGnj2lbMEtCwYYy9SzzH0LVMcHuG09zj77bBfcsQzGaHYTbEGxyFPV6WrN74f2zfZPq5bS3uv1m9/8Rj/72c/005/+tK6xbutvw208G785LEPJAjqRzDrL3D7//PNdwMsy0CyQacEjaywwZhlFVjrTxrNMMEsHLFNv8uTJLqPbMrYsE8uCcI29N9SC1xbMjhcJcO8IlkZZsNDSspNOOsllWh588MEuQGv9LWhg6cB7772nY445RgcccIALSNq4lhGW7D3gllFpwUN76MPGt+/XWFBgR28fy8icO3euy7C0981ZiRHL8LP9wgKj9iDAKaec4jIf7btZsH/RokUuXbRp7ZxgNR5YpqRlQNq+kc72TZftX5YJafuo7YuWcWoBIMsItmCnbWfLxLRtbr+LZWDavmrb3TI9bX1sfJuPZXxa+mvfzb6LVY2YKhBvdvTvY+senTZYYwHXCNvWdt6yTGKrQcK+t1VbbiWh7AGPZKy2C9uGti3st7GHoiLbKZUdvT2w67BrKAtwWG0yFsy1QEY0q27ezkFXXXWVfvjDH7rrKgtc2DFhQRi71vvJT37iHp6yh/Ys3bFzoAVvrUSfPZRj50Hrb8uwNOT666/XZZddFlO6zR5YtGE//vGP3XWuHW+NHSfAzsICpXac2DnTzvd2/2Tn1osuuqhBcLU50rlusMYCuJFznB2Xdi1q12uNPXgYYeNPmTLFjW/nTLvWtUBpMlY7VeSaOBFLU+w6ya6jbD3tFUF27WTr3tj5OdPvk+yaK9F1u92np3NtYPcH9nCc/abxJZcBANhRCPYCAJytldXeTZAfkHQtqn/Xrf2xj28cMEr9vJuZSns6eOHHenfVSps0io3l/3VT+J2OP4eoHp7oLhtuJXzd8qNY6d7NFSX6eN0CWRi3X9HuOmLwiXHz9hr3x2/x19vrcI19WLdUXVtpo283mTzha09wWfVbzQ1M2Y1zJJDQmEhQ984773SNVbVsJXC//vWvu5toe3dS5Abdgr1WmjbZzaxlMNj3tRLK0SyYkOgJ9KbK5PsBrcWOnUj1vHYMWeZ49IMdidg+a6UiLDPLSkvZNJEnN1OJDxDt6MCQpQ2WuWcZ+pHS9ZbGWpDTHhCxjDZLy2x7RJ4uNZaWWPDB3rudKLPfakqwjDsrmWKfkeB6Y3bk9rHvawETC2xbGmmZfpbRatvFSptYhqF9X8vItMYCH7b97He30r2WIWtV3Uc/lJDO9k2Xlbax6SJsnSydjg7GGFsfy2C138iqQIysrwV2bHn2wIKl/5YZawFte9LYMmLTsSN/H8vItXdvRzf28FFEZFvb97Oqre07W0lse5jIvnsy9ru4awyPfVqGcKRkUGN25PbArsP2UXvA6KyzznIPEtorOOyBFEtn7BrKHjqx/c4e2LCAhQU5LH2y6SxAZKXdbFxLQ+wzcn6ztMLSagte2bgW+LB5WHDGui0YYulahD0gYg9D2DArEWfHiJ37sP10yMvVbl39qnw//WKNtnjpXjKrN5Vo8Rd+SZLde3RXxwTVPSMzdt3zzW9+0z2IeMMNN7gHJZKVhG2qdK4brNuGRV932rEYX+I2FbtGiDywbPOyY9+u9xKx5dj1kZ0fk7HrPHuQ2NIjC65a+nH55Ze79KWx83Om3yfZNVci6V4b2EOfkftkAADaCoK9AACnptYv/eoycIPG2iPdp++3jw4duLu7ufrgi9V64IM5/vBgep/f5Sax9qiBfrf1sDZ/uoLs+uCu9SmvttLFURNFeXXpyyop36TsrByN3m288rPqA6lursHsI+vcsAlG2o6SlT61m1u7AbaSh9/61rc0depUV/1dU9hNtmXgfe9739Oll16qW2+9Ne1ggN3EWsk7ywy05txzz9VNN93kSmlYwDdyA2vbz0p12dPOydgNvz0ZbZmF0ez3jfzGTdGc74edj2WsNFbaM56Nb9M1lWWM234YedDBMqXs3dHLly93pRvPPPPMlJlllhFl1eFaENOOKTvWLLM8E5EAUVsIDFn6ZRn28ZmVlp5YWmFBgUgmWvwDL9adLMhtpTKsinirfu+RRx7Rn//8Z/cOtXTsqO1j62wZt1azgWVSWvoXSe+spFw8C6BY6V4rQWtpppX4sZK1VqLud7/7nctUTGf7NpWtky07vnYJ+z0SBSotWGqlWYyVmLGHgWwftgcW7r33Xpchmo4d9ftYKSrbjtGNbceIyLaOZ8enlf5pLTtqe2DXYmmRBVqstO03vvENV5W+PXBkx7ulBfbghl1TWWPVtFuaZGmMXZ9a+vvAAw+4AIf1ixadrlvgw0rJpVMdra2PPehjxx22n47e73XQ0L1c+/ufLdX0t99r8Juaam+/ePjVN7W2ZLN7Vc9BQ/xpkDm7Z/r73/+un//85/rlL3/pqgO2d+dbY8eWBX5/9atfudcqpAo6piud6wZ7HYHV9GEl9e2aw6pxt4fU7OGO1mD3wLZOFrhNxs7Rdg6010McddRRriSwXXObxs7PmX6fZNdcieyoawMAAFoCwV4AgFOQayVV/MyYRCVkJw8boqLgCe8RfXpr+vkXasY3LtPXRo5WTpb/FPERe+6rx6dM1ZT9x/sFb90fnzcnNx+/zXVpWO89VJjnBxQra6q0rcoyjqMmirJo/Ueat+Y91YZr1a1DT/XrPFjlNVEZzTZ7+6j7DJZT9+ndVGZn9m6k5rBMcCtFZU8SR7NSUz/4wQ9cCSkrdWE3/Vai1gJAmbAMtt///vfuPbpWWsKqrb3rrrvcvNOtGsy2jWUMWJAi0lhAKz4QYMEZC7pEnhbfHlri+2HnYxlD3/72t3XJJZe4KtjsKf34QKt1W38bbuPZ+PFVj2fCMsitVK4Fviyj2qqwtKqJTzzxRFdVZmPzttIB9s4yCwrbOln15C5dzZBliLWFwJBl9FvQ0jLlojOMLb2zNMKOz0hA3r57hAUYrPSoDUsWGLD+FgCzoKItx97xmK4duX0sAGpV+1rpD6sq2ViV3ZZhaKV6rMrkSGP7UWSftbTWMg4tGGMlTq1qVdumjW3fRBJl3sezdbIgT3TJFGMZwrYv2zysJobo9Y2uDtHOF1bNsz2kZOcE26/T1Vb232iRfdmO4ejvbI1V0Zwu26/t/BkdBGtMW9we2DnZ+cZK/Nl77q26fEuLLVBi1bFaDS6Rxs5pls7Yu9ZPP/10FyC24Eb8NWE0S7Ptepeqmdu2rx4wypXUrfHOSb+f/pweee1NF9yN2FpeoT9M/5cemPma6x6zxyCNG5K8RCaSswcBrfSolXq3awALtNoDFFYbjDV2jWDnWgvy2r2gPWCb7oNTyaRzXWb9bTn24K69dsSWb9fI6VbhnCmr1cTSmXRLvlrtAraetk1sXRs7Pzfl+yS65ooEl6O11LUBAAA7AsFeAIDTKTfbu3EKMoztPtH7tHbrtD8dgoCGhSgKvPaOubmusfZI2CI/2/rnBe/e9bg/Pm9O7m+0Yb329Jbrv/NvS0WpPvpysdcWO060mUtf1Ppt3o1rKFtDuw/3TmJRp7HIZN6nW5K/4tbi/fW/R14o9fsFW5KVBLRMdctcj4hUUXr11Ve7p4utJGyqTLRk7Gnjv/zlL+7pZXsPmpVaTFWysLnspteCZ6lK2dn2tkwNu7Fvru39/dB+WCkjK4U0Z84cl3FtGTvXXXedKz0Raazb+ttwG8/Gt+kyYfuzVX331ltv6dlnn3XBXauq3Ppbxp1lMFm7ZXBblczRGd2WWWWZR/aQRCSjz4ZHSglYplQmQbK2xo5F2x5WwtkyFo0Fda3EmGXWWRpggUOrvtMy0iLbyt5pauPbexsjbPvYdooMt21uLDhhmWyZBM92NAviWiaglS6xYIplONq+YO+IjewflhkZyVi0oItVX2jf3dj3tSad7WvbxYKLVorFlmUPI1jp8cYCLhbwsQd6rLrEyP5omcF2vrJl2vLsd4isk5XMsXlaY4HsSAkkW087d0WXkm2PItva0olIrRT23W0/tO0aEfneETZu5FUC1h5Jj9r79sDOw9IGqxUlcpzbMWzpiL1aw9Iluza181skzbC02BqrOcWCQ/Zghx0LVkIxVW0C9jCLndMsmGUi6VEm7GEJO1fYtNZYu/WLH4am69etq358+mR18NKoMu+c+/OH/6lDf/xznXDjb3X8L3+ridf9Qv/vpVdcMNis3LBRsxZ8XHcuQHrseHrxxRczCt7aOcSuI9Nlx6PdX0Y3prHrBjuP2at27NrMahg58sgjG5QEbkm2Lnb/lu7DjfbgyMSJE91D0XZt1Nj5OdPvk+yay65l4q/brX861wYAALRF2ddff/3PgnYAwC7s2UVfaENZubK8ezK7L7PG2rNCYde+ekup3ly+XK989rlmfv5Z0HyqjWXbtGf37soOZXnDFunheW/r/S8+15aKMo0fsJf26ua/s/Gzjas1e+VCb142v7DG9d9Xk/eZqE55HVxp3dkrP/Cmm+eW2bNTN43pu797X295dbk+WP2eNpSv07bKzSoqKNLgLnt5wzp48wkpJyvXW4e1mrPmZYXkzTsrst4Nv0fXgr4a0fN4tz7NYRlZlpFmJR7shjCe3RA+9dRT7ubxsMMOqwvoWnVdlsFmJcDi2RPQ9l41Gz8yz2TLsafF7R2RVho4PnPZMvbs5t6qtkpV3a1lFlipOcsESKdaXMtMsICZlUxMFKC24c8995wrqRR5X5uti5WCtGpAE5XkSzY80++X6XdB+2UPTFimsmUA2z5imcAvv/xyg8b623AbzzJmrGpgy5RujB1vti/ZPGzftAccrGo520dtv7dMcDsWLYBnw21cm7cdq1ZawAJpVorBAmZWtZytg73r1DKIrNsy123/ttLqNm8rJZAoDWlLbJtbZn70ulrAwLaHVT//+uuvu21h1fxaZpttIxtmtRrYd7WAgw23EtJWm4G9Q87SbhvHSrnYOLbt7Hd97LHH3Dayedq2PPbYY9vsgx62XSxzMPJOcvveVhLEAqkW9LXGqlC1d8NZ2m/7iqVd9t1t21iA9YknnnD97PtaaSB756/No7HtG9kPbT+3fdGqIrQS0fYuXQs627azNNkeKth///3rgua2LW2dLGPZ1snma9PasWGNpd2WjlvA2uZt624BYstAtWoPbX1nz57t1sl+RysZY+vZFsX/PhHx+3NkW0+fPt19r0hVkLadLIPctuMrr7zi3j9tDzHYMMsQtm1nx7RtS3uAoS1vC+x8XvjvLB1zxMSgqyE7Zi3NtXfKW5pq+7BdH1kVppYO2MNLti9b9c2RNNf2b+tv16IvvfSSO/7tGLGgSuS9u/bQhz3IYseNsZoq7METO37smLDjx4Ildl60IEn0MZgoTTKWpthxZMekBcnsnGFVrlo6GT2MhymaZ2DPHtpvQH8XxC2vqlKld+28aes210RK+fbv0U152TlaU1KiVz9apB6di7Rv/77uvJWOxvbLnZ0FWO3cGXmIIhN2D2PHWCp2/rLj0o7X6MbuLW36VNcNdizb72hVSdt1g13n2vFqx7tNHx8ojT+HWnph58TItbTde1l6YNcs8dfX9qCYXTNYwNSO5UTsPGrXgJFrFmNpiZV8tutB+z52HZXs/Gz32I19n+h1tt8m2TVX/HW7LdvSuVTXBvHbAwCAlhB5qMju6zNl96smVF5ezuN6AABd9dy7emnJKmWFauuaUFS7H/SN6s7yhqtWl407UFNGjVFuVrb+tWiefv/a866/Df/uIV/VsUP2d/N/bdmHemfFx+qQm6vRfYdoeO891CHHz+xZVvKF/vL2vVq1xV/+fr2G6JIDLlCXgi7aVL5Jf59ztxavX+CW3yE3T1cc+GPtXjzYTWs+2TBPf33/Z3Hr669/dvBp6z+k23iduMcNwVRNZ08SW1DCqhqND2JaoNduJB988EFdf/317p2OEVYlsd2AWsAjnmXE2c3qj370o7p52nLuv/9+975au6GMsJtju5n/4Q9/2GD5dpNs74Gy0sOW2ZaMBU1vv/12956kVONFWOmvm2++Wd/5znfcU9Tx7El2u0G+6qqr6jLkLAB22223uXWxG/h4NtzemWTv6bRSzhGZfr9MvwvaL8vMseMkU/YQggXDWopl5FkGuGViJcqcs3TA9ks7FiLDIyVcbZp0M07bOrsZse9lGffJgrK2HSxT0DLT4oNhNr1l+EUyAyPzs22WLIOwPbLvZN8tfn+x/cGGWXAk2fZJtX0j+2GiaRsTWaf4aW1dLIPX+sXvq7Y8+z1tXeLT5vYu1b5n/SPHsr3n1AJdVgLJtlOqfR9oLd+/4Sb97pfXBV3JRfZrC/QkOmYTpc+RdMn263T37Ui60ZTjwdYx+jwQfbzFD0PzlXi/0zOz39fjb7ytpV+uU463nYft3k/nTDhYh+27t+547gX97aWZblwrCfw/Z5ys08aPS+u6Jd39cmdlpUftffZ2XGXCAovnnXdei5xXI8d8/LFor2945JFHdNxxx7kHu2w8O/btwS871uxVIy11bWr3rxaUPu2002KueZoq8p2iz89N+T6prrkSXbebRMsGAKC12L29sdolMmU1TZnMcgUAADutPbsVeTdFVhLW/ng9vE9r97v9fnWtrtN/D24sv0cweqTTOXTAfrrqkNN12bjJGtdvXxfoteqVV2xeo/vmPKGV3qebZ/RE0YJ5VtZU6J1Vr7rPGMFwt851n9bT++saqXvBADdqa7AbRyuda+/gffjhh927ZaMDvcZKJtiTzpGqSo1lYtmTxtZYZlw0K2VhN5hW7VS0vn37upvcSNVSxm5S7alkC57azW5Ls2DsSSedpD/96U91VYQZW659J3uy2m7qI4HedFgA257mtqq+ojXl+9nNeFOepEf7YlXCZVp628a36VqSZaBZiaZkmViW5limUPRw67bMJZem7iTs+9l2SJW5b5mXNk6iYGR85llkfjtbhpp9n0T7i+0Ltk+k2j6ptm9kP0w0bWMi6xQ/rXVb/0T7qi3PSsvsbIFek2rfs37xv11kO6Xa94EdLbJfJztmE6XPkXQpk327OceDrWP0cRd9vMUPQ/MVe7/tuYcfqn/+6Lt699ab9NZvf6H/d8U3dcyokeqYn6+rTjzODTdW5fOvHntK/3xztrsOR9sXOebjj0W7R7V7VQuM2vFt53J7ENfaLR1oyWtTK5lrAezIcdxcke8UnRY05fukuuayYYnO9YmWDQBAW0Y1zgAAp6S8Us9/skquKmRrQnZTb+3eDZCsdKx9RvW3kr7e5wH9+mlEn91cNc6frF+jN5Z/6o3oDz949yHaq7tflUS0ypoqrdm6QS8teVv/O/shrSld6883mK5Xp+4Nq3He9qU/3FvmspJPNLT7fure0S8NuqFsrd7/4uW6dYqM53cbK4Usjep1krp3GOj6NIeVSP3HP/6h++67Tw888IBrrLSPVU9n75n95je/GVNSNcJK9VrJ1D/84Q8uYGrVfVpg+OCDD9YRRxyhxYsXx1TZbE9lWzD0t7/9rXsfo1UlZTe1VuWVVdFxyy23uCe+rHple5LcXHrppa5a1MaqNLaAaaZVH1tVVVbdlZXWtWrKLEh71113uSe4Lbht1f9FsyekrRqxZNU42w20BXatVK5V22fvRrUn2aza20y+n20vq27soYcecv1tHbFzsswcq8LbqpC1jBrbX2xftgyfCMvgsn3Dqp47/vjj3bu8IlXEAUBzUHUj2oJdvbpctB4r6XvQkD1V6l3Dz1u63FXxvGL9Bh03en9X0jeVXX2/tAderSYkqzI4XXbNavdJrX1OseXYPVXkAVurHtJKwdrDtSeeeGLSB0IyZdfk9v3tIcvWDJBur+8DAMD2ZIVYDNU4AwCa7cut5TrybzNcdcepq0OONInHix1e4z4TD480wXhZ3nhB9c+RaqBju224P1788Mi8/PknX96lI+9Tp9wdHwi0IKg1kZIQ8U8Xx7MSq/b+I8tgjn5S226ordo8C3TFD2tNtjwrnWyflrFhT0k3R+R72Lyib84z+X42jm0jy1iILyENAEBLsNo2rAQQGcnYkXb16nLR+iq8e4/fPfWsZsyZp99ddK7G7rlHMCQ59su2zTKQ7QFde7jY7pfswUl7ELmx+9C2amf7PgAAtEQ1zgR7AQB1znl0lhas3ZAkWBoXvI0EYSPDUwRjG3QH84vuThxMTh0srptPMF7i4X7Tt2gvnbPPbcE3BQAAANofgmrYHmrDYVVWV6sgzYdJ2S8BAACajnf2AgBa1OEDe8m948bV3Rx51611+/38bhtm//32yDjW2x/of/jd/h+/2/5YD2uLjG9/Ih9BP/e3vk8wiuMPCYa7ZXr/3AjW7f7XLdtfJxvufw7ufKCNCAAAAABIIcu7h0o30AsAAIAdj2AvAKDOsUP6KhwO2yt5vSbs2q3T/1P34YZ7Q9yna7PxXKs/gv0NBrk/fndd3ySCeUSNZ32ip/CHBMPdf+9fZISoT2t138N1+HMZ2nWCGwwAAAAAAAAAwM6CYC8AoM7grkWaOKhPUDw2KBUbKS5b/+E+rbSs/XdtNl5kgOsTNzz4F/SIUd8nbjz33+9ygmXYsmKG+62RRbsWf71tgN/s0eVAdeuwezACAAAAAAAAAAA7B4K9AIAYZw0f5ErDuhKxQeN31/UOOm2YTRGM51rd37rhQc9guHUHw/2uoD3C7+sPsXFjx7Np3RA3DxvoD7XO+k9/eHRjA0b1Ot7mAAAAAAAAAADAToVgLwAgxoSBvTV+914JSsjWFZQNOm2YTRGM51rd32C4tfh/IuPXDfe74vh9/SEJxvNa3BA3D+sIxnYj+APdENc/8hnSwOLRGlw81kYCAAAAAAAAAGCnQrAXANDAZWP38f5GSsdaq/1xvfwPKzBrHa47GC8ywPWpG+T++N11fZOwMfx/kfFipvBaXLe/QsF/7591mrrPYA7BeIf0O9v1BgAAAAAAAABgZ0OwFwDQwOjduuucEXv5pWP9YrKutKz/x3W6UrPBQH+8yADXJzLc74r8C3rUqRvPdQRjBfMM/kdmGQy3D/c3+G/ju0H+eK7x52HNAX1OVL/CYV5PAAAAoP3r1bOHPlu2POgCdjzbH22/BAAAwI5DsBcAkNB3DxmpPboW+SVkrbSs+4h8WplZa49qbCIbEHy4Pn7PYLh1Ww+/3bW5Ufx263D/gnH8/9ZtA62XddlHZLgb6ob76+B6Be1hdS/YXUcM+IabFAAAANgZHH7IgXp8+r8J+KJNsP3Q9kfbLwEAALDjhMrLyy3XHACABuasXqdvTn9JoVCtsqIa684Ohb3PGq87HNM/fjx/uD9e4uGRxh8vFDW/SBM/nuvO8hr5n6HgM9Jtn+cP/6X6F+0bfBMAAABg5/DWO+/rldff1tov1wV9gB3DSvRaoPegsaODPgAAAMhURUWF+5wzZ477zMSoUaPcJ8FeAEBK0xd+pl+98qayssIuqJqdILjqd4e97hp/vEhgNjK8LlBrTWPB4UjTWDC54fBIc+Je39L+vY4IvgEAAAAAAAAAAG1PSwR7qcYZAJDS5L0H65vjRrp2917c4NO9Qdd1B+/IjQxwfeKGB/+CHjHq+8SN5/77XU6wjITv7PUHO4cP+BqBXgAAAAAAAADALoFgLwCgUReN3k/fGD0i6r24XhO8L9e1eS1+q/tbNzzoGQy37mC43xW0R/h9/SE2bux4Nq0b4uZhA/2h1hn5nLj76Tqs/2ludAAAAAAAAAAAdnYEewEAabnkgBG6bOz+fknaqFK1rs1r8Vv94rX+cGvx/0TGrxvud8Xx+/pDEozntbghbh7WEYztRgjpKwPP0uEDzrQOAAAAAAAAAAB2CQR7AQBpu3DUCP3wsEPqStPaf9fmStlaq/vr2oNB7o/fXdc3CRvD/xcZL2YKr8V1u2X4HW5s7/PkoZdq4u6nuNEAAAAAAAAAANhVEOwFAGTkhKF76Y4TjtfgLl1d6VorVdvUd/bWjec6grGCeQb/I7MMhtuH++v+9+7UX5eOul5jeh/uRgEAAAAAAAAAYFdCsBcAkLERvXvp7pNP0an7DvNL9caX7A1K3QY9g+HWbT38dtfmRvHbrcP9C8bx/1u3DbRe1mUf/vBD+h2lyw/4pQZ0HuoGAwAAAAAAAACwqwmVl5dHstEBAMjY/LWr9Y+572jO6uUKhWqVFdX43WGvqXGfiYdHGn+8kPuM7h873t7d99FRg0/UoOIhwRoAAAAAAAAAAND+VFRUuM85c+a4z0yMGjXKfRLsBQC0iNkrl+qZRfP07hef1Qdn5TVZiYK6fntjwd9QECS27v16DtOh/Q/Xvj2GB0sEAAAAAAAAAKD9ItgLAGhzVmzeqFlLF+nd1Uv06YZVdcHahsFcvzs7+GwwXlatBhX31/CewzS6z2j17tQnWAIAAAAAAAAAAO0fwV4AQJu2oaxUC9et1Ocla7Ryyzqt27pBJRVbVFFTpqraShfYLcjJVsecXHXtUKienbqob1Ev7V60m/bsNkjF+cXBnAAAAAAAAAAA2LkQ7AUAAAAAAAAAAACAdqglgr1Z7i8AAAAAAAAAAAAAoF0h2AsAAAAAAAAAAAAA7RDBXgAAAAAAAAAAAABohwj2AgAAAAAAAAAAAEA7RLAXAAAAAAAAAAAAANohgr0AAAAAAAAAAAAA0A4R7AUAAAAAAAAAAACAdohgLwAAAAAAAAAAAAC0QwR7AQAAAAAAAAAAAKAdItgLAAAAAAAAAAAAAO1QaNGiReGgHQAAAAAAAAAAAACwHfTu3dt9zpkzx31mYtSoUe4zFPa4NgAAAAAAAAAAAADAdrF582b32ZxgL9U4AwAAAAAAAAAAAEA7RLAXAAAAAAAAAAAAANohgr0AAAAAAAAAAAAA0A4R7AUAAAAAAAAAAACAdohgLwAAAAAAAAAAAAC0QwR7AQAAAAAAAAAAAKAdItgLAAAAAAAAAAAAAO0QwV4AAAAAAAAAAAAAaIcI9gIAAAAAAAAAAABAO0SwFwAAAAAAAAAAAADaIYK9AAAAAAAAAAAAANAOEewFAAAAAAAAAAAAgHaIYC8AAAAAAAAAAAAAtEMEewEAAAAAAAAAAACgHSLYCwAAAAAAAAAAAADtEMFeAAAAAAAAAAAAAGiHCPYCAAAAAAAAAAAAQDtEsBcAAAAAAAAAAAAA2iGCvQAAAAAAAAAAAADQDhHsBQAAAAAAAAAAAIB2iGAvAAAAAAAAAAAAALRDBHsBAAAAAAAAAAAAoB0i2AsAAAAAAAAAAAAA7RDBXgAAAAAAAAAAAABohwj2AgAAAAAAAAAAAEA7RLAXAAAAAAAAAAAAANohgr0AAAAAAAAAAAAA0A4R7AUAAAAAAAAAAACAdohgLwAAAAAAAAAAAAC0QwR7AQAAAAAAAAAAAKAdItgLAAAAAAAAAAAAAO0QwV4AAAAAAAAAAAAAaIcI9gIAAAAAAAAAAABAO0SwFwAAAAAAAAAAAADaIYK9AAAAAAAAAAAAANAOEewFAAAAAAAAAAAAgHaIYC8AAAAAAAAAAAAAtEMEewEAAAAAAAAAAACgHSLYCwAAAAAAAAAAAADtEMFeAAAAAAAAAAAAAGiHCPYCAAAAAAAAAAAAQDtEsBcAAAAAAAAAAAAA2iGCvQAAAAAAAAAAAADQDhHsBQAAAAAAAAAAAIB2iGAvAAAAAAAAAAAAALRDBHsBAAAAAAAAAAAAoB0i2AsAAAAAAAAAAAAA7RDBXgAAAAAAAAAAAABohwj2AgAAAAAAAAAAAEA7RLAXAAAAAAAAAAAAANohgr0AAAAAAAAAAAAA0A4R7AUAAAAAAAAAAACAdohgLwAAAAAAAAAAAAC0QwR7AQAAAAAAAAAAAKAdItgLAAAAAAAAAAAAAO0QwV4AAAAAAAAAAAAAaIcI9gIAAAAAAAAAAABAO0SwFwAAAAAAAAAAAADaIYK9AAAAAAAAAAAAANAOEewFAABNUl5SovKgvalKlszQ/bffoCsv+oFuuv1+zVhSEgxJR7lKSpq7BgAAAAAAAADQfhHsBQAATTBb0wZfqWdWBZ1NsPY/P9BZ33pa5YOP1vlTz9SEfQu06P2lwdA0rHpGVw6e5q0JAAAAAAAAAOyaCPYCAIDtr3ym7rp8jS69+0+65MSJGjd2nCYedYamnj4yGMFK/c7W7IxK+gIAAAAAAADAroVgLwDAs1aPXdRN3bola/bR+JNP0ZU/vVuPzVqkkupgMqCp5szSrSeep6MHBN3xSmboprHH6tixN2kG8V4AAAAAAAAASIhgLwCgznUvbNCGDQmatXP0/L1/1CXjCvTBvRfooPEX6u73icCh6dauXKRe/XqrOOhuIL+3eo/1PvcoVpd8vxcAAAAAAAAAIBbBXgBA43IKVFw8UCNPPE+/vOtNvXXf0Xr7nLN06zvlwQhA5g4a0CdoS6BgpK55bpVWvXmdxhUE/QAAAAAAAAAAMQj2AgAyVrzvefrT/x6ou/7nfi0K+gEtLqdABTlBOwAAAAAAAACgAYK9AIAmKZg0WZcuu18z5gU9AAAAAAAAAADAdkWwFwDQRAM18OC5WrqSd/cCAAAAAAAAALAjhMKeoB0AsMtaq8cu2kdLp27QNWODXo3yp3n6xI/199N7Bf0C5Ws19yNp6Ohecq9bLVmkp++9W4/9d5FKNEATvnu9rpkQN40pWaqZ/3lGzzwzQ4tcDLlYQ79ykk484WhN3KPYjZK+cq195xlNf3qmnpm3zO/Vb4ROnDRZk08ep16NVQ/srcuMZ+7XjP/MDtZlgEacfpLOP+5oDe3uxkjBX/ajDz2tGUuCYLi37DOOPVPHHDcy9bLXL9KMf9+npx+fJ3+tM98Ga995LOZ7F+9xtE762pk6cWzwe6TD+w1nPztd019+RvNW+r0GjDhDJ513ko4eYuthv/+10k1/1xl9/eHpKF82V28v3aSSV3+ve3SxvndY1Hfqs78munn7yld5424dGNMvxqrHdOHwpbp8wzUaF/RKpUW2CwAAAAAAAAC0kM2bN7vPOXPmuM9MjBo1yn1SshcA0Cy9O+UHbVE2zNStf5opO02VL75flx35A83In6Brbvu7/n7bJTppWHygt1yL/nGlRh90tu5f0lsn/s+d+vv/88b93+t05uBNeuy7B2n0Ffdr0dZg9MYse1o3nDxKx05bqi5HXa47bV5e88fLJqrLkjt07PgLdfe88mDkeN66PH6DTjnyKj29daTO+7k/ra33gVuf1g8OHa0rH18ajJvA1kW6/9u27DUa8LXrYpZd8NGtOnb4KbrpP2uDkWOVvHyTjj30B5qpibrEtpVNG78NUhWkXj9b0y4aHfe979R1J/fW0mnHatTJt2p2GgWxlz7jff9Rx+qOJV109JWR3+K3On+cNPNXkzT6ommavb4sGDsTSzXrqVmaN2ee5i7bpE3L5rr2uubTTcF4vs1v3KpTnmyBt0K30HYBAAAAAAAAgLaGkr0AAE9TSvbO1q37XKuCR1/W1BFBrwgrcXmd9IufSzddsVDn/fU6TUxaGrZcs285Wee/eozuu/cajUtYiLNEc/9ymc564kDd94Q3TqegdwLl79yqr31rlsbdfKeuOypB6WGzdoZuum6RTvrLVI2MKWXrrcsfvqbLFp2hh28+T0MTrUuJ973PPF8Lp87UnSc3DFrP/Oko3VR4n566dlzi0qIlizTjo3wdPX5g0COw5H6dffxMnfnCnTpjQNAvztpZM7R6zNEamej7L3taV552h3rffF/S77304ct07D1765Hp12hkwpUr16J7r9Tk+wfq9vuv09HJNt+sW3XFd+/XotKRuu6lzEr2Rqx9/EJdq1salgqPYuPss+RybfC2ZULplOxtke0CAAAAAAAAAC2Pkr0AgB2m/OXpuqv3mZoQH+iNKFmox/70go65PVWgV1r71JU6f8Yxuu+BZIFeU6yR3/677jv6BZ3//aeVuFysZ+tM3XTeC5rwvw8lD/SaXkfrurviA732nW7S+XPP05N/SRLoNcXjdM3dN6rih7drZnxJ47UzdP/tZ+q6K5IEek3x0IaBXs/cp7x5/s91SQO9pteEJIFeLdX9379Vve94KuX3Hnj2n3TfV57WTY8kLplc/uatuuyegbrz0eSBXtNrwjV6+PlfaELSH6KtaJntAgAAAAAAAABtFcFeAEDm1s/Urb96W5feerFGBr0aePlWvbDn5SmDlyqfqbt+uEiX/mpqytK6vgKNu/YWXfHptbr95URVMJdr9p9/olkX3qipY5tQPLN8tqb9dJGuv+EMNQzFxhlwoi4+91Hd8++4aOeyRXrs5P21T8aLX6tFc9dqwrBGl5zQ2sd/ohv3/YWuGd/Ygr1tePYl0q8e0+ygT725uueH92nCz6/RxKRB9yjd+zS+nXawltkuAAAAAAAAANB2EewFAKSvfK1m/+MGnXLoTSr53p26JmVQ9TxdflbSULBT8vIzuvXoa3RJ2sHZkTrvymM07fEZavCK1ZJZevTXvXXJ2SlK1aZQ8vKjumnSVJ2xR9AjpQIdOOFMPf3GB7Hr0a23Ji5Zo9VBZ/o6q9cAaenqprw4dq4e/VOJrr9wYnrfe48JOmnY03p7XtAdKPe+/w29r9clk5qy9dqiltkuAAAAAAAAANCWEewFANR5+6FpmnZ7fHOTfnDRKTrlmNHqNmqy7lq1v66b+bx+e1xj5ToHqk+K6putJO4Hb9ytkyYdpHQKkkYUTzhJl/xjlt6Oi4uWvz9Td598po5JK1gbz1+XSw7eP+1AccHQ/XXS7EWKqfh3jwk6o/cNuun2ud4cM1GgA4+6Ri/ccpOeXhb0SteSuZqhozUy7e89UHsfPFdLV0ZvwHK9/d9pOunsY9p8ad20tch2AQAAAAAAAIC2jWAvAKBO72EjNGJUfDNBJ37vj/r7o29ow8dv6s5rz9C4FO9zTd8aLZs3UgcOzXBmxUM1ctJ0zV0SdAfWLJunkQcOVdNWzdZlokYmfVFvAjn5yp9Xroqg0zdQ5/3lSY38z1k6+KJpmrEk/cBhwYRrNP2ycv3kmFN0wz9ma211MKAR5csWauakERoadKcjP6eX1myNXvMm/hZtWMtsFwAAAAAAAABo20JhT9AOANhlrdVjF+2jpVM36JqxQa/mWPWYLhy+VJdvuEbjgl4Nzdat3e7QwPl/1xl9g15pSbyus2/ppjv2+Fh/P70pAUtbl2u18Ltnav8uQa9GLdXMn/bW9xN9x+q1mv3w7frdH6Zp0R6XaOpll+jMSUNVnBMMT6FkyQzd/+sbdPssaeLF39el556ocX2Tlzde+/iF2ufh3vrlhPTL5G5a8KgWHfVI1LZqym/R1N/PZ+t9rW5J+Xu577bkcm24NslelGI/a5ntAgAAAAAAAACtZ/Pmze5zzpw57jMTo0aNcp+U7AUAwOmigSMTlWxO1pyoqU+dlLjkaE4vjTv3l3r4nVV6/gcHquLfN2jS8PG67JanNXd9ME4SxXscral3vamPX7tXZ/b9QHedOUqjz/qB7p61NnnV0H2HJli/5M2EKb/QNQd3DibeibFdAAAAAAAAAOzkCPYCAOAUa+9xEzVxQibN0EbeN1ygXmPP0NTfPaz3X7tTJ5Xfr7MOPUU3vZxG9c7dh+roc3+pO1+bo+evGKq5v9xHB19xvxZtDYZH67d/gnVL3YxMUVp4p8F2AQAAAAAAALCTI9gLANhBemngiU9r6aqgM22rtfSNierdLegM9Bpwkt5atjroypS/LguXBZ2toftInXTDw3rrbxM087SzNG1e0L9RBeo14RL96bn3dV31jZr80xmKDhX36jdUmrdUS4Pupuml3pPe0tI1QedOoGW2CwAAAAAAAAC0bQR7AQA7yEANHd1LsxZkGI5bMlezNEF77xF0BwbuOVKaNbeJwT1vXQ4eqRnvzw26W0/x+Gt0y88rdPt/MlxWzkCdceMtOuavj2rm2qCf2fdAXfLM21qURmHh5HprwIi1mrskesbtXItsFwAAAAAAAABo2wj2AgB2mJFHXaFN9zyjTMKec5+9Wx+fO04jgu46w8fp/AV365m0S8zGGnnYmdJDszJal6bq03eg1pZuCroy0L2PBqpEJaVBtyk+UBPOvVtPz2pOVLNA+x98iZ5++a2YUsPtWotsFwAAAAAAAABo2wj2AgB2nBFn6vI9btCtD6dZHnfV07pj2kDdePFENXizasFEnfc/vXX732OrOU7biPN03bjb01+XZiirlnoVdgm6MlOuYhUXBh1OsU667JdaeMsdmp3ofb5pKp50oq6ZcYfuTzdYvn51G68iuWW2CwAAAAAAAAC0ZQR7AQA7UC+d8fM7lf/Ty3TrO+VBvyS2ztW07/9EuukXOqNv0C/OwAuu0xVzr9C16QRsl83U7Jh39Bbr6Ctv9NflzaaEi5dq5jNz0wg0z9Uz97yl88cODbql8nlPa0Ya7wsu+fejuu+oiRrZK+gRMeJi3XjiTJ3//ce0tDrolykLlt80ULdfc2ujwdHyxffrysnX6oWgu81qie0CAAAAAAAAAG0YwV4AwI414Az96dHJevu8k/WDxxclDJaWfPSYbphyoWaMu1N/On1g0DeRkZr64J0a+MApOuXXT2tpoplVl2ju4zfolCue0eqgVx1bl6fP19LLJ+nC22dqbZIAYcm8p3XrpTdoxvqgh/HGLXnjJ5p08g16bF6SkG/1Uj39o2s1/ej7dM2E+rLJFdVrdP9po/1lJol5l7w/TZddv0k3/u48NdwCBRp37SO6c8D9OuV0b/kfJVl++VrNvPNKXXln4sqqB57+J9139As6f8pNmpHo9b3V3vS3X6hJ31+qM6Y/rxtPDvq3WS2zXQAAAAAAAACgrQqFPUE7AGCXtVaPXbSPlk7doGvGBr2aY9VjunD4Ul2+4RqNC3o1av1s3f3Lm/S7V8t00KSJOnCgVXO8WguffkYvdJig7//4l7pkfLE/bmMsKPmX6/WDabNVfPDRmjhmoGxum5bO1NMvL9XIC3+rG789Ub1y/NEbKFmkx35/g256eKkGHn20jh7ax/XetPRtzbT32o6+Qr/9+cWa2LdBZdIqmfeYfud9j0dXDtQxRx2tvXv4/euWfdmduuWykWrwTSzgeFfDdY5sg1ldTtQvfvdLnTTA9Uxq7axpuv5Ht2t2p4N09FcO1EBX5bM3j//M0AveOp354+v0/ZO95Sf77irXosdv0g2/flRL+x2jo4/aW/btG24722eulW76e9KS1qmsffxCXatb9PfT44sp17Nx9llyuTZcm2wvWqrHLjhFvyux7/WQrhnf8PeIaP52AQAAAAAAAICWtXnzZvc5Z84c95mJUaNGuU+CvQCAtqW8RIvmf6DVZdbRQX2GjdDQ7smDeClVl2vtZ/P0sT8zqctAHbjvQBWkG9Dzpl/60dtauino9qbff4+BKu4UdKeytURLl3wQM216yy5XydplWrRwtfy1bto2KF+/SPMWRM1j76Ea0Ku44buOk/LWY9kifRD5Apluu+3F+41KtlZI+f+fvTuB06F+4Dj+Fdkt7Aq7NjlyhtDKsoQNkeSKdeSqHB2Sq40clS5HRVJJh6PD0UEKhYgiuVlHyNmu48+ua5et5xH5z8wzu/vs2pNdPHzeXtMz85t5ZuaZ+c087X739xtf+Wbgw136cQEAAAAAAACArEHYCwAAAAAAAAAAAAAeKCvCXp7ZCwAAAAAAAAAAAAAeiLAXAAAAAAAAAAAAADwQYS8AAAAAAAAAAAAAeCDCXgAAAAAAAAAAAADwQIS9AAAAAAAAAAAAAOCBCHsBAAAAAAAAAAAAwAMR9gIAAAAAAAAAAACAByLsBQAAAAAAAAAAAAAPRNgLAAAAAAAAAAAAAB6IsBcAAAAAAAAAAAAAPBBhLwAAAAAAAAAAAAB4IMJeAAAAAAAAAAAAAPBAhL0AAAAAAAAAAAAA4IEIewEAAAAAAAAAAADAAxH2AgAAAAAAAAAAAIAHIuwFAAAAAAAAAAAAAA9E2AsAAAAAAAAAAAAAHoiwFwAAAAAAAAAAAAA8EGEvAAAAAAAAAAAAAHggwl4AAAAAAAAAAAAA8ECEvQAAAAAAAABwnfjrr7/sMQAAcC0g7AUAAAAAAAAApOvM6dM6HZPScMZeAgAAXG45zhvscQAArhnr169XtWrV7CkAAAAAAGAyW/befvvt9lTGnVkxUq1eXqLUYt0CzYdrUq8aypvTLgAAAOmKjY21XsPDw63XzAgMDLReCXsBAFeQQzExTnnl8ZV3LrsoixD2Xtsckcs0b8EWHXHaBfJS4cBGala3hLztEgAAAADAhS427D38XV91WXKfPh/XQrfmsAt1WHP6dNH84i2Ue+kcHW48XBN71VA+Al8AADIkK8JeunEGABjM0DUmYXDYpdkrSnOHjtGyXTsVGeNQ1MadirHnaN1MzTxkj19hDvfjctYudOcw5yU7YnFGWZw9bjKn3dbjGtzek+J8t/Nw1v38pHx20t3PdCWtAwmD++dIbZmMVphUPqc1JNlOejZr/P0v6acj9mTEMr04c5Hmjn5ID49de5nqLwAAAACPd+5M0q6I/7HLM8AMPhu9m/lfyma5I3PUt9F7utJ7krtMW437pLcCFg5Vj/Ebddouv4DTOM6nUjjQZnncv8brIU37fIt+PmyXZ6e4WJ12nrMnbHHR2rYhQhv3ndCZ/+wyd8Z+Rv4ZodV/Rl/43v/+MerR3/ZEvHM6cypWZ4yPBgBAdiHsBQBIh+Zp9AfLtGnzJmtYNPlFvTh5c4ZDs7WzZirKHs+wmE2KrNJZzYOqq1xB4wflnZsVcSVTuri1GnN/ARXo6v5Z1mp8yZIqaQ9F/MvroX5TtdktmIz6oY8xr6XGb7ELDGs/MJb/YK09ZU+7rcc1jDfWntb8PpoXH3iHj3crL6IC5R9Sn2nu5yf9/TSD2s0fP6Ga5Y3PWKCAqrZ7UTN3uR1wow70cVtHwuD2OVJbps8PiUcsYsGLah/k2kb52k9o/KqECD+Vz2kP7ttJjRWsm8MROaJK6P7uvdSrtzE8XEMq1VZvTf9Yded30UuLE7cJAAAA4Nr23q8z9OAHvVR1VHvr1ZzOsKMLNLRNe3Xv01M9zeGxpmrabaSWXCV/fOxJdk8doC6Dv9Hxm3Lr+NzftNsuv8Bf+9Vp8l/aZk+6/KPl327Xyxv+1nmd06l/zqfaVXRW2vjjnxq84qQ9dU6Hfw1Xk48iNXl7rL5ZsFst3wnX95Hx3UkZ81dsVqfx2xW2IlY/r4hU2/HhenlFtLHPtqj9GvzJdo0Od4+6T2r+l3/qw+32JAAA2YCwFwBgyV8uWCF1Q6yhebfXNLTKIg3/PtMRbsbFxciR6yZ7wltV2rdRlSvW/26EZj73hP4s3dyeTmroT8d1/Lgx7PpabZyvq17XqcY7EpUrG6P3Zi5LOxwfvNC1joQhTNXtWdUHuMp2fGJsv+XH2mHN/0xtitgLWIZqof3efd+0keO1enr0c/e9SHs/o77vo3Yz79CbK1zLLHzCW580H65l8YFwkTb6zFr/QmNLbusaEL+X8Zrr4632PHv4LNTfmuPYOEZP9Duitl8fsspXTwzRpsee0NS91uyEz2kOCwcbBe7H5ILtJLdTE1sEq/Ejj+rRrqM10y61eBn1Z+VoPdFluH46HqUjMQl9OwMAAAC4hnWf9rImr/xO/4s9ak2br+a0WZ5xD2jwZ1/oC3P46gdNaLBbY7747bKEjdeGANVo01EP1K+hGjWMoUKAXZ6Ksj5qor+10f3H2f+OauP/cqpuWV/l8Cqmp56soibprCbLOQ9o8vr/1Dk0UKM7VdaIntX1TUt/BRf1cs3/c6d6r/5P7TrcrW+6VdaQbtU0v00+HVu9X9Mj3Fr45suhXcv3a1tKrYIBAMgmhL0AgBR5B/VQjTXfaLM97YhcpKkjx2j8tPF6cdBEu9WoQzsXjNc306bqhX591GfsMqsr5piNczX+rTGaOHmMXhy5KEkwaonbqUVfLdNP015Qn34ztdMo2vyxsU7X3As4ds3VmLfGa+qEMRrz/c4MtzjOqIhZwzVcQ/V4Q/uHuNQUrKLOr7+lzotf19TliXux84G2evyX8Zpph5rZzbdyZ701urMWjZiqZSkdjAv2M0qrF8xUcPc2CinoWsS/4TN6ptF4TVqQdYH+zl8+0dpHH1ebUq7U3rdCZz3T64hen5WBVrvpilHMumA9N+E7ffft6+psl1oq99KC1Qv12ZTP9FxLuwwAAADANc1swbthf8rNJc3yTLXwdVO8QqDOHDyu49bUae3+bqS6t2mqRi3aa8Bn21Lvnjh6jT4a0F5NGzVVq8fdWgfHRGrJhwPUxVxH01bqPvY3e92G09s0pX8r4z2N1LTbUE1ZnzBHx9d8pAHt7feMWKLDCXmivU8tjPe06au3F+2+ssH0ueM67ddEvXv1dg0PBSrhcb4puSFAwUX+06o9x+wCw5+n9XO+vAq2At6Dmjx+s+a78nsp7rC+n7FBLd9eqybjwjV5u+sMHF4aricXJDbBjlwSrs5z99tTxlFau0Vdf8xEE23HOZ3+T8qd25425C1dRAHWb8/PaePm08pdMUAtb3V7GHHx0upZ+rymrXHbzg151e72vzXhF7fPBwBANiPsBQCkwldVqjgUYWeBzjw11HlwmHp16qXXXiyhuZ+b0ay3yj3QS207ddbr77yrd/uHGO9yGD/wNFKvAWHq0S1Mr7WJ0MwFybrVzVNOjdqH6P5Or+vdd9qonFHkjIlRiu0xI+dq0rYqChvQS517hims8pokQeulcqwboyc+ukMfj26jEinvQVIFqyikWZTW7ot/YKzBO0RtnpBe/yyN1r2Ok0meUXtxz9VN5FslRM2j1ioytZ9dk+ynj3z9ZZzLpOfBO480d+8FUXy63J8P7P4MYd+C5aVDhxOfvWzw9sqvqG0Rme/mO5O8fX3lawz5r1jrcAAAAACX0/w/frPHUpbe/BSdO601S5cob8UyMnPHw3OHqu+vZTXsqx+0aPYktY1+RWOWphD3/hOu9/qO0Zm2k/TDoh80+6Wy+v65Ka6ujB2ROn1XmCaZ65jzlupsG6mPVrji2fDPBii8zgfGexbphw97q0nxAlb5mfD31POdM2r7sfGeH2ZrWJnv1Xeqq2Nka5++zqsnvzDe89VbauN7TJfj8bYXOHdGZ8wAeuc3GvDi9wr/J6ORc05VveNm7Y6MSQjOt+3+W8VLF7SOufSfTv9zVmesn5mP6fsZ+7XYr6i+f7a65j92i44v3qufjR86A4p46fD+0/ZnP6aNe8/JeeC03T30P9q406GyfrdYUxnie6valj6vyTM2afSS/Tqc5Bm7x7X7uBRcJHlz45yqWCK3zpz8J8k5uLNBQd0aflA/J2b3AABkK8JeAECqbsolOe1Q0regr2vEUkIlzh5JEuol8jaWTUzcHP4lpH0ZCBTzeiuldrWbF0SqRktjHfFK1ZX3PrcH5F4K8zm9YT/p/hG9VD2PXZaum8yf57TsiFt8uTNCNz3US22/SqN179j2SZ5ROz7cLr9Yxrkx9kJHUv3h0X0/vVXjoaHyGjZAfd6bqUXzpurFx5/QN0fS6zo5JXPVp7bbs3b7zUsIcks07K42iwboiaFTNXfxTI3v117vb3SvNwAAAACQNeK7bk5NevMTLdDIR7uoizG0b9VeH53pqrc6VzTKI7Vk5nF16ttGxc3GnDnzqkb9Ovpty4VPoz2zdr7mVOqtJ2vkdRUUq6P7CoVrm/m3t4XrqEWtAOU21nHmdIBKlDmjw9GuH+Ry586tw7u3u1rt5g5QgJ9ZekZrfpyjwKeeVA37x6ni996ngPXbdNjap916IKy3a17O3CpeI1jFXYtdPqd3a/pzrdTz60hFrv9NZyod1/ftu2jksgymm3fkVd3jp7XR+nvrQ1q2N4dCytjdULmLOKqvnT4a0ND16CD5ltB9AU79Yf6KoWxe3XfKoT/MX0zExGh1Ll91KxjfPfQJ/XHUS8Hl4h8dlRE3qWqrQH3T3Efae1hd31ur3rMjdNzqjtmh/8U/Aim5G1L49Xqe29Ut8Kze/Xl/Rv6kHACAS0bYCwBI1T/GDzO+8SHosc2a+dYYjflqrpZtPyzH6VRa4hrMLp8njhyjid8v0prIGGPZDPx441/Y/ited1GK2LZIn5hdRCcMY7TobDrdLWdIlOY+10Vzq3dR9X/WaNnyZVq90/gpMeZPrV6+WVGpNtE9rCN7peal3AJoU54Q9RgivT5tmf6xi5JI9szesCC7/GIdO6IINVeJJM/1dZd0P72rhmnhjrfUqIDxPmdx9Rj9lR6vuFb+uTJ7LJM9s3dKG9k/dktFjHmrF6rX3Q5FHvFS3SFf6YWGRrl3VpwvAAAAAEh0q08heyxl6c1PVEdPvjtBE15qqYBzddS1TwuVsTLb4zp26Li+ecEVBFvDu2sUkNetn1/b8eNHpFXvqXv8co8O0DcxBXSj+ZvXc4e15sO+6tJ5gMZMnaM/TrjeY6rYbYLCfL9Xz1at1HfsfO22mroaP2cdln4b3z1xuwO/0XG/G5Xb2qcyKlHUevsVckxL3+urKdEtFNZOWvPrcdVpFKYne5XRmtcGaPpO6by9ZKq8/FW3sFPLNxs/PUec0vLceRScUmIdc1aHnbEaPH69OtnD6KgblPdGY94NhVTVWMfGfed0ZudpnSp+i+rcdqOre2hznTd7685M/+1xTuUtW0bP9bhb33fw060HohS2OMr4PDerRD7pzH9uz+a1nXFeWGYKqBegJoejNTOCh/cCALIfYS8AIBURWr6tsMqZPxw5Nmvi1yfVaECYwto3V0hQeeW3Wpam4NBcjV9ZTj0Gh6lHy0YKqVxCF9+zrr8C7mikZ8wuot2Gz7pVsedfin/kXbG3upSI0ZbwLdawOfKk8XNrhDaHb1ZEavn0luWas6WKapRLiDgTlAjtpbbTZmptruZ2SfbZ/Nscba5cQ+VSC3tT2k//KmreqZd6hIaohO9mrZknta1qdqKdhXxLKCS0h3p1aq4q/jFa/ctchdSqkhgIAwAAAEAWaHJnHXssZenNT5RXBXzzKm/pNnryoXCNmRxuPwM3t3L7FlenN7/QF5+5Dd3MVr9J5c2bVwoJS7rcZ8PUxE/aNrmnPrrpGX0x9S0N7tVRdd1/hssZoBpPjdPs2ZP0pN8C9R2xRKeN/TFXd1+Y+7qM4cUmsjp5zh2p/13R7oELqn7vcerqN0dj3pim5X/VUd1yazRl/G7VePEtdTR+xEzzmb2WmxRczst471Ed3hOn3KVvSbl1stcNypvHV2N6VdM0t6FbBXPmTap6u7GO/Yf1x19nVbN0QeUr7S1FxijygPEDfTGfFP6gPKNyKvett6vbnTmNdcXquPGZywbcoJ+3H0j2fOR/tHq3U4VT2tYNRdTtXi99vzTG+DnZLgMAIJsQ9gIAUhTx1UQdaWM+x9ZwfKdi/Msn/nxy9qROuj+mKOpI4vNpDu2USru1eo05Kben22Za5UoOLVqVdc/oTVRCjXr3Ui+34fGGxn6Xul+P9+6s6m4/jDlOup5PG7FuqgaGvaiIbkPVubI9012eELXt+6c++Wi1XZBBca71nzS7hTrn0En7ebhJP3V8eYTWThuoAUMj1GNwZ7nH3mnuZ9xmLVpud7h8NkbL3hqgF71eU9t68VG8w3pvjHG+zO3Grysmta6qUmTs22KjrljjDqMODdCART3Uq2myVtCXzFe+Qas1uudDeqh10uGFr/xV2JeWxAAAAMC1rve9HXR3MSv1u4BZbs7PrIodeqvGwvc08y9rSnUbH9c3M9fodHzjTfM1hYacee9uoBrLpmnmfrvAZC13Wof3nVbx4nYUeC5Su916gT5+yP5JOmcBVawRqALHj1thb2CDGvp5xkxFum/LGq+oqiFntOAHY5+sQilyzWpF2uOXTd4y6jh6toZXO61t1YMV6FdHg2d+ocEhrmcOZ0TuKj6qe+iEPvzrvBrekcqfB5f1VZMzp/R1eKxdYPg38WG6eYt6Ke+R45p/8iZVNX/sDPBRzbg4fX3wX9UteWHUeyZypz5cYv9c/O9BLT90g+68Nb81eWbbHxoyOyLxWb3/xSri6HkV8L/ZCtkr1r5FVf93VKNXH3PN1786vHq33v2fl7rVSDlWzl2lqJ40fkKe/D+7AACAbELYCwCwHFn8ica/N94Yxmj4oOFaW+U5hQXZQWCREJXb/J6mLl6mZfOmasysP83HwCYwA9lvPl+kRd8vU0SlRvL+crzmLl9mTE/UxJVHMv9HrDmPaM3KKCt09K7bS80jjH2atsjqannu5OGauSU7wt/UjWnnej5t475zpTYLtXp0o1Q/U5V2z6lFwlNsM2btB6711+xnrH9eH9W0nofbR/MO2QtYxqi9Vd5YvX+Q2v64Wm8+kHQv0tpPx6GdWjY6RAUKFDB+WC2pvmvv13czeiWGxYfmqY+1/vbGlhLXVfKDta75GXEsSmumtVdJcxsFiqjxu956Ye6rapTCo5cuTTn1mLNaCz//TJ9N+Uy9qi6T70NvWuNf/xyuNxtmusYBAAAA8ECTOr2sbrUeSuiy2Xw1p83yi5K3jro+nldT3p5pPUe3YrdxejLmPbVv7+pOuX3H7pqyxdW2s0DhEsq9cIzVbbEKNNDgEYH6uVdTtTe7Xe7cXu1fnq/DyqsaoS20Z+wjru6YB81X7sp2y+Bzx7Xtq6Fq1cZe95AlqvH4A1YL0QINB+utwJ/Vs1V71/vat9fQxWYwnFt1eg1Xg/BX1N58X2djf86VUaC1wsssZ24F1O+tCT1rGJ/SkPvC7q3T5FVAwb5OLf8nr+qm9vfBNxTRU21u0fEVf6rle65unNtO3K2N8YFsiXyqG+fQz743y3VUA1S1+BnNj8ytqmWtgiRyF8yj3Hsi1OSd9cb6Dml1cX91rmA+kNmYVzZALXVMXcettbbV8p0/9e6ZW/Teg0VcLZULlNKQlvl0Zt1e6/2d3glX13Xn1a1NBd2Xasbtq/sa51PxxHwaAIBskeO8wR4HACBNjpgYKY+vvFPqwvmsQ45c3gkZsLWsr7GsPZ1pZ43BfTvG+mPinPLK4DrXr1+vatWq2VOIZ54XZy7fxGcxZwezpfJZL+P0X/TZT8FmjSnfR392aqu7XH94nSBi+Ys62WmHPm5JZ9EAAAAAssGZ0zr9T27l9U0WaP5zRropadmZmNM6c1NeJXm077kzxvvN7p5TCETNeafPKHfevMrtyh0TpTHvzOnTxrZTeE8G/PXXX7r99tvtqYw7/F1fdZkqNalfRuZjc1N0OFxzVgXqrUW9szCEPqczp+J05oablDdPqlvOoHTW9d8/On3qX8k7j/J6pXRw7fcbRyBvvpvsMgAALl5srKsHi/DwcOs1MwIDXd+2hL0AgGsSYe+1xxG5TPMWbNGRZM9T9i3ZSM2blct8C3IAAAAAuA5dbNir09s0/Y33ND/S/blOyQWoavcwPRuSctfGAAAgKcJeAABSQdgLAAAAAMCFLjrsBQAAWS4rwl6e2QsAAAAAAAAAAAAAHoiwFwAAAAAAAAAAAAA8EGEvAOCaRBfOAAAAAAAAAIBrHWEvAAAAAAAAAFwneF4vAADXFsJeAAAAAAAAAAAAAPBAhL0AAAAAAAAAAAAA4IEIewEAAAAAAAAAAADAAxH2AgAAAAAAAAAAAIAHIuwFAAAAAAAAAAAAAA9E2AsAAAAAAAAAAAAAHoiwFwAAAAAAAAAAAAA8EGEvAAAAAAAAAAAAAHggwl4AAAAAAAAAAAAA8EA5zhvscQDAdWr9+vX2GAAAAAAAALJDtWrV7DEAAFxiY2Ot1/DwcOs1MwIDA61Xwl4AAAAAAAAAAAAAuMyyIuylG2cAAAAAAAAAAAAA8ECEvQAAAAAAAAAAAADggQh7AQAAAAAAAAAAAMADEfYCAAAAAAAAAAAAgAci7AUAAAAAAAAAAAAAD0TYCwAAAAAAAAAAAAAeiLAXAAAAAAAAAAAAADwQYS8AAAAAAAAAAAAAeCDCXgAAAAAAAAAAAADwQIS9AAAAAAAAAAAAAOCBCHsBAAAAAAAAAAAAwAMR9gIAAAAAAAAAAACAByLsBQAAAAAAAAAAAAAPRNgLAMiYv08p1mmP4+p0Yq82rFitDXtP2QVuzjkVm90nMK3tp8AZe0rOc/YEkB3Men+CGxcAAAAAAACuXYS9AADtXrFaK1MZNhx0BSUb3g9Wv3lHrfEUbZ+i5iF9NeewPZ1BsYteVHDLj7ThGshjsjO8dJ5IZ93bP9L9wR00ZtGv+vzXPRce1/BxCnx2nqLtySyXbPvJXXhsjur7Z4M1JtyevFTOA9qwYq9i7ckEVnm49scfh8zU03NO7d+6WnOmT9HXS7YnruNadW67JrYMUc+0rvNsluX3g+h56hc8ThvsyavhMwIAAAAAAABZibAXAKBfxrypEdbwmnp27aqer8VPv6mvN2eslaZu8VPp0rfJx8ueziAvv6IqUzSffHLZBR4ri8PLJMI1JniAvk8jqf1j2Szt7viWJr88UO90DbzsxzX59pPKzmNjO7Fa73edqd32ZAKr/EOtPGFPZ7SeHlykQa1r6v6np2h9dKx2z39NzYNDNT78Gk58c/rJv1xpFcvsRZyFsr3eXgWfEQAAAAAAAMhKhL0AAPX4dpbmWsPramdMtxsePz1Lo5oUci2UnoBmemfKQNW7xZ7OIK/AJzVtfEeVyWkX4KI4Yw5IN/soPsK63Mc1+favWhmpp85wjeneVxtqf6jVSz/UK337ashb0xX+/etqXO5aDgkLqcVbUzQkJJ89ffllf7298p8RAAAAAAAAyEqEvQCATHAoNny6+nUNVfPWfTViyQG73BAbri/GLdJ+e1Jyave8N9Wztb3srHBFp9QNccQijZkentj9bvRqTRzQ1XhPqDoNmKJfIlJpSXliu+aMG6hO8et33xed0obp07Uh1m0fug7UF1vTaJX59wH9MtFen7HsxFXu3bya6xunL9a7t3I+oIXjxmlhhDFqffZx+nqdtOHLcRoTX27Yv8gY3+tU9IqPEo7F+BXu63ZbTzxrfeb+G+Pm8RlpHAft1YJPzHXb5Qlc+/a5sW2tm5647eTHNSWx2/X1y4nHemUaLYejw2dpRC9z/0PV88152v23PSO17cdL49jE278kjXOUiX3MkAvq6YViF03ReGdfjQ0Llo976FiigsrcbI+7M9f5hVG/3ff15Vn6w/3gm+djkVFHDy5zHceXF7m61E6z3rnEbp+XcOyTr9e9Xo2Yt9e46hI5dya+r+ebs7Qh/tidO6qV7ts0rh3X+1znMvH8ZOw6il41xb4ndFW/ka5zPCalY5zR4+RWb9O/flzSOg5JJfuM5j6Z2/t7r+a82de1TwOm64+E+u0Su32WhsV/xomrU76XAQAAAAAAAFcAYS8AIMP2fNJX3WZKj7w8Tq80duqLp97SnPjucf/eo6XjNyY8EzZ2/otq/v4ZtR/7qaZ90Ff3nNiW8jNPj27U+CV7XOHMue0a3+Up/V5loCZP+lSjHvbS7m0ppXtHNee1cdpaNFSvfPCpPgi7TRue6qbxW+3ZZtC85HUNatdVwyJqKmzsW3q81DYN6/2p/kgppDFbcra+XyP2BGuIub5nKmh930bqNis+QDbX95GW/uX+AY5q/fiPtN7MnbwK6c6gUvL7W/KrWFP3BNVUaR/XUtEbP1K/1o3UL7yCwj74SGO73aYFvRpp2LL4dbmtJ551LJe5AlWf0rqn8m3yUj6VqWquu6L8kjQuzW1ts9KtxuitFRK37X5cU3JikQY1GqANlc1j/ZFeufeghnUZl+KzUqO/e0ohj82SV8dxxrl8S03OTVHz1m9qgxWIpbL9eGkcG9MvQztq0PZUzlEm9jHDktXTCzm1Yd0ieT0UrDsz2rrUXOdrXdWox3Q5m7+maWNfVP0Tb6q5Mb07/rOY52PC6+r2wiIVCx2oIR1ryi/demdcR4teVEiHKVKTt4xjME5h5fZo5S7XAfhjYqgave/QI+Y1NrarfOd1UM/v7IpkHLvn230oZ6hxzoxjFxYUqz8i49/3mLqtC7S2Oe3ljvLau11R1n666nliXUz/OnKGj1Onp1brnsHTNXPqa3ro7CJ9He1nnOfS8nUtkiijx8mt3qZ//aRzHC6Q7DOa+/TyC2rz2GvaH9RXH4zuqjJbXtfTU7bbC9jnoH+47gz7yKj/L6rB/15Tp/fDE/YRAAAAAAAAuJIIewEAGebT5nXNfL2j7i5RVHc/2VfP3LZIW/+0Zyaze+ciOe9tpHol8sknoJTq9TDel1KrSHfH92j93kA90KCC/G7Jp2LVOqpHk6L2THeF1OLtDzUkNFhlAozlahv70vGAvl6RGNCY7jbDmV4hKlOilFr07asWB1fpj8P2TDfR8z7UeJ8X9MHrobrTXF+1rnrnrVCtfO1TrcxIouNlHI/aVVXMGC1WJVi1ahv75dZN8N0Dp7v2I6CQyjQbqFGP++mL75al3eo23i2lVCuotPyMf2WCzHUHqliSsNdLxQKDdfdtxuhtVS/Ydmo2fDJQKx95S6NCzWNt7tcADan5kb5fnewDnwvXJy+vVrt3pyisdlHrXLYY+JaG+HyqEd+ZoWQ620/v2KRxjjK8jwk+VZtyFVXKfQh5Ub/YczPmlKKMj1WraEr1Li2hmjDjNXWpZhyjEoHq8fKLahz+qRbutGebtsaq/ovGMg2M41AuX/r1zjj27w+YpVqvf6ohzUoZx8A4lh0Hqkc1owIcnqUxbxbVqx/0VS3zGjO22WtgX0V//pPrucUR27Tw7xA9cK+xP+axa9DV2Dez4hzVno17dXeDEGub5vu69GikYmkE22mdoz9+/VS7Oz6lduW85HVzUdXr1lVl5kXLq3YpuWf+iTJwnJJJ8/pJ7zhkSFWFTZyiXg1KqVipZgrr20z7V29ztUy2zsFqPT76NbWrVMiu/wNVa/y8jN0bAAAAAAAAgGxG2AsAyDC/W/zsMZOf/EpLuw+m3ILu7javqfF3T6n5s1P0y1737o/T4NdIz/SK1bDWXa1un1NsCezGeXC75kwfp2G9OmrEfGl/TNI3+BRwey6nj5/8tVq7Lwh7nfpjyzJ51a6Y5DmhXsEhavf3Mm3YaxdcAi8vb3vM5c5qDaV5GzMRRmW1vfpjlVMVb47VyhWr7SFcu08YxzA62bmK2KaVfwerWgW3hDlnKdVqXkEb1m3PWGCdhtTPUSb2MUFHTV69WuHuw/cvqJY990KntDth3cawM3G9znMOeyyjcsvLPTC9JVD1ax7Q+m1u10dIqB4oZY9npN5Zxz5ETYIvfL6sc+d2/VLpNmmb2/5vOyBtPeA6J5VD9UaTWerW2uymea9i41vOqpAaP/6kYkeEqpPZtfPB9BPLtK4jL2/jnnDObR1Op2Jv8U7j2c0ZOE7JpHX9pHscMiSf/NySaR//QtKqPa7W39Y5qCCvGLf1r9ujKB1QVHyvBgAAAAAAAMAVRNgLAMgetzXThN8X6ZXa0fr8sRBVaDnO7vY3LV66u+8srZ7RVf6r3lTzysHqabUeTe6oFr4QqpAX5spxR6jC3pqlUaH2rEw7pdjDUpkCydohevkYe3NAMenusyeKVVQKIfad7abomZrJgsXYaO1WUfkkOzy+N/sZ82KzsSvbTOxjgtzyuSVfssErjeAxRnvWrdLv8UNEjFFWSGXKeWnltrSe+5oVMlDvUjn2ptjjKVwXt9yrIVPaqIw5nrOoWoxbrWUvBSvq68cUXC1UY9a7PpFXtb6au2yGHi+wWiNaV1Vg33nanxAGZ86d7Qao3XevadD01dqwfp7GDB0nv2ea6k57fnZL9zhcKuscJFdRj0x5SrUy0IIeAAAAAAAAyG6EvQCA7JOzkO4OHajJS+fqFb+PNGxWxprJ+pQKUY+3pmv156HaNvBT/ZI8dds+SyPmBWvCxIFqZ3YHm1730GkqpNJVi+qPdduStgTcu00rFaJKxe3p5NxbM2bS7l2rpQYVra6NU3TObPeZnUqrUgMp2us2q1tl9+Hu25JFo6UqqrGW6Y9d9rTFbpVa2exeOrtkYh8vWlE17ttXYfFDI1fXzXfWDpXX9On6/oJW4JngNFsme+nO0oXsguQyUO9SPPYufndUVbG9Z+Rnde3tPiTtPtmvWqiGfLhMPw3x0/jhsxKDSx+za/U3NXPpFLXbPFATV1xkjfs7VlFVm+sBnz1a+lusqg1frMmhmegCO93jdCH36yejx+GiWecgWl5Fk68/eXfqAAAAAAAAwJVB2AsAyBa7lyzT7oT8yFveeSS/m9OJX06E65f1iV3penl7STfnlk8uuyCe06Gov08pNn79EfP09RJ7/CLc2bKP6v36od5fZW/73AF9/eZb2t2xoxpbaWYhlanspV/m/+pqAXnuqH4Z8aa+SBIy+6hYJWn/frs7WreWkntW/Ko/4hO9iFkaMWavunRsZAelRa1Qc+FPq10Bb+x2ffHmm9pgzbPd4qdi2qv98eHjRbbC1HGnzLarZre19R55UrFvvq6vI6wCizP61IUhs0+IHumVW++/Pyuh9WfsqnEaMT1QQ5oHugrSlfqxSV0m9jGLedV+Sm80WK1hT76pX+K7OT53Sn/MelGdxoensv1wLVgR//lOaeU4o34EDlDLyq6ilKRb74xj/1DHaOPYT0+sP0b92LDX2IMKoQqrOUvDxq1O7KLZ2G50/HJ7l+kXczmbd27jWirgJV+d0oYl4Ynv8TJbPhv/8lxcchm9apH2VAhWvWYdFda3o+qVSq3VdbzMH6c0r5/0joPlTOK9IrOs+h+rESMT67/5hx7RJy52hQAAAAAAAEDWIuwFAGQDp3RikfoHB+v+1qFqXr+RXtKbeuWhdFrvnXXqj/cbqkKI8Z7WzRT42DK1mNRXd7s/49NkPY/0J3W7J0TNWzZTm0+cqt8m2J55EQKaacLUUP3RN9jYdjMFV2uuLwq9pp9eDEnoAth6BvGWF3VvhYoqVe1JrW/0ul4JsmdaSumBbo20cmCISpWrqDZfJXYv6+NzQF90qapA43iUavSmnM9M15CQ+DW7nqHq81VXVTDeV6rRh/J69l11sedavILVsm8+TWxnzDeWGbbqIoKmUlXVYu/raj4u3Jr0CuyrSSOL6mtjnYEPGMc7pKqCe03QSutBpe68dPczH+qdQtN1fwXjfD4QrMC+29Xu64/UJeH5s+lJ/dikJeP7mNUKqcX4RZp8/3b1q1/V2udSFULUbVEphXUJTKgTSflJ4QMUGGgcn2rB6raiqiaM7ZjkebwXSLfeeanei3P1RqFZahNkfPYHQlSh0WtacMAMh419fHu62u0dYLzPuA7M66VaU700z9X9tPNstBb0r+k6bi1DFDJSeueVUPmdc8q5fZxCrPeE6v57uuqXh6YorJq1wUzza9JV9b7q6DpG1mDsZ8u+GrEktXOc+eOU3vWT1nGQX0VVKzVd3frOcz2DN9Ps+h8wS83N+m8cM3M7PT9cfZHrAwAAAAAAALJWjvMGexwAgKx1zqnY2DOSV77MdbVst9r18sknrzRCIGfsKTlzZXLd6XCeMNZ5s7HOlBI9+/OkuV/mMk6vhH3a8GZFvV96mSaHFrLWrdTea63bmH1LylGixWkcF6WybxlhbuOssW/u78/MOTK3/7f5XNyL3IFkxybDMrOPWS1+26nVCdPhWeoWskfP7Byou81j5DSOUSZPUpr1zmQd+1SuiTSuF+saOZfCOcvI50qXUxvGddT7RcdpcjNfa/9MMevGqXOv3Bq1faBque/PRRynDF8/ptSOw8XWu+TSOgcAAAAAAADARYg1fylsCA93NdLJjMBAV8+LtOwFAGSfnF7yueUiAjozgDLel16gYoYuWR3+eZn7m1r+ZH+eNPfLXCaVfTLXnep7rXWnk7qZYedFB3MGcxvJ35+Zc2Ru/2KDXlMaxyZNmdnHrBa/7Yx+bPMYXcRJSrPemaxjn0r9SeN6sa6RlM5ZZj9XirZr6RSpftWiCftnDsVu9ZNu85VPWtfJRRynNK8fU2rH4WLrXXJpnQMAAAAAAADgCiHsBQAAwEWooPqPS2P6D9TEeau1csVqzZk4UM27/6p27z2mO+2lAAAAAAAAAGQfunEGACA7mV3L5sx3iS0ocVWzukROpwvua5jz4HatXLVK60/4qFrVqro7sFTKrXov5jhx/QAAAAAAAOAalhXdOBP2AgAAAAAAAAAAAMBlxjN7AQAAAAAAAAAAAOA6RdgLAAAAAAAAAAAAAB6IsBcAAAAAAAAAAAAAPBBhLwAAAAAAAAAAAAB4IMJeAAAAAAAAAAAAAPBAhL0AAAAAAAAAAAAA4IEIewEAAAAAAAAAAADAAxH2AgAAAAAAAAAAAIAHIuwFAAAAAAAAAAAAAA9E2AsAAAAAAAAAAAAAHoiwFwAAAAAAAAAAAAA8UI7zBnscAHCdWr9+vT0GAAAAAACA7FCtWjV7DAAAl9jYWOs1PDzces2MwMBA65WwFwAAAAAAAAAAAAAus6wIe+nGGQAAAAAAAAAAAAA8EGEvAAAAAAAAAAAAAHggwl4AAAAAAAAAAAAA8ECEvQAAAAAAAAAAAADggQh7AQAAAAAAAAAAAMADEfYCAAAAAAAAAAAAgAci7AUAAAAAAAAAAAAAD0TYCwAAAAAAAAAAAAAeiLAXAAAAAAAAAM46FBMTI8dZe9riKouJsycBAACuMoS9AAAAAAAAABA+XiVLltT4cHvadGie+hhlJT9YYxcAAABcXXK+bLDHAQAAAAAAAOD6ErVZc7+bqcWLf9fSjXvlfWNeRf25VmvXGMPK3/X7qm064u2tvIeP6IhPCd3h522/EQAA4NI4nU7r9fDhw9ZrZgQEBFivOc4brDEAAAAAAAAAuK5s1vh76+nFLfZkuprr462fqU0RezJVZvfPkq/vhcGwI8Yh7xTKr0pnHXLk8laKe2t2d53LNZpxxvrOGuvL9Puy0tWwDwAAuMTGxlqv4eHuXYtkTGBgoPVKN84AAAAAAAAArlNOOTIc9JrmKuKQPZqWQ/P0fu+pWuawp+Mdm6sxXWdqrT156WK0edZ4DWzXRzMztF8zNXOdPZ6WuJ2a+95wTVywRstnjdHACWuV+FEcWjthoMYvWKa55us69w+Z+v5EzBuu4dOWa82CiRr+1iJF2OUZlqF9d2jz2MYak+JyMVr78XCNn+Xah4GvGefSniNFae6gJzT8vfEabw+L9tqzAAC4yhH2AgAAAAAAALiuhX21V/v27Utn+Eph9vIZ4V0hRjvXJk17o36LUYlmWdmq11dVQnvpzYEh9nTWiIl0qErPoerRLESNQsP0aqWfNGmja55j3SStqf6qehnzmvd8U3XXjncLtVPZn71TNdX5uIZ2aqSQZj00tH2M5s2LsWdmHce6qVpz9i57Kpm9EfJtP1S9Ql378GanGE39PsqeKTkrdlZY717qZQ+NStkzAAC4yhH2AgAAAAAAALiueef3la9vekP+lLszTk25EOXft8atRWyElh0pruLH3Nu0xmjz9+M1ZuxETRz7ooYvsOetm6ip212j8WIWT9TcjLTetUUsGK7hE6Ya6x2j8Ysj5Di0VhM/m6up7/ZRn359NDPZ+t35VqiiEm7dHHuXvkOOSFcwunOlQzWCEo9ElZre2pLGuizHvXVHdX97wlA8RIV3LVNi1BovleORkX2PW6upG+5S5/qF7YJkSlVROV973FTqDnnvjX8+4mEdibsp5fMbtUiL1kVp2cfDNWbyRI0ZOlxzI+15po3G/L07Nfct4zhPeFEDJ282znmM1k4eY3yOF9XntYtoxQwAQCYQ9gIAAAAAAABAliuhRgUitTy+AevetXLcHaKb7ElLnLFU414K699DPfq/praHZmqRuXylcjryy2bXMpYYrdmVX8HpPivYFrNIM6M6a2jPzsZ6w9SrYQl5F6muHo82V+c+7+rdd95Vmwr2shng2HZEhSubYW2UIs6WMD6Zm8KF5dh7YWybRM4jikiyiI98T+5UfNSaILXjke6+O7T28z9V44nqyQLbtRpToI/mHj1vT7vZtUneVcvZE075Gnsz92OzC+eJmrnRrdXx2RgtW7RD5bsNVVi3HgobHibfr8Yr4eyc26mpi2MUMsA4zj1f01D/b/TkyGXyfyTM+Byv6d2Hdmrm8qQtvAEAyEqEvQAAAAAAAACQDXxr+SrCTnsjNkpVgqzRRHl85ZuQTjpUuLi002w16h2iRlqU2D3ysWXa6R8it7axafPyko5EyC2yvHiOzZq0spya290aO8+6XjOlal35zp2qzccccsRFaNnkSVpmfE6nPTtBascjHTELxuvPxp1VxZ5OVF1hh95U80I57Ol4UZr7qVS3XvzGyqlK9Spq/oTZhXMPhRx5Xy8uSDx6dzUyjn1CS2dvhdR1aJHdrbVUWM2bVVd8o2HfKnepeaPmiS2jCxY2NhdrTwAAkPUIewEAAAAAAAAgOxRspHJxy8zOibU8rlwKYaRDEYsnavhbEzV38RpFxDjksBPQKo0La+cqV9obs/KIitfLcNRrhcVh3fJr7siBGj55kbFeuzzTzBaza1Tj2UYJYaaXW/fOGVdFPV5sLu99a7Rmu1N3PdJdjeqWSCG8Tv14pOrQXL1/qJGaF4xRTIwxnDTec9J4jbPne1/YOXPE999IT/ZwOx++qhKU2F7Z/4HOumtLSt1M28xjcM41eoGLOj4AAFw8wl4AAAAAAAAAyBbeqlEkRst+2SnvqhdGvVHfj9facj00dEAPNW8Yoiol3ILJUs1VeOcixRj/lh0qrJCCdnlGFayizoPf1NCO5bT2zfHafBE9CUfMmqTDD/RQ9Tx2gfxVIldE0mfQHjki71IZCKJz+apcUIhCgsrJN9dO7YzxV/Kn66Z5PFLhUAnVLXtSmzZvcg2RR3Qk0ng9lHLCHbNqohbd1l3Ni9sFKTI7204jZTZbN+d0jQIAcKUR9gIAAAAAAABANvGuXlybP5OqV7YL3ETslEq4hY4xR4/YYyZfNapwRIvWLVNM8ZCElrWZ5l1C1as4FGH3JHzkaMaa+UZ8P0aLyl0YipYLlJatS0yON69yqHImnv9rcvyySM6GIcmer5ve8Uh5372LVFFI3ZDEoUoJlahivJa98Ig51k3UxJON1CMo6ZZjDiVrw3tsk/70LZfQ8tjxjz1iidGiRca5qWpPAgBwheV82WCPAwAAAAAAAMB15JBWvjFV6vK87rkt+XNdk3NbtohdlJpT27TyQAndUzGPlKuEQh6qqPz2rEO/r5Rq36PbjPGCN2/U+JlH5HUmUpsXLtWRs2d1pFBIwvpzlcilDc8tV+GnGql0Co1cY9ZN1aRZy7V2xe/6fVukIjfvVI7yVVTw0Ey98eE2OXVUB7fM07Qj96hHvduUK18e7ZwyVRG5jynyeAmVvnWbxgc9os11u+huP3ulhqh5ffXsIl8VPbVFa9esdQ27c+iOKrcpb4m7deOC8Vp57KwOrpyplcW7qEM5V9Pf1PbntlybNXHITB30cijyt6ma+U8r9WpQ8IIej9M8Hhfseyr9JR9aqZW6xz6GazWmwBs61v0BlfjzAz35/kEV9jqkjfGfaU2MCgeXlu/hJfro4+U6otM6smWRxs/NoR596iu/2VTKOJfLF23Q2l0RcsRGavnns5Xr0X4Kic+SD23TtnwVVTGfPW0sv+2UMR1fR9zrAgAAyTidrp4kDh8+bL1mRkBAgPWa47zBGgMAAAAAAACA64oZBjbWmm6vKqREemFvhJYN26nm675T51J2UVY467CeL+vrm1KXxRGaOTlCzbpd2Ao2IxwxMXLm8pVvspzR4XB7lO2qiZrq3yPznykuRjE5jXVnYsfM/VEeX3mn9VzbNI9Hsn3PiEy8IcXjdWimZh5qozZBxn4Zu5/afgEAcDFiY11db4SHh1uvmREYGGi9EvYCAAAAAAAAuG5F/DJGY95drkh7Oi3F6w/Va72rX3yXypm1ZaomOttc0O1wlonbrKnfSW06VbmoMPm6kBD22tMAAGQhwl4AAAAAAAAAuNYcWqaJs5ZrZ6779WrP6gSxVxJhLwAgGxH2AgAAAAAAAAAAAIAHyoqw13zEPAAAAAAAAAAAAADAwxD2AgAAAAAAAAAAAIAHIuwFAAAAAAAAAAAAAA9E2AsAAAAAAAAAAAAAHoiwFwAAAAAAAAAAAAA8EGEvAAAAAAAAAAAAAHggwl4AAAAAAAAAAAAA8ECEvQAAAAAAAAAAAADggQh7AQAAAAAAAAAAAMADEfYCAAAAAAAAAAAAgAci7AUAAAAAAAAAAAAAD0TYCwAAAAAAAAAAAAAeiLAXAAAAAAAAAAAAADwQYS8AAAAAAAAAAAAAeCDCXgAAAAAAAAAAAADwQIS9AAAAAAAAAAAAAOCBCHsBAAAAAAAAAAAAwAMR9gIAAAAAAAAAAACAByLsBQAAAAAAAAAAAAAPRNgLAAAAAAAAAAAAAB4ox3mDPQ4AuE7FxcXZYwAAAAAutzx58thjAAAAAK4nsbGx1mt4eLj1mhmBgYHWK2EvAMAKe728vOwpAAAAAJeL0+kk7AUAAACuU1kR9tKNMwAAAAAAAAAAAAB4IMJeAAAAAAAAAAAAAPBAhL0AAAAAAAAAAAAA4IEIewEAAAAAAAAAAADAAxH2AgAAAAAAAAAAAIAHIuwFAAAAAAAAAAAAAA9E2AsAAAAAAAAAAAAAHoiwFwAAAAAAAAAAAAA8EGEvAAAAAAAAAAAAAHggwl4AAAAAAAAAAAAA8ECEvQAAAAAAAAAAAADggQh7AQAAAAAAAAAAAMADEfYCAAAAAAAAAAAAgAci7AUAAAAAAAAAAAAAD0TYCwAAAAAAAAAAAAAeiLAXAAAAAAAAAAAAADwQYS8AAAAAAAAAAAAAeCDCXgAAMuUvLR0/VjM2OexpAAAAAAAAAACuDMJeAEAWOawZHW7UjTcmDmXr3K/7e4zU7D9O2st4lr/mjdXYeX/ZU7Y9SzW230A98s1KuwAAAAAAAAAAgCuDsBcAkLWen6Po6Ghj2KVvXu+vDvmXqk9gZT0y87C9gKdwaN9vAzVwU7L9Lt1Vn2/dov0v1LcLAAAAAAAAAAC4Mgh7AQBZ66ZblD9/fmO4XYH1mqjr6Dn6PEyaMWm+krWRvcqd1OEIezSZ/HeUV4C3PQEAAAAAAAAAwBVC2AsAyGbeqhBYS1p8WPFtZMPH3692k3bIsWmC2pU3u3zuo/nxPT1HzNfILpVVzOoKuqzq9hirVUfteTbz/fePD9fJFWP1SGAxV7fR5Vto4HcpxMnJ1tdi0Gz9ddaeZzg8b6Duf2G+ThrLDWxkrqu6xi4xxps8ohG/GQt8MUD3NzG212SCwq13hGuCMT1wXtIWvyfXT1Gf5mVd+1Kssh4x98+eZzlpvC9hP4qpcquBmuGh3VsDAAAAAAAAAK4OhL0AgGx3+OA+6S5vxTeGdZxcqtkrP9DARzeq/odbtGv3ENXPb8yImKFH6rTQjwWHaO7+aEXv/kId9YHq1nlJS0+73msy3790VHNVH+1Qh6/WWl1G/9RVmtG2rgYudthLGaz1PaGVld7VcrNr6f3fqNWRPqr7wlIlLHX6Ly39c75e6jFW3t3nGvsyV13vqaqOz7dSLTPPrddRg58fbAz1dbv1BodOLl6qv9z3Z/VINa85Wer0jfab2/ntTd0+o7oemRQfPp/U7Oeqa0SuIVoUfUqnTqzVN0+WlOM0zYMBAAAAAAAAABePsBcAkH3OOvTXgpc08J1wNenZSoF2seWzv1R11sfqWa+8bi8RIG8zEH3tEc2o87m+eKeDAgPyK3+Jmur5/hd6Ne9IDfzI1a42QaUhmjt7sJrcEWB1GV3/+c/17qOHNXbSbLsFsWt9Szt9rq/NoNbsWjogUF1feFVVx8zWUvdGtd/Nlvfzc/Tqw4HWvuT3DlBgvaoqac4rVlX169U3hvIy8+gLhWtCr5d0y4df6F3j/QHmdko00ZDXB2vjhNl2a+Ad2vGZVKtxfZXP7y3vvAEq/0BPdQ2+hLD3dLhmjJ+tHW6hc4LTOzR7/AyFpzQPAAAAAAAAAHDNIOwFAGStl+u6ujI2h5vyqezjsxUwaK0+7+5qF5ugTQc1KW2PmxwbtfIzqVXTWnYLWpt3TTVpG6DwGUvt4NRmhqr2qEt+Va3XSpr5l+vZwPb6OtSpKsfJkzoZPxQMUKAmKPxP6022p9W64UUGr3s2av6mJmoSlD9xG8bg8CupWptWavsBc6FA1R96u2a/3EdjF+zQSbdupC/ODk14oLoe6ddOjXpPSRr4nt6hKb0bqV2/R1T9gQnGkgAAAAAAAACAaxVhLwAgaz0/R9FmV8b2cGr/Fn3eKzCVVrFujh62QtqqZZOFwoaAErWkTY7ErpdT4Z3LHjHZ6xvbyk9+fu5DC410LZE1jO0s1Xz1CUq2ncAnNNtexHxucc2X12rt4Nu1tF9l+ZWsrEfGLNXhiw59b1fV5vUVYIwdnvpEYuBrB71PTDXbNgeofvOqSYNzAAAAAAAAAMA1hbAXAJC1brpF+c1Wt/aQ4fayefNb4eX2/a5OmN0dPrLPzC7TXZcjzq1vZnt9g3/5V//+e+EwONi12CXz9lagWunz3Slt52t1KGovp/wKfPRNzdlxSvtnPi3vT+5X9X7z5d6bdMZ5q+bzc/TN6+6B70iNdA96X/9Gc56vmfHjDwAAAAAAAADwOIS9AICrQ/4KqvqANGPBymQB6F/auDhcAY/WVHm7JGV/ael3S6Wwmq5nA+evqlptpClzl6bbIjhlAbr9IXs0LXfVUuuA2Zqx2Oo8OgO8FRDcU+++31+HPwq/hG6Wkwe+L+klgl4AAAAAAAAAuK4Q9gIArhK3q8PLr6rmZ33UZ1K467m2jsOa/0IXPRHeQW8+Xj9pePnbFL39pbGcmeSay738hF5aUFNvdohfLkCtnntVt495RE/Er8/gOBqu+SsyEszmV/7CxsuqlQo302dHapFxTXUd20Ebn+pibP9wQrDsiFiq+ZvsqYgZGvjcDIUfdU1KJ7Xyt6XSAwFWUHvxkga+BL0AAAAAAAAAcH0h7AUAXDW8qw3W3F+eleOt6vK76UbdmK+YnlhdS58v/lgdStgLxasUqFvWDVTlfK7lWnyZX0NWzVX/u+z5hgvWd+ONyle1i2asO5mB7pPzq8mAr9V110BV9zO38YhmHLBnJRPQ5mMt+qKWVj1eTPmMbVjbaTxWS/fZXVLfVku1cs1Q21td82680U+PrKivOe93zYJn6roC37nvdFXXd+YS9AIAAAAAAADAdSTHeYM9DgC4TsXFxcnLy8ueujo4Tp6UQ97Kn//C6HLV8BtVd+vn2j+jgwIcJ63Wvd7pPB/Ytb70l0uJ+V7zGcDeueyCVDl00mpqnPJ+66wx/3Qa8wEAAHDdcTqdypMnjz0FAAAA4HoSGxtrvYaHh1uvmREYaD3QkJa9AICrkxnKZigQ9TaXSz/Ada0v80GvyQqI0w16TWaIm8Z+50pnPgAAAAAAAAAAmUDYCwAAAAAAAAAAAAAeiLAXAOBxvPPXV/3b8ttTAAAAAAAAAABcn3hmLwDgqnxmLwAAAHA94Jm9AAAAwPWLZ/YCAAAAAAAAAAAAwHWKsBcAAAAAAAAAAAAAPBBhLwAAAAAAAAAAAAB4IMJeAAAAAAAAAAAAAPBAhL0AAAAAAAAAAAAA4IEIewEAAAAAAAAAAADAA+U4b7DHAQDXqbi4OHl5edlTAAAAAC4Xp9OpPHny2FNZJ+LU3wpbvUXz9x/R32fP2qUAgMvp5ly51KRYYY0JrqwS+W62SwEASBQbG2u9hoeHW6+ZERgYaL3SshcAAAAAAOAaYga91b5boln7Durvs//apQCAy828B5v3YvOebN6bAQDIDoS9AAAAAAAA1xCzRe8xxxl7Kof9CgC4/Fz3YPOebN6bAQDIDoS9AAAAAAAA1xCz62aJp3YBwNXjvH1vBgAg6xH2AgAAAAAAXENcz+ilRS8AXD1y8Px0AEC2IewFAAAAAAAAAAAAAA9E2AsAAAAAAAAAAAAAHoiwFwAAAAAAAAAAAAA8UI7zBnscAHCdiouLk5eXlz11cTZt2mSPAQAAANePu+66yx67OE6nU3ny5LGnskaOT761xwAAV5Pzj7e2xwAAcImNjbVew8PDrdfMCAwMtF4JewEAWRL2AgAAAMg8wl4AuH4Q9gIAksuKsJdunAEAAAAAAAAAAADAAxH2AgAAAAAAAAAAAIAHIuwFAAAAAAAAAAAAAA9E2AsAAAAAAABc40qWrqiJD9TTtjaNjKGefrinrBr42DOvIw2qBGpabeOz29PZrXv16pd1ewAA4PpD2AsAAAAAAABcswI0uvmD2tugvLoXK6AKt+QzhgJ68M7K+rntg/o9OMBe7tJYoWY99yFQQ4vnt+dePaoWK6aOZQJU1Z7ObrVuv7zbAwAA1x/CXgAAAAAAAOCalEdhTasrLMDbnk7mBm/VqhKsDTXzq0H5ippYr7reD7y4YNIKNcsWU+vbi7iGUqX0euMG+ufhexR2HbYgBgAAuFwIewEAAAAAAIBr0d3V9XqRG+2J1ORU1coN9HPd8upetph6Vb9HGzrV1XMXE9CeidYLn36vm8xh8kJ12nJcjnwBer3x3XrQXgQAAABZi7AXAAAAAAAAuAa9dXsBpdSm1/HvOWtI1c1+eq1hZZW0Jy9OnKav+kWd9sbJO38xvR5sF1vyqGO1mvq97YM60aWxNjS9W7387FmGoY0aaduDlZM85zasQQNta3m3utvTpgY162pb65oaak2V18w29TSxrFT1zuqudXdspN/rlcpAS+W098clv7pXN5Zp01gnHn1Q25ob2y1uz0qQR71q19WGh5vrxMMN9EPNYrrJngMAAJBdCHsBAAAAAACAa04pVc1jj7o5eWiLq+WtMUw8aRemwPsWP/Wyxy/Fj2ujtV05VSGgol1idi3dQNPuLqIKOqUl0f/q1sK36/3mjTSxuJTDWGLfDTeqwm0B6pjQuriUHrwtvyr4B6h1WbvI0LGonyrkllZaUzdbzyNuUNl8DrGf8p//V//LcbNqlQ3UtHsvSG7duPZnair741JAn7RtoIlV/BTgPKUfjzh0i18Rvd6gnl5P2EfXet6v6KeScuh/Z43PfEd1dbz6HlsMAACuMYS9AAAAAAAAwDUlv3rVu11357Ynr6TYU/rfGck7t93G+O7qeq3Ijdq393fd8s1yhS5Yoltn7tDK//Kpe63qVmve6YdO6aRuVsX4YPc2f5X0jtO+U96qUDw+uK2oinmlwycOaoldIt2oW288rudm/qiKMxep4rRdWvmvVMGvmD0/BXZX13+lsT/ScY3YsEGdvpmrUnN/VydjmXv+OCnHjQX0YEVXQB2/HjNMv/tLY9vG9kt99ru+jbNWAAAAkG0IewEAAAAAAIBrRoAmtr1X75fNr1su5Td/N+RR6+bVU+jO+NK8XsxXN/13Ut/+fNguMcRu06TDDsmngJ6+zZjeckzb/zVbA7vS3pJl8qnkqRhNP/WvShYo5upeunJBVbjxX207tN9aJt6+w6s0Ptae0DZtM8PWXLmTdAntztwf7zT2p5e5P4Z9e/7SdGu9edSgVDF1zPmfzIbR3l5mmb0endKs5bu0z1VkOKwT/9qjAAAA2YSwFwAAAAAAALhGhD1YXd3z57SnLsWNKhlQTO83b6xp5eyii3KjbjKbvp53TQXkNvbt7L/6n2sywaR/zFQ0t/IXMKe26fdYKX9+P3U0pnoVzKeTp47phWNxOu+T3+peuoH/zcr/7ymt3GIunw6vG1N9bm/8/rhFvZak+2MoXl6z2jTXP90b6+d6gepexNi+PctkreeMQ9sTgmYAAIDLg7AXAAAAAAAAuCZUVqdbb7TH3fx7Sj/u2q/pxjBtf+KDelf95Sqbvita+/6zC5PLmUcdq9+j7vZkpt3tr6rGLu07kbQFbnIlcyT9NeX4Y6ekm/OogU9F3eNzTtsP75K2ndT2G/LpnmpSx1vySKdj9YK9fFZLsj/GPqxoUFEP5j6mMfMXKsfkuSo187BbC14AAIArh7AXAAAAAAAAuBbcmV8lU/ptn1F2cv82dfplrZ7ZHG0XSpPWrrXKXjh+TjfZZSm6uaA6VrbHM8OnmGaVKyDv/05pyQ7XdpfEOnQ+dz41SNJaOI/CCuSR/ovTRrul7r7dp7TPfG5vUEFVyHlKv683CmP3a/upnCpZKFAljcXTC5AzwtwfGftTP639KWsG1v/q962/64VDKT+EN349ST8XAABA9iPsBQAAwIWi1mnWmH4KDakkf39/Y6ik2q37aey36xR11l4GwDUqRpE/T9agHg8qyLr+jSH4QXUbOFmL98XYy+Cyi4nU4omD1K1JkH1f9ldQk24aNHGxIjktAOKl9pu+nPnU8d57NK10HrsgUckq9+j3oAAFpPlbwht1a3x3xmnKqVvLFlNHYxh6zz3a1qq6Wuc7p+27t6jHQdcS01fu18Zz3nowuJ5GW/uTX70a1VH3gtLhA3s1wLWYdPCgtv+dUyVvzaf8p09pvFUYrW9POBQQUEx353Zoe2RicJ0pOXLqFns0vf15zlzIcU4Os1vrwq7nBZcsXVk/dyymCuY82/Ttx7VP3mpQtabCihjr8fFTWKPG6uTe1zMAAEA2IOwFAABAEpELB+nBSg+q5xvTtXxHlF0apV2/TdfIpx5UpeaDtPjSG1EAuBrFbdGELrUV1GGQJs9Zp0i7WPvWad6ng9QxuLY6frRFDrsYl4dj6wR1rB2kjkMma976hLOiyPXzNHlIRwXV7qgJWzkrAAxbTqbRHfOFgW9C0JuBR/w6nPZIWnIXUFi96ppmDK9X8NOtzuOa/vuvqvir2xNxY7eoza97tfEGY9kGjXX+8QZ6/3Zv/W//Nj248K/4R/sa9mvJyX8VcLO3Dp9M7DJ5+qFTOpn7RuU/c0pLdtmFmfDtsTg5biygoe2rW8GtuT+hxv5sSGV/LH/s0rTof1Xy9ura+3hr7a13u249FKElZ1yzLZGr9MwfJ+XIW0SjmxrraV9Xrxf8Wz8a7wMAAMhOOc4b7HEAwHUqLi5OXl5e9tRFOutQTNyFP/17+fpK4RP09PtS//d7qrL3Oo31f1BbPtyqya397aUyII31e9vjQFZzxMToglqXy1e+eaI0b2BP/XbvBI1q6q+ob7up0lOV9WNUfwXZi6UrLkYxqbSQvZL1OvLbnnrwqVmKj3hT5R+qCfMnKLSYPQ2P44japa07Y+RboZLKFrzK7qSHZqlboPGdMT9K/avZZRcwvhd2b9XmGF9VubOsfO2PcFHXY4Ykve5Njq2T9XT3QZq3T+r5zXpV/6FfkvlZwZHkO9QuzC5xxnd0mwc10uwmMx1Bz/+ob8OCrorv4Gy9V8cz/j8kcsdaRXnfoUq3+8s7l13u2KIJz4yVnvlAPQOz52g41o9V6yYjtc6eTl2QBs//1rhmrrLrGelyOp3Kk+fC1paXIscn39pjuP7k0estG2qofxrp7blTmv7r73ohz11aERSgWzMQ9OrcSY2ZuUTPxdrTWaRq8WKq4HVOh48c0pIsXndaShYpoqqK0bfJumROb3/M99XK85+27zqsjXbZhfLrwbL5lN9pHOfIxOcjA6bzj7e2xwAAcImNdf1PR3h4uPWaGYGBgdYrLXsBAFlj0wSVLVs22dBfPxySnKezoKVJGuu/0taN8Ve3b9ONxuBxovRDWPI6Zwwfmr9ud8iZkZYNaVj3YQrrtoYrWK+PLdYHLyULeu8bpRWHohT1+yg1tIssUbM07L3FoudQD7R/sYa1rqTilVqp79svqUOF4grqOy+xBacHMEPWbsHFVfahvhrZv5XKBoVq2MLs/gTJr/sY/fb5IK15cJYio6L0yr3nL/m+YHJ9pxyxp7LoOzSDtkwdlizo9VfPGbsUFbVL03slDbDXvfGSpmy1J66o7L1Xm8ywNTTQuE66j9RLnYxrJ9Cob/MiXDOdJ7O5lfMWTXkhWdDr31PTdxn35V3T1TPJaVmnkS9MMd4B4PoWpxeWbtOStG5OZgvfeg21rXoGg16d0/Y927I86DVtjNxv3NMub9Br2nfo0AVBrym9/THfNz3NoNd0Uj/uMtZD0AsAAC4Twl4AQBZqpgnhUYqKih8mK7SI5FunvyZPzIoWSSmv/8py6J/T9iiuTc//6FbnjCHMbA9WXKHjZl1S672gsPh1/qjBxnSzD7fa01euXm+ZOVKTk//dgvlcSLMF263FjU+dVNSnIzX9qgh7kGGOLRr7ZCetLT9K6w5t1YpvfzRe12nU/SWUdW1Rs9n+Wer/8Nvy6r1Cu7au0I/Ltipybj81r5i8hma15Ne9UzHHpRqV77Bbt176fSGl75Ss+w5NR8xiTXspedvRwgoo7Gu8+qpEiTtcRQnWadjnV9EffGTTvVqK1LejRkr9Vihq9Y/6cXWUdn3ZU83vKuGa7VtX/SdOzrZWvTELp2lY8pbW/gFynZYSKuH+sEjT+mGatpA/wwGue7G7dN/3azXmUJwcqXXpfENOeWfkt4L/xmnJ5tVJu2EGAADAVYWwFwCQ7aIWDlNo28mptzQ5tk4TnqqtSv7+qhTST9N3Z76NTMzqCeoZUkn+/pVU+6kJWnfMnmFsdXLbbpq+3njtEST/SmONErcye7tBfWcpMi5Si1/pqCBzuoOxjoQ/9I7Rrh/G2us39rH1MPt5pVFa/GInDfpGWvNOT+Mzhmpy5nvbgEcy65DZkjC1Ft0O7fp2mDoG+xt1JkgdxyzPXCCyfoI6th2rdW6XQuTX/RT6xnJjza76O/nn5QnXTVCHsVqeUOcNF3VNRWnn2guvUv+NU9S/bz/1fGyQJttlibZo7U5atXuSqB/HalRkPw1+qZmKx3dDm6u4Gjat7NYdb+r1d8vENuo2dZ01P7SSMb+ScR387FYH4nZpln0f9Q/uqLG/JrxTk9slvxendm9N27qvh2lW5SEa3LmszLzL5F2yroJS6VI86rfJGtTB2Ka1T8a14/ZcU8fuWRpmzwtq0k8T1rv2N+Vy9+vevP/31Nur4u//5nfchfeFxO8m8zodZnX3nLHvlKcTvlMu/A5Ndn5emaVd8d9XUYs1rN1ILd5t3APM42xut4fx3ozcAnZv0RS3pyS6xGjumJ7q92w39R243C5z8+kWXcSjEi+jC89JUhm5V8foyHbJyzvxcRe+lRom1jfzmNvnynUOQ61zlzjEn7uL+17YtfXCO6/i5mrsM/3Ur2tfDfrVLnMzeevVfVYAXCax+/XcDwt106RvdffCter0S+aHpt99qxyfLtR9qwl6AQAArmaEvQCALOWMjVFMjD3E/3I5br+W/5rC8/RMZiuzzo9pc50PtSIyUitGlNDUJyYkCbncpbR+R/hYdWg+V8WH/ahdu37UK8Xm6sHOY+1fbjsV8+s8TXphrI60mqGtv3ZTWbus39OT5P3MbK34/R1VmdFTDzZ4WVvuG6Wf109X0yPDNHJ2fJegTkX8r7C6T1thrH+dRpWZpY6j5ylG/qrz3Cj1qi7VeGKUJk+crI6V7Lfg2uE4mVjnEiq1WYeWa/+FPb9Zoub0V6tPvNXNqEOR+2YodF9P9U+1q28veSevN9XqqO6xkZq7On57kfpt9nSVDawib7v+vj3+NxV7zqi/W3/WswUnKfRVs04aMnlNJTL2dY496qb72FmaPO4dTRjUyS5Jat4+T+r893rn0J9b5klta6t6Go0Q06q/zpjlmvfsUxrvbKMJK9ZpetuTmjB8lh1mRWne8600KVc3/WjUvchpodrZq79mWd2Sm/X2hwvuxSnfW9MSqZ2rolS3aZ0LWpqnzKEj+6WGr5nfD1v1YzeHBvWJ7+Y2Sj+M6qldjWdYLUF/+7iz6vib8XFi+ZEk5e7XffL7f0dVTnZfiP9u8u1nfN5du/Ttc21UpaQ5JyPfKSMTv1OSfYda5+elKDWbtFW7tk5Rs+hhavX8PGOvDWdjdODXd9Rv4CKVHfazti4ZpSpzBmlaQuieuqiIC//YQy0G69MpE/TO26PUvYVdlsQWRVwFj1OwXNS9+tkM3Ksrq2G/utr8bGt1fGW61h1KdjM1jvl+Yxsx58wJ8xxOts7d5HE9Vengcvm2bWiswT5vGf5eiBeliO32qJtmz3+qye+/o3eGd1czuyyJ7RGu+gAANlfXxJkffoy2VwAAAICrGmEvACALzVO/kMTn5fX/0fWrRp+CqTS3MsT8Ok0j85ottCrL19tbvnVC1bngJC3fYS+QRErrj9Fv00dqXa/B6n9fcfn6FlfDsMHquX6kZiYEZVL+9oM1uGlZ+Rf0TWi91uz5IepYyV++ZRqqaQspqt3T6l/HWEexhmreWFp+JP5Xpf5q2KOjgor5mrGc7qjSUJqxy2rN5O1rlJnPubrZ19i2se74lnK4dozrmFDnypadYD830V+F77VGUrBFs96ZpdBB/dWwiLe885RV07ahmrdkTSq/fC8s/1L2aILKavp4Q0344TdX8HVorRb/3E0Na8a3Y5RqdO6uZmWM+utfWR27dDLq5A9abmwgc9eUu5Q/07QX0miVb6hb2GM6/4ViFWW2IM17k30fTNoK0dUyMQP1t8VgDelQWf7m/bZZM2nrYZ00b7dbZ2ns16EaHNZQ/kbd8y7TVB3bztPidYk1P+m9OPV7a+qidORXyffmjHaZ663KHYxrx7hWvIx//mUqK2jrWu10CyiPREQoyth/72JBquz2dWWV/+NenvQaSXr/N/fHfb753TTK+m56ubV5rHxVvFplO6DO3HdK0u9Q1/m5Y9Bg1/eXef2HDdEdX0/RYqvVsEv3oYPV0Fi/f6Vm1vfbruj0w94Uv6tXva23U20Vayom/wL26JV2MffqcRm7V1fuMUtLvn1axXe8rQfNZ/f2mKC1R+2ZBfyNo5DIPIe+vl6K/OZtzbp7gl5uZ571zH4vxPORfwqnZc07b2txmqfF33gnAAAAAOB6QdgLAMhCSZ+pO7m1KwTyzpvfek2JMy5K+rWfq8tPawhSv1+NMquFTHIprd9pPTOxWcIzEw3eJXRHY2n/sVi7QPL1SQzJMiRJaBvf9WKQWr80Xos3p/2rWVxjkjwHsr/Mp0AalUxeqVYppxxbpQlti9t12l/F204wqlGKbdtTVfz+jur46Tyre+aoVT9oXq+mqpPaNouUM64Op5xnM3tNufNXsRRapkeuT6VVvq1SMcJez+GvEmWNlyMn7daz8a0QeyoooWXixdTf/Yoy7sNymp2MT1Bo8fi6V1yh441io17GS3ovvph7q7E/TaWI6CP2dPpcXSkH6b5nRmraqki3+uyv0Dd+VJv/DVOD4pUU+mJ8d8iJ5feVcC9P67o3uc83vptOJPtuSpC5z530O9R1fupUcGvXXKyYcV9ariPmOUhF4h8vpc67+B2qqxz2lC1ql6JSaRVrufcOlcho7p7dsvle7V+nm0bNWKddSyao4cFhatp7mqx+DbxvUvL/y3Gsn6DnPymhV54PtQP+i/1e8FaJ0nXt8URRO6IU43ZdJVe3dIkU6h0AAAAA4FpF2AsAuLJyeUn3vqN1Cb+gdQ39q9nzM8DLW1qTpCvZKEUslPzzJD5f71I4fhurVi9J3X5apx/HvaKe7avbc4CUGPXOX+r5TWSSOh01MdQszriCddWww3QtXrVLm1fNU8961VP/5f2hnZpnrN03jzF+0deUt6rf1/+CfRw83w5NqvXXj89bRYn8+6thMJGCJylbqaP02Q8Jz3h2tULM71a3LqH+5jTf2lOzIt3eZwzxf/iT3MXdW4urXFBlbfnqN6XV4jzBvul6usVyVZ+8Tiu+GKXBXRuqhD3LUjBIPT9coa3bZyj0xDC1Gr7YFYSnVp4JF343uVzad4rr/GyJcAtv/xelXaost0fKXpySddT6Pns8XosJGmWdP3+Fvjrhgi6DG7bOaHfaV6OLq+u+lUL18nPdlGOJsaxdlkTcOk14YZJKvDpYoQmtci/+uipeO1QN7fF4zT4cpdAixkiRUI368IKzotDanntWAAAAAACZR9gLALjM7OeTnnV1sexfO1Tdto/QyK8TfyEecywzv1L3V93m3aQpkzTL7J7UEPn1JE3z76aGQWk2wcqw2OORivLPr8JmkHY2SosXLHLNsFm/0N/yp5I9xQ/XEa885q/r42tAZTXsHaQJoyZoXXxVdsQoJq3WcSnyVcO2/bV49khN//HCUDViy2ZFmS27zkZq1hfT5P9YQ1U3qvylXFPedTrplXZJo4dpLyR28/vS13ahxQx/OqkuWa9H8W3aXS9Xm6FB/cZq+X5XnXUcilCENWa6hPob2FC9qk3QyPHrEoJRh1H3Urs3pnlvzeNrhWCOFFovVn54sLpFDdPzQ2ZpixVaOxT121j1G7fO2laS6zHmiDYba/K3+rSN0a4li7XGmmGK1Lqfd9nhbmVVD7pDUbEOOVMtzwzju6lZV+u7afoO19Fw7NtitRDOyHfK2lS/U1znZ94n0+zzE6N1xnfevGptVOeSnxlfXK3DBtktYm2r3lZP+/oPfeZtt2NnqDZYz7bwrFDxgnv1Mxmo6/tnqV+HYZq11a7Ljkj9MHue9HAZmQ3lk3Jo3YcvaWShZ/X0fb5uzw++hOuqZGs9+3ySs6I17/RMuC/3fCfJWVHQ88+qtfVsaAAAAADA9YKwFwBwmZVVnZZBmvfMSM0zm8QUbKiXv3xWzjFBdteGlfTgq4tdXSNmkG/jlzWjn1Mjq7m6Rgwa49SzX76shgXtBS6R/33dNTj/JN1XxFh/7UHaVba5W+smfzXsOljFx4equLHtQQvjf4uL64lv5ToK9R+rx8a52hpWfvJDTQ/6TY+VddVJ/3t7avrWlKObtHjXaaZee+dpTYc6qp48VN09XT0DjXUXCdKwQ9316bCGsv684ZKuqeIKfeNTDa6TGPhGrl+u5b+6hnUJzwT1V92hn2psa1qPeZ7K6jljsYb4/aae1VxdyhYPHBrCYyMAAGaoSURBVKmoXpMVepe9xEXXX2PdH09X9RWPqaxV9/xV55np2ppKoJXmvdW3iuq089fY7mMvbMFr1PFR8yer+r6Ruq+CuZ3iajBkp6rcV8lqoZzkegwM1cgOK9StkrFcpW6aenP1xG3EObXzh8dU2z9ItUMqqfaEYppgPm84tXL7bRkV/930dkhZ13F+eKwW74rJ2HfKB21S/U5Jen7K6rEV1TX9457G0b903tX668OJHRNb60btSrj+l/+2K7Ela8mOmvxxfwWZgbUHufBePSH9ul6soXq1laY/XNY6J/7FgzTS0UvzXmzuuue6O/SDPnhjnbRwkO5L9vzgi7+uvBUU9qEmd0i830btSLwvL9+R2L64eIfJ+jAsyK2lPgAAAADgepDjvMEeBwBcp+Li4uTldan9P2aOI8Yhb9+kv450xMTI6eWrZMUZd9ZhtZLxvegVpM3cP2PlKf8S1dy209vVjS6uT2YrLSWrv2aZ0+sS6uQWTWjQQSdfXafBdeLXsU5j/R/Ulg+3anILnzTr/EVfU2cjNW/4IL08PoWQuGRD9XxplF5pStDr8ax7plNeeYz7WpLnlNsuof5adS+XUfcycE9M/d5q7J81K43txxn7eDaFfUx2PVrbyOznvOTr15bKd9Mlf6dk1f6lICZ8sgb1eVuz3IJEF3+Vbf2sPnyjmypnTecZl1+yumHJ4LHMTL1O1UWftxhtmThIPd+ZpZ0XnJayCu33oUb1qHxhAA2P4HQ6lSdP1v5PZI5PvrXHAABXk/OPt7bHAABwiY2NtV7Dw8Ot18wIDAy0Xgl7AQBXJOwFkBaHYqKitHnGIPVc1Uw/znBraece9qbyLNQsExepLRt3aueOXYopUFZly5VT9fLFUw7MAFxjjPvQ7q3a/OdObf1LKnZXOd1RoZLKFsz6cBmZ4IjRrj8268+dW7VfxVSp3B2qcmfZi/9DOVwVCHsB4PpB2AsASI6wFwCQJQh7gatM3HKNfOwdrSvSUINf6qmgJF2Sb9Hkti8roscEvdI4m8NeAACQ7bIj7M0zZY7+PvuvMZbDVQAAuMLO6+ZcNyquawt7GgAAF8JeAECWIOwFAAAArozsCHvbLF6tWfsO2lMAgKtBaMnbNLNhsD0FAIBLVoS9N1j/BQAAAAAAwDVhTHBlFfTObU/xN/4AcOW47sHmPdm8NwMAkB0IewEAAAAAAK4hJfLdrPUPNbBakZndhgIArgzzHmzei817snlvBgAgO9CNMwCAbpwBAACAKyQ7unEGAAAA4BnoxhkAAAAAAAAAAAAArlOEvQAAAAAAAAAAAADggQh7AQAAAAAAAAAAAMADEfYCAAAAAAAAAAAAgAci7AUAAAAAAAAAAAAAD0TYCwAAAAAAAAAAAAAeKMd5gz0OALhOxcXFycvLy54CAADwTM7INZq7eLX2x9kFyfgWDda999VQaR+7ALgKOJ1O5cmTx54CAAAAcD2JjY21XsPDw63XzAgMDLReadkLAMgaW3eo8eQ9OmJPJnVcS77+QzN2OuxpwMP8fVDbfl+jjfuOynnOLvME55yKPXEqxX12GuWxTnsiC0QvHqGwz3YoC1eJ7GDXiYThmjthmzSqYi/NPGxPuvvb7XMn+fxH9dOrgzV5h+tgRM/upXKjN1nj8DCHZuuZ1r00dt5y/bos5WHOxP5q0uETbfOke3lKMnp/v+aveQAAAAAAYS8A4LL4999zOuXpv1jF9efcKW2c3ENBjZ7WB4uXaeqL7VS77Witcv3B3aU5PFuPPzlb0fbkxTKDqcdnH7Wnkon+UWG1a2vU78l+u7/vS7U3ysN+TOV9SZjh2WhttKdS5Tyl6DOkCFc9o048V+cBtX+iux4xhybVFdTjM237255/Ddv4QW3VDrU/tz2MWuq6Bpx/R8tJ9fVs5w5q5ivDtKfteC359mt9900qw7cfqKfeU9gHm5Tan6BFr/5EjzdooCZtWyooqJ2GLDhozzFsGK1yFau4DW5/XHBosYa0Nt/XTk2a9tLkP1KpVMa+zn21i2o3aKeHGtTWQy8t1oH4/0f6e59mJsxL4/rM6P3dWu76vOYBAAAA4HpB2AsAuAwKqHGnKnqigrc9DXiGA7MH6ZH1DfXVou/1/kvPaczUJVoypoMqelL3n3Xr6sCc5XLPp7ct/kFFH6hhT2UNv6Yj9fnjd4kO4T1BK42ID76W/Kb3y36p9h9cHy1Za/b+IEnwN+KBQkZpITUfNVE976L2erI9Xw7SkAOPaEzvGmnfh7zuUv8xvaUJL+md9SnHvbFHC+np75Zo/jffa938RxX77IjEQPdfY+j2hf7ctlk7rWG82gSYMw5qWtgY+Tw/33jf15r/SUOtfGKMVqWQ90YvnaHddcdqxRKjHi5aoEF5xijsGztQPhstVRvlmrdkrT65K43rM8P39wuv+Wem7bDnAQAAAAA8HWEvACALnVfEim3q8f5GNX53s97eGP/rx5NaOGOTPk34veI5nd6+Wy9+Yiz3zkaFTtmh8Bh7FnC1OLdJU0ft1dNPP6zSN9tlBp+Stykh641vgRVURZUb9NKopW6tvzZ9pocmb9KBH0aofe0qKle7i0b9fipxXvfR+nX9e3q8bTtrObMV8Z6ln+iZ1g1UuWJ11e48WqtOuBa3xG7StEFdFFTRta0JG8xWx+30yOjlWvXe03rIWI+5mgvkKq+KsT/q1/h1nduhX5eE6M7Ca+wCQ2rbjjZbqfXXNM3WEHM/X1pstUSOXjBMQ34w1jPa3J9nNdcoNMusz+HcoWl9emhy/PXu3KQJPQZr7iF7GlcZL9VsdJ+cu/a6Wplb9XaN9nw52KjXtTXBqlNO7Zlt1OMG1VUuqIEeN+pcQitEUwp10xK9RhP6tDTKzTo1QgsTLg+ntk3uZV035nURZtQb17dFauXGqlYb9bNpbWv77V91awVpcLXCNPbNfM+Xa5IEXxlzVD+9lMr1Y3K7zoOaPpt6a01cOTuM+jH8oNr07qDSTrcui1MbCrfSiJ7SlJfe18YUWriWbtpKVeNv9H6ldWcR4/o46ZqMPrRPFW9N4S9+Yrdrw6b71DjYjpqLtNLTrWbrm6X29eDGr+Fz6l/f/EMDQ858qlqjhjYesFvi+tRQm6a3ucYNpcsGynkkOuV6nZH7+wW85Fc0nz0OAAAAALgWEPYCALJObJwWyl8fPF1Fs0JyacXvh7XdmvGfzvzzn06ftSZ0ZvsuPb7IocDGFbSwXxV9Vje/buX3jrjaRO/Vnr/vU8077ekLHNXcAZ21sPRQzV+9WVu+e1Qa/ZBeWW4HQeeite2D4fpAHfT5ss1a99Zd+umlL7XNnFfpYX3+XFOp8hMa8fEkff7wXVJOpw6cvEuDZizRlm1r9XmjTXr8gzWuZ+A6N2lshx76JehVrdhibqu37g3Ip6oPT9KgB6Wq3V/V58Z6OlUyF07mbFE1biEtjA+adyzXLyF1VTWna9KS2rYL1NWgEU+oqppqkLmfz9WVn7n8P0e16oPRWlltrNZteVvNzUKjbNtx49WrvNp0v0vfvPKl9pyT9swcrTnBj6p5EfONuBrt2b5JXmVLuc6tWW9njdakc48a9XqFehp1Kvr7Z9V+cSkN+26tdq7+Xt01Wk2GL0+zblrljw1XTKepWmfUqRUjSmnWk59pj/meTR+r/eqG+sq4bnYum6j+D9h/QJFKuXPTe3r01Rh1nrFCO9ct0Zhys/X4Z/vMd1jzHukVrsafGvu24gsNK2d8HmtO5sQe2aGoFB81YF/nFUdpxTrjOp7xsKIGjtBPmU+UkW32aXLYe8Z5P6qZzzZRUO3aGRgaqP2EfTq/73OFpdHC1Rl7UBs/eU9Tqzyj5mXtQtOB1Zr+3nsaO3m2Nsa3+M3jY1xDZ5I8E9fHr6T2HEu/u/w9O9aoalE7/I13zqnofT9o7Md71LND3cQ/MnKXkfu7xdgvM+Q+vE8bf3hPQyYVVf/m5e15AAAAAABPR9gLAMg6Pnn1RO1Cyn1DTuWtkk+1//1X/7vgF+IOrdn0jwpXKaLQ4ma3zsayZQJUmG8kXG0O7dGv9miK9i3WpNWt9PTD5eVj/mLdp4b6D2qlaV+6Wr9aqnVQ/6Yl5WXM9wkO0f2H9uqAeU3k9JKPb24pt5f8bsknH6vlcCHd26qGipqNwv4+Jb/iFeSMPGi15nKu+UETig7RiDaudcmnvCqa4enNxnuN5b1uLiQfYz3WvBT43XOfNMe1Xxvnz1O9+uWTdXOayrbN/czvZSyb21q/j7kx24HgR10t01LYptddT2hY4GcaNfVLTZ1VQyMeIVS4umzSVDOoMoZXejVQ+1l36ZPud9nzDDe3VvdOdr3OuU8/TV2jNt0fdnVfnjOfavZ+Tm2+/FI/GRUqtbpplQc/p/7B9l/yFG+o+4uucQVjXt7yO7Bde8wKadSxokXskCvFcqdWff+Jggc9o5p22lW0XkMVXR1u1GfXvKJDX1Gb4q55PnfXUFXXaIriW8G7hs/Sfxa1eZ1H9dagNnZLS+M6b1x/tjbsdk3iahCrqH1Sp/ErtG5F5obvhgbrwLrtifdsN2ZvBe0f66JHviuk/k+EqKh9r/MqVUP3lgvU/Z07qEXhPXoltJfmmvU6511q3HO1Rr36pX79fY3mThisUYtOac/xdP4y4NBsjZ1aV0+3SGzNa16jkx82tt15jPbU763OaXQxnv793bRdc6Z+qknfzNPC5WvkzG98vmO0UAcAAACAawW/WgcAZI8bblBunVPcP/Z0gr914m+pTKEC9jRwlSpSWvcaL84UW/sZThzQtmqlEwIAk1ee3NLqvTpgTyeR0/z1e6xiU+gyNF7075/o8dbt9MzoTzV3fWJrsNijB6X4lpcX45YQtfD5Vj/t26SF6zvo/hSy19S2naqbfVIIFOJ5qWaHRxX7xghFd++gqqkviCvCT3dWC1YtY2j7/Hyt+/Y51bzFnmUq4OXWijBW+/+ooTLuLbO9zHO/RrsPpV43rfKFo9U+IVh9WlOPFXIFyOUf11dD/TS1Y23V7jVac3fZoVOK5acUbaxq7qhHEkPa3jMUXdgMkV3zSpdI1iIyDUmf2ftomsGwxbzO932ssITP0U6vrC4vf7frHlcHL998rj9KSXHIrT1fdleT0auNe9deTeveUqPCjSvhZuOenQq/B17Rd98u0ZYZTbU7rLMm2A2Afe56VP1blZffLYVUuulzGtF5ryb9bLY091LVp7/WJx3z6cCOgyra8mUNe+g21SzqHuImc+6gZg6fodLvhelet8cFSHepm1FH569YohG3fqkmgxan3I2zKQP3d3N9nXv3Vn9jGDTqC333fl2tfDTl5wkDAAAAADwPYS8A4DK7UXlulI6cuvAZdsBVJaCC7i7ylRauTuW34Tf7quieo0lbhP1rDNWKqqhrKnN2fKL27+XWoG++1vsv9VanBonpmtdNPsZFk8ozGzMkn+5tVUELR3+sPS3rqrRdmiCNbV8cp379dIaqDu2t6A9ma1tqgTmukCKqek8N1TSGisXTS+K95Ov2vFLLOfOaqKFihVOvm1Z5i6Fuwao5vKL77VTY757H9cmSFZr/dFHN6fByQrfIF5Z7ycdYVZuXvkq6rlcbWgGzVy4pOiobv0/M67xyb73vvm1j6ObWEBqewKhHtxRV6aJ+xpjxr2gpFStgBr05XLPTYrXm3qdfwg/aBUl5+eRT7N/294TZIv3OpurUrZWqFjmjjb9vSv2PEcygt087LWw4VoPuTv06LFqnoar+sEbbUg1m07m/p6RIKZX++6AOuD8XHgAAAADgsQh7AQCXWT4Flsmt8K3/0/Y4uyjuuI7EjwNXjfLq9FxDzRw+Rr/GP5PREL30S/10yBgpW1dtvb7VnPhnJZq/uP/8K937gP1c2/SYIdLxWMXaQWjsX3t1oFSphJbCB3a6nklq8gm+T82XfqZpf8T/tt+p6MOucS/f2xQdm37Y5VWtoUqvlhrXu7CVWVrbtrqK1qk0WyQn51z9nkad6q2nOz2iQQ/MU9jk1J+Jiatded3bPre++X5NQl09MMeoi3Ub6t6A1OumVW4sNzPSLjbFh/7RBxVtj/uUD1atktGKPZ1aeT7VvK+pZn3+nQ7Ev99kjRdS1bp3ae7sxQnzYjetSb9r5swwr/OoTzV1tds15r4fuGoc2LJGq35PfYgu/rCevsupjetjVfHhJ1Q1bpNW7YwyKls+JYla/96kyROWJ9RF896+bZeXShfyseZN+3JTwrVgTn8z/ZTur1bSmnRG7kt4X+zqj/TBn0+ohf2HAc4/ZmvyUjswNtY5d0AXLaz/tT5plfSefOD7TzQtvrW7IXbvHu0peZv80vi7jLTu7xc459SemR9r2l11VdO4hgEAAAAAno+wFwBw2RWodbveLOrQwEmb9MhHmxQ65YCWHDljzwWuHj4PjNT8p6UPQqsoqGk7NaldXY8vzaeKhY2ZOcur5ydhih39gGq3bqeHGnXRNyXf1ogWGexStuyDetr/fbVvYbx3+HIp5GH13D5IDcx1tX1Wc70CrW6kLbc01IjPGmrlEw3UxOxKtkEThf18SGYcULHpE/J7r7NV/srSNEJfrxoatm682qTwy32ftLbtU1edu4XrmWbGvB5fao9dnJrzf2/S2Ff3qXv/hjI7+63afaju/Wq4prnlx/AsFbt9oEFxo9WgkVEHWjdQ+69L6v3XW7n+qCG1ummWf1xDczrUdpW3bqkmQ13PFY3eMUPPNGrg6ha5RXfNCemt5kVSL/d54GV9Vu1HPRTS0jWvaUuFLXJ1NV607SiNyWPsmznPqL9hvxdSzWBr1kXzKVJSPl8O1+RdxoR1nfdW7Bv2dd7W+BydP9PGxCwOV1x5Ne5ZXr++0UOP9MjcEPbZQd1fL9Ct23KDVylV9frSuKe76luTkHaaU/Zt9a+fz5h3m0qf+FhN7Hm1G/VXdJcP1N9qmXtK2xYON95n1vcGavDGKfX/5HFVtP6IxqmN80Zo1EzzWdPSxo/bK2zBUf36UhOVq1jFHnpp5mGjTlctot1GuVXfzPW8cEzd33k47Ra7adzfXT5X+/jtBDfRkHV19flHD19cLxQAAAAAgKtOjvMGexwAcJ2Ki4uTl1d6XXlmg3//0el/pLw+N9kFwNXLeeKUnGYr1xQuFWesMc8r5XnpccY65eX2RnM7VkuzVJ4JmuL8c07FOr3kk+SZj5mX5rb/dn3G1PYL1wHnKaOe5ZZPKhU9tfqT2rWT2XKrnseesbrNvaAeGvUzNufFXYMpMrvlvTnpyqzrPJexjUu8zuAh0qpvac1L7Tox33PWuE9ntI6adfps6tcbri1Op1N58uSxpwAAAABcT2JjXc+2Cg8Pt14zIzAw0Hol7AUAXLmwFwAAALjOEfYCAAAA16+sCHvpxhkAAAAAAAAAAAAAPBBhLwAAAAAAAAAAAAB4IMJeAAAAAAAAAAAAAPBAhL0AAAAAAAAAAAAA4IEIewEAAAAAAAAAAADAAxH2AgAAAAAAAAAAAIAHIuwFAAAAAAAAAAAAAA9E2AsAAAAAAAAAAAAAHoiwFwAAAAAAAAAAAAA8EGEvAAAAAAAAAAAAAHggwl4AAAAAAAAAAAAA8ECEvQAAAAAAAAAAAADggQh7AQAAAAAAAAAAAMADEfYCAAAAAAAAAAAAgAci7AUAAAAAAAAAAAAAD0TYCwAAAAAAAAAAAAAeiLAXAAAAAAAAAAAAADwQYS8AAAAAAAAAAAAAeCDCXgAAAAAAAAAAAADwQIS9AAAAAAAAAAAAAOCBCHsBAAAAAAAAAAAAwAMR9gIAAAAAAAAAAACAB8px3mCPAwCuU3FxcfYYAAAAgMstT5489hgAAACA60lsbKz1Gh4ebr1mRmBgoPVK2AsAAAAAAAAAAAAAl1lWhL104wwAAAAAAAAAAAAAHoiwFwAAAAAAAAAAAAA8EGEvAAAAAAAAAAAAAHggwl4AAAAAAAAAAAAA8ECEvQAAAAAAAAAAAADggQh7AQAAAAAAAAAAAMADEfYCAAAAAAAAAAAAgAci7AUAAAAAAAAAAAAAD0TYCwAAAAAAAAAAAAAeiLAXAAAAAAAAAAAAADwQYS8AAAAAAAAAAAAAeCDCXgAAAAAAAAAAAADwQIS9AAAAAAAAAAAAAOCBCHsBAAAAAAAAAAAAwAMR9gIAAAAAAAAAAACAByLsBQAAAAAAAAAAAAAPRNgLAAAAAAAAAAAAAB6IsBcAAAAAAAAAAAAAPBBhLwAAAAAAAAAAAAB4IMJeAAAAAAAAAAAAAPBAhL0AAAAAAAAAAAAA4IEIewEAAAAAAAAAAADAAxH2AgAAAAAAAAAAAIAHIuwFAAAAAAAAAAAAAA+U47zBHgcAIAFfDwAAAAAAABcnR44c9hgAAKmLjY21XsPDw63XzAgMDLReCXsBAEnEfy0kfwUAAAAAAEDa4kPe5K8AAKSEsBcAkKXMr4SUhnju4wAAAAAAAEga6JrjKQ0AAKSEsBcAkGXig93//vsvyRBf7v514T4OAAAAAABwPXIPcd2D3RtuuCHJEF8OAEByhL0AgCwRH+bGB7xnz57VuXPnrNfkoS8AAAAAAAASJQ95c+XKpZw5c1qvBL4AgLQQ9gIAgDQVb9dZxk+YynGDMVivNxjf/sYPmdaruYT9wyY/cAIAAAAAkK32fPyuPQYAgEtWhL03WP8FAFy3+Jufa9v5/4zzaw7meY4fFD/uWsZCPQAAAAAAIFvxOxgAQHYg7AUA4Fp2/j872HUN1s+V/GwJAAAAAAAAANcEwl4AAK5h5l8NW4P5L0nSS+ILAAAAAAAAAJ6OsBcAgGtZfMCbJNsl6L3eNanmep4Hrm/UAwAAAAAAAM9H2AsAwLXMDHvjB2va9QIAAAAAAAAA8HyEvQAAXOuSBLxm8JuY/ZoTru6dAQAAAAAAAACehrAXAIBrmCvHtcNcQl0AAAAAAAAAuKYQ9gIAcE2LD3hTCHoJfwEAAAAAAADAoxH2AgAAAAAAAAAAAIAHIuwFAOAal6T9Lo15AQAAAAAAAOCaQdgLAAAAAAAAAAAAAB6IsBcAAAAAAAAAAAAAPBBhLwAAyJSShf311cB+2vzuWwnDlL49lcfby14CAAAAAAAAAHA5EPYCALLF2bNndeLECR07dizJEBMTY807d+6cvSQ8TcAt+VW0UEEr3I0f7ritiO69s6Ja1ayuB+4OJPhFArMumHWifuU77RIAAAAAAAAAWSXHeYM9DgC4DplfAzly5LCnss7IkSM1ZMgQeyrRk08+qaeeekoTJ07UsGHD5OfnZ89BdritZVvlyJVLNxhDjpzGcENO4zWndMMNrvN+g3nuc7jGM1gPapUvp9Hduiggv69dIh05GaO1u/aoWfW7rTq1KHyLek6YaM/F1aZJtUDNXx9uT2WfPs2bqFvDesp3001WvfjfiZMa8908fbdqrb3E1eHhuvfo+OnT+mnjZlUtdbva3FNTEdFH9fHCxfYSl859G1eLrK4HjzQI0dMP3q+bc3tZ94Pu732oKrcXV+mAwvYSqTsZ97eWbvnDnrp6XI66AQAAgOvH7o/GZcvvYAAAnis2NtZ6DQ/P/O9oAgMDrVda9gIAsoXZejctv/32m8LCwhQdHW2XeCYzwDp48KD++ecfu+T6tXDDJr365SwdPXVKeW/ytkszZ0LPHvrhpUEJw6f9nrbCFlz97q1UUT0aNVCZWwOs6ba1a+qx++61gl6T+QuNIgVuUe9mDyQsY76nX4sHrUAwI+6vWkUzBz2rz/v3uuA9Zsj4XKvm9pSsbQzr0Eah9wTbJSlrUSNIz7dpqSFtWql80SK63d9PzWtUU907y9tLZF7He+voxfatrS7PTeY2Brlt41pVMF9e5b85j9Wau2ihAlbZgNYtrD8OSW8Y3uVh6w9J0mL+8cCl3h+S15O0ZEfdAAAAAAAAyGqEvQCAK+aLL764qMA3MjJSr7/+uho3bqwOHTpowYIFcjqd9tzLa8+ePWrZsqUmTZpkl1z7Dp84abXkjXM4E4aDx47r1z+2aeeh/+m//y6+05BSAf4JIZGpconierVTO416tKNdgqtR2EPNNKFndw1u+5A+7dvTCu3uLl1SvjffbC+RyOwGvEGVSnqicUO9/2Q3K/w1QzszHE6P+b47ixe1WljWvCNpMNiiRjU1CqxsT5l1p5hCawUrqEwpuyRlP2/eoi+XrdCUn3/RjgOH7NJLY7aYbVKtqvVZTeY2ZmTxNq525/77z3rdceCg9ZnTHw5a95a03GoczzK3FtaNuXLqhhw5FFiyhHV/mNj7yQx3Hd8yOChJPUlLdtQNAAAAAACArJbzZYM9DgC4TmVHF0LLli3T0qVL7alEQUFBatCggW666SbVr19f/v7+yp07t26//XZ7ibStXbtWHTt2tFoOP/LII/Ly8tKoUaOswPiee+7RjTfeaC95efj4+KhmzZqqXbu2bk4h2LrS3v7yG+Uwu2yOH3K4Xs0umxO7bs5cN84n4+L01fLfNWH+ooThmxWr9O/ZcypWqKAaV71LJ07HafbKNfY7Mq5L/bo67XCoySsjNf3X37R2127VrVjeekbwhj17VTi/r6qWKmkt07VhPdWvXFHh+/5S7ly51K52LXW4t7YC8ufX3iNHrP0xW38GlytrBU9mV6wmM4CrZ7zPO/eNVmhthkTme80Wgnm9vfXnQVeoYy4XcmcFmdF1ZWM9ZnfEZne0ZqBtrjue2TrVnHe3sV/RsacStmNuO35fzYDJXH+unDdoz+Ej1vx45nJPNL7PWE8F69ia++ReboaV7uvNCmWLBGj3/w7bU5fObC0Z34rV+8bcxmc4aRxXb91ZvJhV5u6/8+e1ce8+63OZ+2HyNq5b8/P9vGmrNZ0S8zz1bd5ER2NOKWfOnMZwg+at3WCV31elsuoa5+oGo26f+vsfVSpRXEUKFFBQ2VI6dOKEbsyZy6oDuW/MlXBOzePd6d46chr3kmOxp3X81Gn9FRWtCkVvs54v7PqDBodxbutbIWN8nYqvPwV98unA0WPWvpnhthk8xv7zj6qXLa2ad5RV/rx5tO9wlArkzauDx4/Lyzgu8duIl1rdyWjdu1RZXQ9W/blL7/+wUO/Ona9pxvVrWv7HDutaTm/4fvU6q/6npeFdlVXKOA5vfTtHL0z7SouN+lKjXBnj2JvfH+et7ZtSuqYT60n5hHpyi3FuzHNoHm+zNXab2sHK45V4DzDvK+7nzb1uxN/fUjuHAAAAQErM3mroxhkA4C6+EdPhw5n/HU1AgOt3a4S9AIBs+UEjtbD377//VunSpVW2bFkVLVrUGgoXLpyhZ/fGxcXplVdesd4/fvx465kEderUUeXKla3At1KlSipZsqROnnS1DnMPfk+fPq0zZ85YwbLJXNemTZus0NgMbM1jYHbJbD4jwQwCHA6HNmzYoDx58ljjptTW5+3tbYXX8fPN9Rw5ckRbt2613m/Oi1+3ub34fTC7fjbXYwbW5vbNeTExMXaQldNa5lJlR9ibluRhr9mVbp2K5VWx2G1WUHLrLbckCbuSM8Ne09RflluvZku/h0Pu0U3GMVu6ZZva3BNsBaCN7qqiB4OqWi1H1+/eqw+fflxtate0Wv01DKxstdzb9b8jCipTWkPbt5K/cY4XbHA996J38wf0bMumVrB0NPaUJvV5yurq13yvuc5qZUppUfhm1atU0Wo1eE/5cnq0wb1Wa1Lzs9xxWxHNXbveCvWm9H1aj953r8oWudUK+Mxuhs0wN8L4jGb3xD2bNDLK7lLrWjWs0M7cN7Pl8zpjn01vde2slx4OVaUSxaz5zatXs4KlB+6+S8Mf6WCFlmYL2VY1a1ih8ZaISOt9lyqrQ767bi9hfQazteWpfxya9ftqo87LOpa5ktVl85h/+vOvVvAdaBxTc7752b5duTbNz2d2qftgtapWPTCD+hL+ftYfABQrVEgjujysogULKL9xvZnH2+xy12wFbC5nnpv7jPFTjn+Uz7hWX+nU1tqvjiF1VMY4DieMa/DJBxqqRrnSVr2LD/TMkLB1rWBrXWbIeFfJEvrJrhevd35Yxf0KJQR+I41zZQbH5jHt1/JB61jkMa5rMwisWLyoth84ZO1j/DZM5rkf0Lq5sf7bFFyujFrWDLKO2XrjM5n1N626l1Wyuh5kN/M8lDPO5y9b/rBa2prBai7jflbTOE7mPSz+npPSNW0G+q90bJuknpghr9kC3DwXZmBfzji+ZqvsEsa5Nc+1ef8wu5dOXjfiw17zvA9s3UJ3GHXkbmMbZkty8/rdtv+AvccAAABAUoS9AIDksiLspRtnAMBltX37dqtlrtmqN36YOXOmPTdtO3bssAJk8/1miBqvRo0aVmthsztnM0x+7bXXrOHcOVcLuFOnTunpp5/W999/b02bQXRwcLDVhXSrVq307LPPWuGvGeo+//zz+vjjj9W6dWs99dRT1vN401rfiRMnrK6kv/32W2ueGdiOHj3aaun7wgsvqFatWvryyy+teZMnT9Zzzz2X8HzfDz/8UM2aNbO6pTaZ4bO5rqNHj1rTVyuzhdzkvj21+d23rCF83Bv6uNcTVnlyL7RvrbE9Hkl4Lud7T3a1nuuaUWbrXbM1rxmurNyx02rpaAY1541/bd8YqwdeHqlnmj5gtXqctGipKj3znD5asNgKArs3rG+FtkdOnFSFYkUTWp6aLfDMQOaXLdusoOa2AgU0cuZ3qtx7gBVCmsFap3tdoXPOG26wWnAO+ny6Gg8bof1Hj1ndCJtB79pde/Tjug3q9eEk473P6eOFP6tAvrxWWBTPDAyt8NbYz9e//tYK/WuWL2vNe+qBRlYQtevQYTV/7U3VH/qqhk3/Rv+cOaNO9epq074INXzhNbV8/S0rmH64bi3rfVejt2bP0RuzvtfXv61U/4mfWS1uP1ywyDg+GxO68zWdMur+l8t/t87luLnzjffMsYLhl43PbbbuTIt5zM3fiZiB8B+RB6wWs2ZXzua6wiZ/ocNGHTGDy9JP9FG9Ia/oo4WLrFaw5j6Vf7q/xn7/o7WeXDfktOqLec7v6jNQy/7YYdWr5Mzz8MT4j9XAOAdrjHNtBobx9SItZj0x98Oss53fft+aTi7+3Juh/33G+h9//2M5zvyrjvfWtuqfKa26d7Uyu+Te/sHb2vPxu/px2CCrbGi7/7d3L4BRlXf+/z8BAiMxJAQTQmiIwYIQS0yiQaAGaRSwKIJctAtYqly6W9TdFnT3V7BdFbZbhb1Us/uvQi0V6FLAG0JFkGKwgKBJDBoQJDFQuQSBJBgcROR/nmfOJJOQKwbMwPtljzPnnJkz5/KcpOYz3+e5s9o4u3VNv3vw7yvv0abY7Zxr065iIjrY+bruaRMCm3Zirou/ndzjXJ83399h711z/5l7rfDgIQ3ofXWD4wcb5osYpgt7c//2nf5zzXz+/2wvBwAAAAAAABcSYS8A4Lzq0qWLDTlNSBs4mWVmXVMcPXpUkZGRuuKKK9wlPqZytmvXrtq3b58NZL///e/b7p5LSkrs+qKiIh04cMB28/zxxx/rscce03/913/pzTff1IYNG2xg+8Ybb9jXGosWLdK8efOUl5dnq4Xr215Nq1at0ltvvWW3vW7dOv3pT3/SwoULbaBrQuldu3bZzzOhdHFxsa3gNcuMDz74wHZn3bFjRzvfUiVfmWArDE24a6Zw5/ybSsabrkmyVXetWoWoXZs2urNfutq7Vcx+JmgLb+9x52pnAh8TIn+QNU+z7hplxwReuP5Nd61sgGe6b80t/NgGXyYAO3D0mO1a2jDhoZk3y6/oEK78j/fawNgEODdf+x0lxFxhu8M1FaXmNabL4dLPKuz+mtDIVKeayj4/U6n78pZtNiD625Gj9lvY/mpVE1ia6uNH7h5luyU27+3aqWrM4S9Pf6W3d+227zWViOUnPrchnuEPfU33tWa92c4rW99R/6t76rK2odqx72+2WthUHh4pP65O4eEtMugzbeCXPxhjq2BN25hx5+2aNPh7dt1Dzy2yQaapivzdur9ozL//p+3i17zHhICmGtt09WxCfVNtXRfzetNN8uGy48rZU2SnU6e/1HXfTnRf0TSm8jKwTdVmv9OGsj/YYa+LCWVbh7Ry2mbDPRA0hrn2psL7tXfz7PbffL9A7+zeY9upqeD1M23vpTraXktkqrVDnH8Mfzs3lcumOrrhqauttP06/D8PGrqnA5lz/+zrb9jq72m3DVFEWJj9kkascy0aYnowMN2F//PoO2wV8Op3c901AAAAAAAAFw5hLwDgvDLdFJuK1bfffrvaZJaZdU3hr4iti1n/1Vdf2YDWdMVcUFBgl2/evFlJSUmKi4uzn23CYdMVtAmPT506ZbuSNkGr36233qprrrnGnVO92wtkKoNff/11paen2884cuSIHcfXVPuacNh0MW2YsNiMMWy66DCVvO+++67tEtqEy6mpqfa9wWho2rW2S+LoDh1sFaSp5DWPTWW6+TVdqC7/6xb947O/15BfzrGBV6AzZ3zVoib4MgHYqdOnVXTIDeOdRzPvD8b8XSabQPq6q7rbMWVN18/+95oq4EfH3WWnKUNutl3pmvc3xFQKLpn+gP708E9t165fONc5sIq1ISYMO336Kx0u843R62fCcjsG8Y0DKvfLBGEnTn7hvqJl+de/G6s7+/etDO1MUHby1Je2UtNUbJpxUz/85ICtcDbtwyx71HmPmY+/Isq+xwS+9w3+Xp1V37empahLVEd1j43Rusdn2Wpx04W3OS9mbOOmMuMGN4W/vTUXc+1NlbcJIv0qnJ8HJig1gWmwMl9mMMdkvqBRVnHCLvvjm3+1X8B40bmH65v+mP1X5X9cbN/TFB3DwtQuNNRpc6fO6Z6eOvQWZf/qX22X2t/q1KnaNWnIrEVL9daOnTagf/b+qfbngfm5AAAAAAAAcCER9gIAziszboAJP023yYHTtddeq8svv9x9VePExMTYUNQ/joGfqeY1QW9CQoINSs3rzGeYUNZ0ubxlyxbddNNNdmxcE7xu375dU6dOtd1Bm+mdd96pti+m2tYEBn71bS+QCW/Mvpgunf3bnjZtmg2KzXi+pmK3Z8+edixfU81r5tPS0vTRRx/Z7qILCwt1/fXXu1sLPmty3tNj/7dCh8vLbZg643fP28emMmGLea/p0th0B2yCo7pUeL02xDFj+vq7vzXhn8eZN8vN+he3bNX+o0dtZahZd6yiQn/d8WHle//26VGNmPOkkh98qHL61z8us9uqz/C+aUp2trkk+y3b1a8Zw9NU8jbWCacdm2CvZjWjCUrNfj3/l+xq+zT4F7Nt19Etjdl/UzlplFac0Kp3cvXTEbfZ8WpNkGvGMX58/F2acedwfbf31XaZCYdvT79Of3pri63UNjzOPVJXN76mYtMEeaarbtM2zPTGe+/bym3TlfP5FtE+zIbw5to0h9quvekC/PSZr5x22TJD/cYw1yd9+s9te73rif+yy0y168O/X1x53eqannr1tXrv9bqYcbDDL/PYbs+bek+bivFR/dNtSG2qzk3X8Kab58YyFdeTn/qtbnlktv6S/4HSruqusTf2c9cCAAAAAABcGIS9AIDzygws/9vf/la/+tWvqk1mXFxT7doUJsw13TWbbqBNsOpnum824/Ca4NTj8diwdujQoTaUzc/PtxW81113nX1teHi4evTooT/84Q9as2ZN5fTAAw/Y9bWpb3uBzOtMJa8Zh3f16tXVtm9eb4JoU7n74Ycf2mrefv362QpjUxG8detWGxQ3tWvrb4LpdtZ0K+y/BuaxpKxMO/72ie0e2XRPe/LLL221nnkMZMbabUog2hDTRfPWXR/Z7m9/dPMgW1U3aXCmunSMVO6eIrveBEgmJDXBWu/4rtrp7KdZ7n9vt+hOdpxPs/6Gq3voJ8OG2BCoISYANN1StwrxhXZDUq+Vp22ou7ZhGz/YaSuBx363n25PT7OfbSpf39+7z3YPO7Jfuu66sb/dlx9mDtSw61Ldd7Ysn33urWwLpntkE8xGhrW38/Xp2bWL2rdra4N4w1RGm3ZUk78LZ9Pm/vxubmUl6FsFO21bM105mzbp/eILdbw8zJ5LEygfKf/MBn894mLtfLxznZsiLqqjDarN9gan9LHjJm/a+aHtTtl8IcG0NdNN8OwJd9uxWwOZ8NDfvXltlccmGDTB8R19r7fX3VQ09+3xbe0/csyOMx2szBcuTKW3qeqfmHmTu7R5me8VfOuKThp3043640P/aK+PGfd64frsBu/pmu0kM/k7uqxdO1tRbQJjc7+Z8ZwbYr7cYK6/Gat8wqAMu90DzvRVM1eAAwAAAAAANAZhLwDgvDJj0Jrxb5csWVJtmjt3rg1dm8JUCd97773KysrS4sWLbVfIJjj9+c9/bsfxNSGrn+lm2VTrLl261Aaq/hDVBKwmkDUBdEVFhe322Yzj21AX0XVtL1Dbtm01cuRIW9n72muv2W2b7ZqKXX8YZip3TbCbk5Njq3xNda8Jsc34vuZ81ByPuCUy3STfMfsJffvH/6irpj5oH0fOmVvZjXKgZ9e8oT+9tbkyoPuf1a/bsVub07yXXrWVut+/LkVrHv25fdzy4W49vWqN+wpp2+5CnXauQds2ofprwYfu0qr3mrF8//rrx7T4Z/fbbodNd88NWZP7nj45elT3fC9Db/37o3Ys4CPHG981uRnHdunGzbai87+n/Mh+tumu2IT+Wc6+m0rSX/3w7+z4xT8fc6e+l1zVtXhLMuO553X/b5+z1Znm+kZHdHDX1M+OoxoTrceXvmDfO+mp39oxkGvyd+FcfPhTO06zX17Rxzr62Wfq/a2uNlw24XlkWJg9l0//+D57XU3lZUrilbbr6PrGBK7JjAf8+Rdf2O2Y7ZmgcNGGt/R6br794sCmnbvUybluJtQ0gbAJGAOtzdtuH/9l9Ag9e/+Pde2VCXbe7/82btLzzvXvEhVpu/79lzEjbJictXpNrfdRsBjUJ8nePyYEH3fTd+2yp358r23DDU3m3m1Ml9zt27XTP90xzFaLf6fbt+x1n7Xo/+y1Nuq7p825zQ5oJ/84/PuVXwRZ/i8/08/HjrRjNdfVHfvHJYdtmzPh/pQhmYqJ7GC/oLHnmd9owqAbVbDvEy17a4v7agAAAAAAgAsj5Iz/r88AgEuS+TUQ2GVxc3n88cf1i1/8wj43AWuHDtUDoPLyclspazz22GN65JFH7POGmG6Yly1bpkcffdQGvcYPf/hDzZ49W/Hx8XbeMMf1n//5n5o+fbodR3fw4MHuGmnnzp166KGH9Oqrr9p50yWzCX+7deumn/70p7Z6uOb+1LU9My7v+PHjdc8999hHE/CasHfWrFl2/0wl8X333ac5c+YoLCxMn376qX2tCY7nz5+viIgIG1xPmDBBCxcutMfSnLqOGKuQNm3UyplCWjtTq9bOY2upVSvfdW9lrn2I73kztIP+vXpq3n33aM/BQ7rnP552l14YptLOVHDu/Nv+yuCnscx7k+K/Zbug3rxzl7u0YSYEzEjqrbITJ5r0vkD+bZgxR/+yvWrsaMOMBWzWm3GHTfVgczGB+J/fzXPnmo8J637z4/sU3ynKXVI/E5o2Zzsx1/HKztH2Wvi7BDZt0jiX62O21zOui3IKi846/+ZY46KitLFgR63dD5sA0QTNJpSu69o1R/v5Opq7Hfx0xDD9eOhghbZpbe/Bob/8N/3+n37iHGMv9xV1M+fon+YvbLauyuu7p2u2E3Mtu0Vf0aj7rOZ19X/OxyUltrIYAAAAqM9Hv/3v8/I3GABA8DJ/Jzfy8pr+N5qUlBT7SNgLAJe4CxH2NqQpYa+fCVXLyspst82me+SmMsft/0VqgujmPgcmlDbj+57r/jWX8xH2moDqPyZN1A09r7JdGJuuS7fu2qOfLlio5CsTvrGwF413vsJe49c/Gq8Rfa+3gV99TFfIz6x5w1YD45vR3O3AdJk84obr1db5eVPo/Azg2gIAAADVEfYCAGoi7AUAfG3BGvaicc5H2GsqJU33tbGREe4S6VBpmab/7nn7nLC35TufYS+CB+0AAAAAuLAIewEANTVH2MuYvQCA88KMaTtkyJBGTWlpae67EMzMuJiLfna/OkdG1DnmJQAAAAAAAACg+VDZCwCXuPNV2YuW4UJW9j73xgZd3TVOR44f13PrNjQ49iW+OVR0wqAdAAAAABcWlb0AgJqo7AUAABecCXGPlB+3XxQwzKOZX5e3XTN+97x+tewlgl4AAAAAAAAAuACo7AWASxyVvRe381HZi+BHRScM2gEAAABwYVHZCwCoicpeAAAAAAAAAAAAALhEEfYCAHCRq/adYb5ADAAAAAAAAAAXDcJeAAAAAAAAAAAAAAhChL0AAFzU/KW8tZT0Mk4QAAAAAAAAAAQ1wl4AAC5ivjzXDXUJdwEAAAAAAADgokLYCwDAxa5axuvMmP9VLgtxnhMCAwAAAAAAAEAwIuwFAOBiZoJc/2TnfQ8AAAAAAAAAgOBH2AsAwMXMhrwm7PXN+pD4AgAAAAAAAMDFgLAXAICLmOmi2U7mH3/waxH4Xsp27z/oPsOljHYAAAAAAAAQ/Ah7AQC4mIU4v+pNyOtO1fJeXLI+OkDIB9oBAAAAAADAxYCwFwCAi1hIqxDnt31V2FuZ9trnvtdYdjkAAAAAAAAAIJgQ9gIAcDFr1VohIa3s5Et33epei4AXAAAAAAAAAIIZYS8AABcxO15vK+fXfSt3zF6b71aFvL5xfAEAAAAAAAAAwSjkjMN9DgC4BJlfAwR+AAAAAAAA5xd/gwEA1FReXm4f8/Ly7GNTpKSk2EcqewEAAAAAAAAAAAAgCBH2AgAAAAAAAAAAAEAQIuwFAAAAAAAAAAAAgCBE2AsAAAAAAAAAAAAAQYiwFwAAAAAAAAAAAACCEGEvAAAAAAAAAAAAAAQhwl4AAAAAAAAAAAAACEKEvQAAAAAAAAAAAAAQhAh7AQAAAAAAAAAAACAIEfYCAAAAAAAAAAAAQBAi7AUAAAAAAAAAAACAIETYCwAAAAAAAAAAAABBiLAXAAAAAAAAAAAAAIIQYS8AAAAAAAAAAAAABCHCXgAAAAAAAAAAAAAIQoS9AAAAAAAAAAAAABCECHsBAAAAAAAAAAAAIAgR9gIAAAAAAAAAAABAECLsBQAAAAAAAAAAAIAgRNgLAAAAAAAAAAAAAEGIsBcAAAAAAAAAAAAAghBhLwAAAAAAAAAAAAAEIcJeAAAAAAAAAAAAAAhChL0AAAAAAAAAAAAAEIQIewEAAAAAAAAAAAAgCBH2AgAAAAAAAAAAAEAQIuwFAAAAAAAAAAAAgCBE2AsAQKN5VbI9W9kb81Vc4S4CAAAAAAAAAOAbQtgLAEBjePOVNWKQHlq+XdvzNmr+S/nuCgAAAAAAAAAAvhmEvQAAn7JtWvRUlha9U+YuqNuu17KU9dRaFbvzLZY9pubZz7INi/TU9U/ot49O07QHpunx8cnumovIl16Ved3nNex6Zqiiej2stQ03DwAAAAAAAADABULYCwDwqSjW2o3ZWrkwW/Xnedu08j+Wadkv81XiLmmxzDE1034W73hFA5N7yePOX5TemacHV9V+tjr3HqLhg5OVEOEuAAAAAAAAAAB84wh7AQBVUsdq7GdrlX3Ena+Fd+Prev3OsRruzl8qTn5Zoqu7xrhzF6eST3a5z84WkTFdC5+aoJ7uPAAAAAAAAADgm0fYCwCosktKuL1MyzfUVQvr1dYN+bpnaF93HgAAAAAAAAAAfFNa/6vDfQ4AuESFhIRIxwv00npp7NRkbf11gZLGJivSXV/Ju0nzs2J1599foYJfFyvhnweoq7uqmpJ8rXxpuZavWKmN7xeqpPW3lBQX5q4M5FVJboEqOnZWmEq07cU/6v9b+qIK23xHaQkBry/ZpuWLX9IfX1mpHe/vV1l0gq7q2IgOlc0x/U+Z+tbYT+/+fBUcj1Dn8DbVt737qELik9Q1cFeP7FL2ux+o4O3/0y71V9hnxSree1KRCZ2qdelcsn2lXvzTci1bvdHZTsnZ26lUpl0b96qNeX9ZsdauyNLvV2xURexAXR1dc9+yteh3851t7lDh0RB9q2dXhfm/pmX3+/fOfm901l1WfV01zjne/mdn39Zp5WpzPfbrZM3z5x7jntwN2nwkRnE65Byjc5zOdjt3CZOzJ77XfHi6ar6Gczp+53nxuuVavHSZVr61Q/tPdlZC98iLu6tsAAAAAMAlzf4NBgAA18mTJ+3jwYMH7WNTxMbG2kcqewEA1XUaqMGdV2pjoTsfwLtlrXaNzlCCO382r3YtflCpE+brUOfBmvKzGZpya095X5yqfvfOV36F+7JK5cr+zTxl78/X/CkP6BVvgu4YfocGJlV1l1z82sMaOeUVedNu1wxne2Nv7axdjw/V3f+b73xaI/TxqJ371K988zzN23xIxa8+rLv/eava9TfbnqyMTh9qzrCpWr7XfWFjVOzSogdSdc8zh9T51inOdqZocG+vXpnSTxOfqW0fd2nliJXatX+tHp7yC+2KGOIc8xAld/Ot9e3bXnse7/7vvep26wOaMamvPDlzNPSBlXb84eJXH9HUf3tPEd9zPm/SEHfdchX7NlHJW7hSj4wYpIdeO6nOg27X/c75m9Bfyv7pUD28rkxn3Nc1StFKjfxNtnPFajiX4x/pHH9ZvrLunar5h7pp8KQZemBMH3lfHqm7ntzWuOsKAAAAAAAAAFDIGYf7HABwCTK/Buy3Svcv18SZ0pPPjVG71x7WxJJpevGHCar6vmmZ1s6YqkM/WaoJ3bdpXlS2Bh6drnR3reHd8IhS/i1Sz7/oLK9R1Vm8dKpGbhiuNf87XFVRbomW3ztVr1/eR0Meelxj3MDTz/vOPP1gQYL++3/H1AiYi7X8H/7R2ZeXNK2Pu6g2AccUONpuyYqJuuu3XiVPfFxPjO9ZrZK07NUHdUPuGOU9MrDa8m1PRin7e0c1/Xp3geVV9i9TNOfy5/XSQ+m6zF1qfens4wMj9fqta/TMiMBPN+fuaX34D8ma8vOzz5Nv36SMBx/T47cHHrU5V3dpa+dkedOn6zejA9eVaeUDNyj/rjzNzAis2C1WcZsEJUS4837mvPzdIf1swzRdG/CFYvPZD+lJLRxdy9jEzrWIykrQzmrnsur4X3aOv1pFbn3H32mWNo4aqJ/9+0wN7OQutvKVddMcRTxn2pi7CAAAAACAi0Tl32AAAHCVl/vKa/Ly8uxjU6SkpNhHKnsBAGeJGHS70he9qu2BXwc6kq2VR8ZqSJ0hXL4W/HKjHph3doBpJNw9U9OPzNOy7e6CStkqS598VtBrA90n8jXhkZpBr5GgMZMyNP+1be5800X+4HH9pkbQa0QkD9QNuXt1yJ2v1/YF+sWGB/RkzaDXaOPs40PTVfYfy5wzU9Pb6jx4Wq3nyYj8wcwaQa8Ro/RbEzQ/4p4aQa8RoeQbb9Da93e5865OtQS9Rly6hids1e69X/P7XgHHX/M81n/812raf9UMeo1k9b11rT7cS20vAAAAAAAAADQGYS8A4GyevsrIeEUb368KA8s2r5VGD65WIVtNYb7Wdpqs2+ustE1QxugEPbWuZvQ3XGMHnR3nqnCjlocN18A4d76muAQlFxTbbo3PRUTEWSMS+8TEqNuGQ43abnHuWkVOul3J7vxZumdobMJTWpvrzle6R3cMOiserVTXvl1mBsutbcBch1mX/5lvfIfG8Gqlig+7M+fo3I+/syLrCLpjug7U3iNndRYNAAAAAAAAAKgFYS8AoBYeDfz+EK3c4C/DLdHaFR4Nz6itTNRVUqzs9KvrGc9XSrgqWSX5u84OUmsLMM32Ikq1c2O2smub9pQqYnOxmj5sfQM8l6mOGPgsJZ9kK71nvUeshD4lyi+secR1B73nhdfZh1cX6ZEHRmrkCGd6YJ6yzQC/X7Ow99yPv26XhdXTxgAAAAAAAAAA1RD2AgBqd/1gDX91rWxHyfuztbLb7ao36z1UXGfV6bmw26tXT41ZNMb59zelRAf3Sp5mPObmV6ZtT03U0H94XrtiMzTjyZf00svO9NQsX3fcTR0mqGdCtfGWW/7xAwAAAAAAAMDFjbAXAFCHZGWMXKvsd6SSza+r5y19661Hjel6tXSoVGXufK2+9EqdItTOna2P3V5ET/XNGKiBdU3XJ1zoGtkAMYrt7hzyp/UesXPMUuewxhxxc/Mq/z/v0tNhM/Xyc9M1xjlXEV/3ZFULdlv68QMAAAAAAADAxY+wFwBQp+ShE5T/50V6fV2CMtIbSAp7JGvyq1v1ntedr0X+trUanNpTjeqo12xv6Tb5O5JuiXr2maxXtr2nug85X1tfG6zknt9A18TerVr2eF9NGtfzvAXiLfr4AQAAAAAAAOASQNgLAKhb9wwN3v6gZncfooENJYYRGbr97ue14OU6ul8+slaLFvbV5FvrG+M1gNne+Gf19NKGunP+5kRk3K6xixfo1b3ughrKXluk+emTNdx0mXyhlZfpkCJ1Wa3XrVSldRTkllV87j5rWIs+fgAAAAAAAAC4BBD2AgDqkaAJzxXp7QfS3fn6eDTwwafU+cmpmrOuxF3mKstX1gMPq/T/TdPgTu6yBjnb+9nzSl5Qy/Yc3v352nXEnfmmhA3UjKc7a87kOXr9kLvMVZabpamzSjXzwcGNq2RubjHJGnjLSr2+sUaqW7JWc8bN1cZaxtqN6dlXpa9uVKPj9YDjX1vzkn/Txw8AAAAAAAAAlwDCXgBA/cIiGj/Wa6fBemLNbEUuvUP9hjyoR57K0iMPDFXqzfOkBzfomdGNrOr1C0vX9GVP6eq/TFXqd+/Ww7/KUtavHtbEIUM18be7aowh+82IuOUJbXgsUitG99PQBx5R1lOP6MEhqRr0G2nGmmc0ppv7wgsuQRPmzpR37iD1m2L2a44eHjdSd2eVaez/PqP7a8vv+0zSk/2Xa+R3R2rkKGcaMUfZFe66OviPf9mdLe34AQAAAAAAAODiF3LG4T4HAFyCzK+BkJAQd64ZVZSp7EvzpJ0iGp0W18PrbO+k+7xdEwLoC8hbVia7i22c/Quzi1qEyv1q7Hmz167p162lHj8AAAAAAC3BefsbDAAgaJWXl9vHvLw8+9gUKSkp9pGwFwAucfyHBgAAAAAAwPnH32AAADU1R9hLN84AAAAAAAAAAAAAEIQIewEAAAAAAAAAAAAgCBH2AgAAAAAAAAAAAEAQIuwFAAAAAAAAAAAAgCBE2AsAAAAAAAAAAAAAQYiwFwAAAAAAAAAAAACCEGEvAAAAAAAAAAAAAAQhwl4AAAAAAAAAAAAACEKEvQAAAAAAAAAAAAAQhAh7AQAAAAAAAAAAACAIEfYCAAAAAAAAAAAAQBAi7AUAAAAAAAAAAACAIETYCwAAAAAAAAAAAABBiLAXAAAAAAAAAAAAAIIQYS8AAAAAAAAAAAAABCHCXgAAAAAAAAAAAAAIQoS9AAAAAAAAAAAAABCECHsBAAAAAAAAAAAAIAgR9gIAAAAAAAAAAABAEAo543CfAwAuQebXQE5OjjsHAAAAAACA8yEtLU0hISHuHAAAUnl5uX3My8uzj02RkpJiHwl7AeASZ34N8B8aAAAAAAAA5xd/gwEA1NQcYS/dOAMAAAAAAAAAAABAECLsBQAAAAAAAAAAAIAgRNgLAAAAAAAAAAAAAEGIsBcAAAAAAAAAAAAAghBhLwAAAAAAAAAAAAAEIcJeAAAAAAAAAAAAAAhChL0AAAAAAAAAAAAAEIQIewEAAAAAAAAAAAAgCBH2AgAAAAAAAAAAAEAQIuwFAAAAAAAAAAAAgCBE2AsAAAAAAAAAAAAAQYiwFwAAAAAAAAAAAACCEGEvAAAAAAAAAAAAAAQhwl4AAAAAAAAAAAAACEKEvQAAAAAAAAAAAAAQhAh7AQAAAAAAAAAAACAIEfYCAFRW5nWfBfCW+ZZ785V170Rl5dbymmay7ckoRd27XCV2rkQrH7pTD7/qm2sezjZnjGzmbQIAAAAAAAAA8M0i7AUA6IbEH2v5fnfG8ir7V4nq90y+dLLUmbuQPtfJk+7Tc7V/uSZGzdM2d7ZZtgkAAAAAAAAAQAtD2AsA0JSYldqaX+bOObxbtfapGE24oY8UMVDTn1uoaaked+X5lqAxv3lRT9we486fA69XAUfjcLb51Etfb5sAAAAAAAAAALQwhL0AAKWPj9H8ze9VVfC+v03LYu7RjemXSSVr9ciokZqf6647sk1ZU/qpV1SUen33bj3ycrF9X/4zIzXSVAK7Sl77hUaOmi//kpKN8/XwXamKct4Xdf1Ezd9eV71wvuaPvlOPvObrctlu1/n8qukRrTWrSrI1f8bdSjXbi0rVROez7RZz52vk389TthZplnn9zLUqMdt0nvu3aZRtydLU7/Zy3ttL/aZkadsRd4XDfObEP2zTrhWPaGQvZ/u9nPeuowtoAAAAAAAAAEDLQtgLAFDfjLHS0m3a7s7nb16pkrsz1NcU835Zpr0bslV22rdu2+/u0VNxj+vto0eV98pM3ZHUWeZlJ8uylV0W0FdyxV5lbyiTb4lXB/dKg+esUVHRTq2Z5NXD9y+oDIKrO6ky5/P2Vvjmkscv1MLnzPSYbvdkqzT9DmXEOFv8xNngrY9rTVGRdr4+Wd5/eVALzAH0maCFD49xnozRDPO+hzMUU2Ob3tx5umvYK0p41OzPGj3e7RUN/bt5eu9z33pzLCv/aaqe9o7VM2/naundpcp6fFkd+wsAAAAAAAAAwDeDsBcAIE+/wZpWslJbbdqbr43L8zXte33lCXFmo2LUzSwOULK3WMVHnPd1SlZ6j8Z07+xR8vjJGtwjRu2cf2J6OO/bvlW7qo0T7BejzoPcp0ZYhCIiInRyw9Oa++lMPflgug2XPakTNPmWnoppJ7WL6ankfvnauqtEZ9p4FBFpX6FI530REeZ54DbLtHHxHG17YKam35LgrE/Q4Idmato7c7R8i5v2GiNmatb4ZMWY9cOHS9sPqvTCDl4MAAAAAAAAAEC9CHsBAJLnWg28L19rc4ulQudx+2QNTPXIZL3yXKZI+yKf9J+8ome6rdXEHlFKvbd698f18XWbnKpB/zBHizYXuxW/tblMngj3qd/e5Zr1z8Wa8m/TlB7mLnO7k069earmLN6qYrdqt3aB2zypMmefhyf3sqGx5UnQ1bc6H3O03F1Qm70qOeo+BQAAAAAAAACgBSDsBQA4ItR30ARl/2WbtuWuVfZ9g9W3ZuDqF9ZTYx5dqtz9O/VEd9P98XztclfpS/expsJFmjosW31/n6stS57QzElDlOCualixlv9qloonzda06/3xbLEW/cNQZff/g3L/ulRP/L8pGtLdXdUI7ZzNvF1Y7M4ZJSp+Tercvp07DwAAAAAAAABAy0fYCwCwItIGavjLyzR36UpNvqWvas96vcpfl60SE+p6YpTR/1ppb5mzVIrpPFB67XVtMxW2R7L1/PNvmzf4lB3Se+qsznajZdq17nUFrFW7y5Ol01JAJ8qVilfM0aycsZoxvqdOlpWpzJm8zjYO5UudO/lqjst2vK7XN9unPq1Nx81b9WGhO19NjAaOmCwteFbL9/qWFC99Vs/HTNYt6XUl3AAAAAAAAAAAtDyEvQAAn7iBGj5irdaum6CMOkPPkyrNzdLQmF7q991Uxd2/S9OfnaxkZ03CLZM0oWKehsZHqdd9a9Vn8v12uZU6Rk+O36iJvaIU1Wuing/rqzvcVUbPfsOV/upUzXm5xF3it03LpyxXye4s3f2dRCUmmulBvbo/WWN+PUEb7+2lqKhemrjIo74j3bcYzufNvvs9PXi983k3ZSnfXewXcetj+tPPTmpOirM+KkqpT57UjGWPacgVtuNqAAAAAAAAAACCQsgZh/scAHAJMr8GQkKaGHJ+6VVZxUm1i4ioGvfWcpaXSRER1Zf6ec3KMOc9bdwFgSrK5G1Xx7q6eMtUdjpCEf5xfGuwn3fWPgawx1H3/gIAAAAAADSXc/obDADgolZeXm4f8/Ly7GNTpKSk2EcqewEATdfGo4haQ1SzvO7g1GPeU1eYW1cIXB9P3UGvYT/PfV4rexwEvQAAAAAAAACA4ETYCwAAAAAAAAAAAABBiLAXAAAAAAAAAAAAAIIQYS8AAAAAAAAAAAAABCHCXgAAAAAAAAAAAAAIQoS9AAAAAAAAAAAAABCECHsBAAAAAAAAAAAAIAgR9gIAAAAAAAAAAABAECLsBQAAAAAAAAAAAIAgFHLG4T4HAFyCzK+BkJAQPbuzSI/m7NAnFV53DRA8uoZ59Mu03prSK9FdcjbaOHDxacy9DwAAALQU/r/BAADgV15ebh/z8vLsY1OkpKTYRyp7AQA2BJvx9vuEYAhapu2aNmzacm3M8odo48BFp6F7HwAAAAAA4GJH2AsAsNWO5V+ccueA4GTasGnLtTHLy2jjwEWpvnsfAAAAAADgYkfYCwCg2hEXjbraMm0cuLhxjwMAAAAAgEsVYS8AAAAAAAAAAAAABCHCXgAAAAAAAAAAAAAIQoS9AAAAAAAAAAAAABCECHsBAAAAAAAAAAAAIAgR9gIAgJajWy/NH5Suxf7phu5KdFcBuJiFadoNAff+oDTN7OauAgAAAAAAQJ0IewEAQIsx7urumtQjXuP8U/JVmumuA3Axc+79awLu/R5XakafHu46AAAAAAAA1CXkjMN9DgC4BJlfA63mv+jONSRSw3qES6X7tPqwu8gyy9vLe2i/Um8Yqhnt92vCy9v1hru2OU2/bbjmtv9EIctypK59tOmmOB3Yvkajt7svON8a/MweemNiH3X5+AUlvekuaozoWI2LbKWDzjlcX+4uq1MPrRqXpLSjBYp7bbfO7Re571pGunM67dXmwsMqcmebW2LyAL2RGq0uIe6CWpQeLFCX1/Zr7shbND26tbv0uBY8u1aT3bnGODNllPusSsizL7jPzk1qt3j1dvZlyd5Sd4mPWZ745VElXnOjbffjnXa/3l3XnKq1e+f6r/hBD6eNbdOALdVuxPOo4c/072MrZx/rbZO2rYe6M36nG9f2u6Yp55auUuEWpW28UMd+YSTGxal/mL/dO/fDWT9ng1Wsnh6ZrknOz7c6nTmuxevWa7Knnw5kxjnv8Cndv10dV+125xpW270PAAAAtCTmbzAhIfX8hzEA4JJTXu77g1heXp59bIqUlBT7SGUvAKAJwjWtb7oWpMW78660FK0Y2Ev2z+ytW8vTumaQc76EyhPqfJ47d2HU+Mw+GTo2MUPT3dlzltRHiwddp5kJ7ny9zDl2n56z7noysLvkmzNUOGmECm4+P90mz7w6Volt69vpr3Ts8+MadtMATasMeluO3r2d65ORpHHuvE8vZWWma9aVztML2u4lTyvn8y7cx1nVPzNNBVMGa7471yS2rQe0PTv52n6Df/JoH3DvXWRGpV5X7ZysGjlKZ8YP0txg78q4Tw+Nj3Z+btZ3W586pR1f9NAbA6qCXgAAAAAAADQOYS8AoAn26YUjXsV27KpMd4kxvUu4POWlmlcuzXtttTq+kHNeqnrP8kmO0hau1m0XqqrX+CY+8yw7dfPzL6vLOVf1VjGVc6bqNeTZ9ZpV8pV6dz+f3SYf1+Lfv6z2znTZWdN6zQ7poxU9nbbkvLJ0f4Fm7T/le1sLsKSoVAfbh2t0V3eB0SdavUOPK+f9isp2fz6qes+2W7ctWXmBK1ub+zNPaf0W0+7800rd7NxTDbbn3duUtPBCH/uFZCrZfeek+/p9KvJEadJ3urvrgpup3K/93nemtYc17NY+yjQ3/2nnHGz6WDtOO8/PmH8BAAAAAACgPoS9AIAmWfDJcZWGh2tcB3eBrlRmZKh2lHxouwCeNnSoPh+Z4lbome47h9uuNc9MGqEDI9M0KeA1la4ZoMIfZeppdzb1mjRt+sFwfT7Jfd9tSdXC5SopyvnRUK26xjzvrlU/GKHPfxQw/aCf/Tx166M3nO3Z/bhvuHIG1Kwdi9L8MSNUeLO/Yjlai535A7dWjRc5d8RwFQ42JZwBn/ndTH2eHq3IttGabT4v4Jg8bZ3X3TPC95njMzQ7MCRshKdHVt+ePWeV58jsg7O/Q7u75zlM0wYN1jFzvsznmf1Lizp7eb1VgqVacvwL57GVLvNfW3ve3GNwrkPhbX00zCzv1U97nM8vyHTPY58BOvCj4dp0g/nMcxGmcYMGaEEPf9C7XWmrdmrOqpUKaWIXzufNrsMq+CJMvb8d5i6QJnUNV2TpEc0pr9mma2/3Ndu5v83mfNc3V1u7v9m3qobA99XT7p39mHvbUN/1d7Z3zNk/e/0CzBw2TMdG9HHnnPnbhunzUWnOVn3G3ewc1whzXAGfaY7jvivVW+Eabz9vgKbZVztatdVTzrH7jmGY3rgu2l3RWKZtO/fo4HQV3ONsw7bnwVqR5J53ew6rzpk6dHfuVfdcO5P/HPjW+47f7otZN7afprlt216vu/tpbsD9Yc5D1c+ZGu/9QUbVvWP3YahWDDCP7vq70zWpm7nnffPmnp9e+TOyKfdhlaI9pSr60nkS4iuJ9e/z0+bR7O8wc5VqbPuewVrsnitzbT8fN6Cy1wF7bZ398n+Zw15bd/2wGzIqj8X8jCy4yfysM84+h/e7x2V+Rh0bkVbZ1gsyfMubLLqX3rjV+RnvD3rXOff8BzlK+t0L6ri60PcaAAAAAAAA1ImwFwDQNNsPKueLcKUlufM94pTW/rg25VbYWU+btvKEur9eMvpoWkSpZix9QSHLNmluYamtfKz2GqNVa3UM6Bq5Y7hHx/Zu14AFL6j7hkP6PK6HZqe5K6tp5WzH2Zbd1CHN25qjSX91pi37VOQsKzrwsRaYMXRv6qG047uVZqrl3jyoyF5pWlGV4zqOav3xU7oyKtrXhXGHeKV2kCI7Rbvd9iZpQMdWOnj0Y+d5wGfuKtCkYue4vziqLPO5OWa9T2JclHLeflMhLxVoc5toTfpOja6vG2C7ig44R75z5j9HZh+cc9bGFwJlZgzQXDNm8sFC3b9hm2btOaT1Hx11l3u0Y0eObl6VoyVfRGj6DWnVgnNP+2hft7E3D9Ib3cPkPXZYC+wwEb7zlhlapqxN23T/jjJ1dK7D4mHOidu5Rf9jqoCv7KP5XaM1v1esYis+0ay3j9ptNk1tQe/u8zZ28LnbrdWfnlLvTv4YNF6jOjnn1v2SQ2Pafc12brvjbudMbXxztbX7x2tt94Hvq6vdS9OHpWt61AnNfcXsR45Wt0vQgsHV2+Gco15FRka6gaBzvaNCnfYfqZ/Y+WiNjg7Tgc8+cZ4HfOa+3ZrxwVGVqkKrzedudc6Nfb2jQ7QGHDHHYCrFWyuzV48aXV/7tVKXrlVdFj+d7A+FTdsOVWp8lIp25mn8pkJtPh2uUanX+gJs/zl0z9mkAb00roNXC9b4KmEPOLfEjt3vadYu9/g7S6u3bdTNa3ZqkydOszN8N769Xh3iNK3zcc3NzlPW4VOKjInXdPfngn1vXFvl7vDtQ25otKbf5HbXbvchTKN6hSs3z7k39lQ424rX/FvidGxPnu7/oFSlzn01Ld13TI25D6uEKsnfjfOYXsps49Wmvb4xa+0+Xx6nSVec0uJteZrxfmHlvX9sb4HGbyjQC1+017h+A5z70ndtPWHhGmC/aOJc2ys88ngildnHdJcdptuuCJMqSjXPWTe9V7S6lJqfket1W84nWu/8HDBqO4eP+8+hcx0ir4jX+HZHNGdTjmafSy5bW9C717cKAAAAAAAAjVP1V2QAABplt9YfPa3enX1p77jukYotL9US3zjy1Z06LbVurwHxkVL5Yc3LL2xUiLd+yybdtulj5XaIVmqrCh38orUiw92VdarQ+sJ9WrL7qJKujlfi8X2a8eZB6bquGtD6qLJW7VSu86qiPdu0/rhHveN87/Jbsv+4SjtE+ioUkyKVWHpYm9q43fb2cOZbH9emd83KAIcPasmXXzlPTuvgbuez95b6ljt2fLxek3c584d3asWnpxQb5pyDZuNVaWUPx/Ga3i1cnuOHNH5VnrKc/ZizMU/zyn3LVbJHA5xzuX7/xxpfWCZvZKdq4ZvHOcejrozTqPgIJYaYLbdWb1O51y9emZ7T2lywQfd/sE9ZmzYoq+S0ImO6arazet5bO7X+dLjG35im0ZEVeuHtc+nCuGbQW6AZx2K1IrNaEt9izDtwXN4Onezxq0e80tpXKPcj35ccqmkJ7V5JGhXTyrl+GzXH5Hbl+zT+4AnFRtaotC0o1Y624bKnvEe0kr46rPWfh2vAdWZlrBLDvNqxt0aXyc4xvXDCdK/7lY6Zdl94uOr4Sj/RdRudY1Cp5hSXqtTjUa15tWlncU67M23PmYZ1qX6gpYcKddu2Qi35IE/j9znnuL3Tbk01/dFTOuZ7idU/3Gk5x4/YgLBoT4E2f9ZaiZGhWn24j8Z3CVVRcY5G5zvHtLdAc/ZXKDIqtqoK2XQrvnSL5uwu1P17nH1VqDraqlXfe7323vHtw4CCo/J6ojTanhefHXvWaHSec2+sP6wdznzpod262Xl91qZ9yvlC6ugx93z99+HZYxR7lOqek8wOoc6PltPytA/oiaCVV6s3Oj9b8gq1YG/VvT957U6nDezU6LcOqai1cz17Ode54LhzXcLU23w/wVzbNqXKLQtVUpwJ/Lur9+XOOTtaYDdreDxhyow7pdV5Obo/37Tr2s9hROA5NAHtnzdp1gcfa4n5TkBT1Ah6l7y1Tx3TMjS3ib0gAAAAAAAAXOoIewEATTZnf5nUMUazTeVfR4+KDn9ce9C3JUf3F36lzH6ZtnvRVTfU7D65dolX+bpd/vzOdM2+JlqxZycidUrsd4OmdzqhxZtyfNWGl4fKExql6W73rmYaH3ZaXtM9aqDtR7TjdJhSk6XZncNVdOQ95ZpQ+NthyuwWbgPtLPel56R1qPukOZzS55WDm3pslWPp8SM1roFvuSeml69rVjOlRQVUlfqYcTT942aGrN2nYxHxmtU/XmpnqoZPqCAg4F5R5pVCQ2WuYkj5bs3b75WnQ5g8h/dr9DlU4w27qXrQm7kqVNN6Ryu1U4MJ5zcjp0S5ilDmdXLbxFEtqC3gagnt3jmrkaGt1f/aqnb/eWJ7eU+ZLycEKN+nHaadd/W1c0/pYS0uPaVesT2k6zqp95fHtd5XWNp0po22aq3av+ZwSuu3VY3Z2n1N3WWhRUdPyH6Nwvy/1k++kNMKKy05UmGriRf3jFTqNdcqs8Np597d76xx7nvn9YndMyrbv6lcN9uoeQ9Ucfb1cvPoe29RaVUQqr0VOlC5vikadx9W8Y1rbc/L79ZoxuG2yvxOkua6a815O1Z5r9Vy739SqoOn3KC5/KB2nHDOQVSSEuPCfD/DjnsVGxmrxORIJbaq0A572ndr8janHYTG+bpsruyyuvZzGBJ4Ds+c0oHavujTkA49qge9b27SqsTuGhXtXMdz7Q0eAAAAAADgEtXKfQQAoPHeNaFXuPonx6t3WIU2f1ij8q9SqbI2rFXHBes1ec8pDUhO06oGizbj9VS/Hko8kqekhauV9NI+FVUGmw3o0EfLk8JVtDtPk/0h3MnT0heHNcsfoLhT2l/d9ZUKtKk8VEld+qh/pFc7PqpQ1pETSuzUXcMiwlR01NkP95UXTKvWvm6l6+Uc31dSZPvwGq/1LfeW7FTIsy8ETPWMgbvXN0ZoZNsw+14T6SRWDeeqzLC2zvLTNng745zr2fEeFZV75ekUp8WNGIO0umiNim5vQyNf0Gsqr33hUstVoPXHpN6xPTQuymkTdX3JoUa779/Idv/012j3K2q2e52S96tTWv9O9XZ/2Ut57nq/w1pxzKvEKHNMHu04uNtWuSsyWjOvaO8cyhHNc1/5TUmMaq9Ipz17A1Nel+muvOh0Ww3rf5M2XR+pA7u3a/SWqmrrosKN1dv/wo2NPp4ulwdctC4edXQevCd9s41X/31Y/yWu0LzPnINuFaouMe6iamq59zuEKzbU+bwvzcnap/Wlp+S5PFKzO4XrYPlhLTA9GFwerp87917kieNa4baXooJtSnr+BaW96XZZfWO/yh4Avs45rFNCrNICgt7xeyrUxe2WHgAAAAAAAE1D2AsAOAcm9GqlpKRo9a4oq7260ZGY1EPTbK+xpVrw/hEVnWotz2XSCxVfSGGRmmu7TI3V0z0iA6r/ItXFc1ql5UdtuJp4VaQS3fE56xet+UO6K6m0ULdtDAifCw4rt3WUJg2KrwxEEqOdbbrPA/25rEKxkXFK/NIXghR9dFwHwuM0KryWrmz9TJgcEqpYeyxNENNLb4wfpk394tW9Q7wWx7SXvqpQ7nbf6oNfONu9PEqzu0mpPdM1qXNdlcGFWlLidU5bVy12tpWoMGVel6K53XzLPTFX6Y009+xGX6lJV4X5nvu18Whcj3hn6q7Zt3bXgLantePwPum9g8o9HaoBvdI1zjm2xKt8+2DG9M1yPmP297or9eRBzVlaoNXeMI26IU3D3E02zmFNfj1Hc/Ly3KA3OMz6W5k8kd2V2cG5VnV8yaGudq9ir46pvdJu8F2DYQPildbWPnV8vXbfu2a7d9qFuUcHXO27flaHSDsWdU1LPj0hb1hnZZqxt00lt6lyDw3XpMhQ7TgUUN0ayHtaXtPtcZND/iqXtTftrmoaFtDDdGR4J985jO6l+fHO+TpRqhdqqTCe3idWiZ8fVObCl3XZwtVK2+DvMvtDrT5yWokJKVrstvnEOKf9N2p/fe+N7Hyl773m/rw6SpGnS7W+jtNRt0beh5VaqaP/nKSkKcd0AX3iuNaXuKurqbr359ttR2pmhnM+nCuTU+Tcw455B4/L276ThoWfUsF+Z5nbg8FtsWEqLT2sJeZFHXpo8eA+tp3k7tqtTcednz2tnWv7tc5hA7ZvVOamnZrjBr0AAAAAAAA4d4S9AIBzMuvQccWGm+rGPXVUN4ZpWJcrNfeOUb4uZMf0UO/PPtG8fKkoZ79yW0Vq+lhn+X3pGnDQN+alT6GWHDil1O/cYt+Xk+7RwYAsINcExZHx2nSDu8Dvml4a3bG1PJ16qNDfXeqUwZpfvl2j3zksT/d0Fd7n68624LY0Ta+lZ931e4/rYIcwdfSHIJ98oh1fhilR9XRlW7BP6087xzLG2fbd/TTKXdygkn1a/elppfZJ15670zUuUtrxUYFmuKtnFR7WQTOm7dBRyrkxSkX7q8YDrmnBmhxlHZb6O9sqnDJUb6TEKzMhvnJ55nWZvvMxMk1zrzbjdVaJjOmhxYPSnSlFMzu31g5/ZaQ9bwd1IDxei+8epcLMeCWeOKhZ67ZLyWn6SYxzLfa8pwX6WPdvPyyvc03m3tS47oorle/TrG2FQRP0Wu8e0Q6P0yYqypRV65cczm73SW67V3mBXnCuR2ryUKfdj9Di2KNaX3lZC7W4Odu9KvTwugKtbx2nxeY+s/tykxb0qaWPXHNMbZ1j8h53uyo3Ve7OfAevdtQVbu4u1KrSUI0a7Gx34qCAboYbK1T9k027q5rmJgWMYdsuWnNHmjabpMzQ41qwcZPT1s72wgEz1na8ciqP3Tnv92Tq6W4VmuEc/+oT7TUuc6hdXvj9azU9scZg3bWq8V5zf4Z7tfqdtzXjHLosbsx9WCVMo/zn5DrnnvMe1Lw6jt2ovu1MzXZuwdwPcnTbLvcF5tp+FarINv4vkhSo4LNQxbZ3fg4fcX+oRXqUaH4OOPf5mUlDNb3TKa0v2Om0ha9zDhuW+0GBZhH0AgAAAAAAfG0hZxzucwDAJcj8Gmg1/0V37nyI1DAzLmvFUb2wP/AP+77lKt2n1YfdRQES4+LUv80JLdl7dsiZ2i1W2nuwiSFhmDK7Ryn2y+O1bvPrMdsO17HCpu6TIzpW4yJb6eCh/VpfM0jqEK1RnVuraHcjt2u3Je2o+fr6PqNBvvMW6a15/Zpm/phRmmT6wW2M0o8VsizHnWk6E0rVZLqfvbDqavem/cart2pvh83f7t1thn11drtoBqnd4tSx9FzaVV3SVDDlSnXZv10dtx7XuPDT2lx4uI4u1KOddjVAoz//UON3VCjS9ALcNlaz+8Wr44E8dVztGwf46xy/fa/nVD370ARf6z5sQF33fhPUd56+Vhu6JkPHBkQ7d0RjnNL6LSt1s9vDQVPVdu8DAAAALYn5G0xISOXXXAEAUHm57w9FeXk1h19rWEpKin0k7AWAS9z5D3sBKTEpXYuTArvrrssp5RZs0/iCcw+WW0bYi3MTEPauqquc3q+H3pjYR0n7t2nAWt+Y2qlpGVp/XZSKtq9TWsDYvfgmxWrurUkadnnDY/J6PzuoWa9t12p3vqkIewEAANDSEfYCAGoi7AUAfG2EvbjYEPYGsxTl/ChBkQe2q/saX2VufYYNyNTi3uZLBKflPdNanpBT2rHnA91WOXYvLiWEvQAAAGjpCHsBADUR9gIAvjbCXlxsCHuBSxNhLwAAAFo6wl4AQE3NEfa2sv8GAAAAAAAAAAAAAAQVwl4AAAAAAAAAAAAACEKEvQAAAAAAAAAAAAAQhAh7AQAAAAAAAAAAACAIEfYCAAAAAAAAAAAAQBAi7AUAAAAAAAAAAACAIETYCwBQ1zCP+wwIbnW1Zdo4cHHjHgcAAAAAAJcqwl4AgH6Z1lsd2oa6c0BwMm3YtOXamOURtHHgolTfvQ8AAAAAAHCxI+wFAGhKr0TNveE7VEYhaJm2a9qwacu1McufpI0DF52G7n0AAAAAAICLXcgZh/scAHAJMr8GQkJC3DkAAAAAAACcD/wNBgBQU3l5uX3My8uzj02RkpJiH6nsBQAAAAAAAAAAAIAgRNgLAAAAAAAAAAAAAEGIsBcAAAAAAAAAAAAAghBhLwAAAAAAAAAAAAAEIcJeAAAAAAAAAAAAAAhChL0AAAAAAAAAAAAAEIQIewEAAAAAAAAAAAAgCBH2AgAAAAAAAAAAAEAQIuwFAAAAAAAAAAAAgCBE2AsAAAAAAAAAAAAAQYiwFwAAAAAAAAAAAACCEGEvAAAAAAAAAAAAAAQhwl4AAAAAAAAAAAAACEKEvQAAAAAAAAAAAAAQhAh7AQAAAAAAAAAAACDoSP8/mCd1Z93Yn/gAAAAASUVORK5CYII=)"
   ]
  },
  {
   "cell_type": "code",
   "execution_count": 16,
   "metadata": {
    "colab": {
     "base_uri": "https://localhost:8080/",
     "height": 84,
     "referenced_widgets": [
      "89a9105e430646ac8e8968635848d5c9",
      "7c43c7e8e30c44619966a4ec21ac94c5",
      "22391e58fc15472cb26305e75c2b277b"
     ]
    },
    "id": "f8FYt94Z75y3",
    "outputId": "9e39889b-4285-4839-aa52-d54661fc7bf9",
    "pycharm": {
     "name": "#%%\n"
    }
   },
   "outputs": [
    {
     "data": {
      "application/vnd.jupyter.widget-view+json": {
       "model_id": "dd43f5fbb7ed44ceaed68823a6092672",
       "version_major": 2,
       "version_minor": 0
      },
      "text/plain": [
       "Text(value='', description='Link to .hic:', placeholder='Enter link')"
      ]
     },
     "metadata": {},
     "output_type": "display_data"
    },
    {
     "name": "stdout",
     "output_type": "stream",
     "text": [
      "Link entered: https://data.4dnucleome.org/files-processed/4DNFI7RGXYFY/\n"
     ]
    }
   ],
   "source": [
    "import ipywidgets as widgets\n",
    "from IPython.display import display\n",
    "#metadata_2023-12-04-00h-36m.tsv\n",
    "# Create a text box widget for filename input\n",
    "filename_text = widgets.Text(\n",
    "    value='',\n",
    "    placeholder='Enter link',\n",
    "    description='Link to .hic:'\n",
    ")\n",
    "\n",
    "# Function to handle user input\n",
    "def handle_submit(sender):\n",
    "    print(\"Link entered:\", filename_text.value)\n",
    "\n",
    "# Assign the function handle_submit to be called when the user hits Enter after inputting the filename\n",
    "filename_text.on_submit(handle_submit)\n",
    "\n",
    "# Display the filename input widget\n",
    "display(filename_text)"
   ]
  },
  {
   "cell_type": "code",
   "execution_count": null,
   "metadata": {
    "colab": {
     "base_uri": "https://localhost:8080/",
     "height": 49,
     "referenced_widgets": [
      "6b3d90be7a0541119c1f4188e15ecfb7",
      "405788a9274444ae9541d440a71071b0",
      "48ae3bf452f8401da6e9fae7c5edb86b"
     ]
    },
    "id": "HQFINvkeMRdS",
    "outputId": "83595f2f-4746-4bcb-a32f-df82fd5fa422",
    "pycharm": {
     "name": "#%%\n"
    }
   },
   "outputs": [
    {
     "data": {
      "application/vnd.jupyter.widget-view+json": {
       "model_id": "6b3d90be7a0541119c1f4188e15ecfb7",
       "version_major": 2,
       "version_minor": 0
      },
      "text/plain": [
       "FileUpload(value={}, accept='.txt', description='Upload', multiple=True)"
      ]
     },
     "metadata": {},
     "output_type": "display_data"
    }
   ],
   "source": [
    "from ipywidgets import FileUpload\n",
    "from IPython.display import display\n",
    "upload = FileUpload(accept='.hic', multiple=True)\n",
    "display(upload)"
   ]
  },
  {
   "cell_type": "code",
   "execution_count": 19,
   "metadata": {
    "colab": {
     "base_uri": "https://localhost:8080/"
    },
    "id": "GG083-QZ282J",
    "outputId": "edc85d61-03a8-4753-e2c0-d7cfc2316861",
    "pycharm": {
     "name": "#%%\n"
    }
   },
   "outputs": [
    {
     "name": "stdout",
     "output_type": "stream",
     "text": [
      "https://data.4dnucleome.org/files-processed/4DNFI7RGXYFY/@@download/4DNFI7RGXYFY.hic\n",
      "  % Total    % Received % Xferd  Average Speed   Time    Time     Time  Current\n",
      "                                 Dload  Upload   Total   Spent    Left  Speed\n",
      "100   325  100   325    0     0    824      0 --:--:-- --:--:-- --:--:--   822\n",
      "100 2035M  100 2035M    0     0  15.7M      0  0:02:09  0:02:09 --:--:-- 15.9M:00:03  0:02:46 17.3M16.2M15.4M      0  0:02:11  0:00:14  0:01:57 16.1M   0  15.3M      0  0:02:12  0:00:33  0:01:39 16.7M15.5M      0  0:02:10  0:01:13  0:00:57 15.6M  0  15.6M      0  0:02:10  0:01:15  0:00:55 16.3M  0  15.7M      0  0:02:09  0:02:01  0:00:08 15.5M\n"
     ]
    }
   ],
   "source": [
    "url = filename_text.value\n",
    "if \"4D\" not in url:\n",
    "    raise ValueError(\"Invalid URL\")\n",
    "url = url[:url.rfind('/')]\n",
    "hic_file_name = url.split(\"/\")[-1] + \".hic\"\n",
    "url = url + \"/@@download/\" + hic_file_name\n",
    "print(url)\n",
    "!curl -L $url --output ./$hic_file_name --user KMXV2GYR:tvt6fgvpslvde3lu\n",
    "\n",
    "path_to_hic = \"./\" + hic_file_name"
   ]
  },
  {
   "cell_type": "markdown",
   "metadata": {
    "id": "G1pBMwP26h2c",
    "pycharm": {
     "name": "#%% md\n"
    }
   },
   "source": [
    "# Computer Vision Approach\n"
   ]
  },
  {
   "cell_type": "markdown",
   "metadata": {
    "id": "xJXHIlLiyU3O",
    "pycharm": {
     "name": "#%% md\n"
    }
   },
   "source": [
    "##File Preprocessing For Computer Vision\n",
    "These cells do not need to be opened, but do need to be run."
   ]
  },
  {
   "cell_type": "code",
   "execution_count": null,
   "metadata": {
    "id": "5vnXAJH-zCU7",
    "pycharm": {
     "name": "#%%\n"
    }
   },
   "outputs": [],
   "source": [
    "#IMPORTANT PATHS\n",
    "neural_model_path = '/content/drive/MyDrive/computerVision/pictures/models/neuralModel.pkl'\n",
    "linear_model_path = '/content/drive/MyDrive/computerVision/pictures/models/linearModel3.pkl'\n",
    "scaler_path = '/content/drive/MyDrive/computerVision/pictures/models/scaler.pkl'\n",
    "!conda install -c conda-forge python-kaleido"
   ]
  },
  {
   "cell_type": "code",
   "execution_count": null,
   "metadata": {
    "id": "w6nhjIrsWJMt",
    "pycharm": {
     "name": "#%%\n"
    }
   },
   "outputs": [],
   "source": [
    "#Credit to  Patrick Steegstra https://kapernikov.com/tutorial-image-classification-with-scikit-learn/\n",
    "from sklearn.base import BaseEstimator, TransformerMixin\n",
    "\n",
    "class RGB2GrayTransformer(BaseEstimator, TransformerMixin):\n",
    "    \"\"\"\n",
    "    Convert an array of RGB images to grayscale\n",
    "    \"\"\"\n",
    "\n",
    "    def __init__(self):\n",
    "        pass\n",
    "\n",
    "    def fit(self, X, y=None):\n",
    "        \"\"\"returns itself\"\"\"\n",
    "        return self\n",
    "\n",
    "    def transform(self, X, y=None):\n",
    "        \"\"\"perform the transformation and return an array\"\"\"\n",
    "        return np.array([skimage.color.rgb2gray(img) for img in X])\n",
    "\n",
    "\n",
    "class HogTransformer(BaseEstimator, TransformerMixin):\n",
    "    \"\"\"\n",
    "    Expects an array of 2d arrays (1 channel images)\n",
    "    Calculates hog features for each img\n",
    "    \"\"\"\n",
    "\n",
    "    def __init__(self, y=None, orientations=9,\n",
    "                 pixels_per_cell=(8, 8),\n",
    "                 cells_per_block=(3, 3), block_norm='L2-Hys'):\n",
    "        self.y = y\n",
    "        self.orientations = orientations\n",
    "        self.pixels_per_cell = pixels_per_cell\n",
    "        self.cells_per_block = cells_per_block\n",
    "        self.block_norm = block_norm\n",
    "\n",
    "    def fit(self, X, y=None):\n",
    "        return self\n",
    "\n",
    "    def transform(self, X, y=None):\n",
    "\n",
    "        def local_hog(X):\n",
    "            return hog(X,\n",
    "                       orientations=self.orientations,\n",
    "                       pixels_per_cell=self.pixels_per_cell,\n",
    "                       cells_per_block=self.cells_per_block,\n",
    "                       block_norm=self.block_norm)\n",
    "\n",
    "        try: # parallel\n",
    "            return np.array([local_hog(img) for img in X])\n",
    "        except:\n",
    "            return np.array([local_hog(img) for img in X])"
   ]
  },
  {
   "cell_type": "code",
   "execution_count": null,
   "metadata": {
    "id": "2q0_ywo_hTCD",
    "pycharm": {
     "name": "#%%\n"
    }
   },
   "outputs": [],
   "source": [
    "import pickle\n",
    "with open(linear_model_path, 'rb') as file:\n",
    "    linear_model = pickle.load(file)\n",
    "with open(neural_model_path, 'rb') as file:\n",
    "    neural_model = pickle.load(file)\n",
    "with open(scaler_path, 'rb') as file:\n",
    "    scalify = pickle.load(file)"
   ]
  },
  {
   "cell_type": "code",
   "execution_count": null,
   "metadata": {
    "id": "In9T071xkNFC",
    "pycharm": {
     "name": "#%%\n"
    }
   },
   "outputs": [],
   "source": [
    "def displayMatrix(matrix,imageName):\n",
    "  displayMatrix = np.log10(matrix)\n",
    "  t = pd.DataFrame(displayMatrix)\n",
    "  # t.columns = testRegions\n",
    "  # t.index = testRegions\n",
    "  upper_triangle_t = t.where(np.triu(np.ones(t.shape)).astype(bool))\n",
    "  figure1 = px.imshow(upper_triangle_t)\n",
    "  figure1.update_layout(showlegend=False)\n",
    "  figure1.update_yaxes(visible=False, showticklabels=False)\n",
    "  figure1.update_xaxes(visible=False, showticklabels=False)\n",
    "  figure1.write_image(imageName.replace(\".hic\",\"IMAGE.png\"),engine=\"auto\")\n",
    "  return imageName.replace(\".hic\",\"IMAGE.png\")"
   ]
  },
  {
   "cell_type": "code",
   "execution_count": null,
   "metadata": {
    "id": "1soxE-0b0Wav",
    "pycharm": {
     "name": "#%%\n"
    }
   },
   "outputs": [],
   "source": [
    "def process_files(file_path):\n",
    "    print(f\"Processing: {file_path}\")\n",
    "    hic = fanc.load(file_path+\"@10mb\")\n",
    "    hicMatrix = hic.matrix()\n",
    "    imageName = displayMatrix(hicMatrix,file_path)\n",
    "    print(imageName)\n",
    "    original = Image.open(imageName)\n",
    "    width,height = original.size\n",
    "    # Calculate the coordinates for cropping\n",
    "    left = (width - 400) // 2\n",
    "    top = (height - 400) // 2\n",
    "    right = (width + 400) // 2\n",
    "    bottom = (height + 400) // 2\n",
    "    # Crop the image to create a 400x400 pixel square from the center\n",
    "    cropped_image = original.crop((left, top, right, bottom))\n",
    "    cropped_image.save(imageName)\n",
    "    heatmap = io.imread(imageName)\n",
    "    # heatmap = skimage.util.crop(heatmap,((150,150),(0,0),(10,10)))\n",
    "    lower_white = np.array([200, 200, 200,255], dtype=np.uint8)\n",
    "    upper_white = np.array([255,255,255,255], dtype=np.uint8)\n",
    "    mask = cv2.inRange(heatmap, lower_white, upper_white)\n",
    "    mask = ~mask\n",
    "    res = cv2.bitwise_and(heatmap, heatmap, mask=mask)\n",
    "    heatmap_without_white_lines = heatmap.copy()\n",
    "    heatmap_without_white_lines[mask == 0] = [0, 0, 0,255]\n",
    "    heatmap_visual = img_as_ubyte(heatmap_without_white_lines)\n",
    "    figure2 = px.imshow(heatmap_visual)\n",
    "    figure2.update_yaxes(visible=False, showticklabels=False)\n",
    "    figure2.update_xaxes(visible=False, showticklabels=False)\n",
    "    figure2.write_image(imageName.replace(\"IMAGE.png\",\"MASKED.png\"),engine=\"auto\")\n",
    "    maskedName = imageName.replace(\"IMAGE.png\",\"MASKED.png\")\n",
    "    maskedOriginal = Image.open(maskedName)\n",
    "    width,height = maskedOriginal.size\n",
    "    # Calculate the coordinates for cropping\n",
    "    left = (width - 400) // 2\n",
    "    top = (height - 400) // 2\n",
    "    right = (width + 400) // 2\n",
    "    bottom = (height + 400) // 2\n",
    "    # Crop the image to create a 400x400 pixel square from the center\n",
    "    cropped_image = maskedOriginal.crop((left, top, right, bottom))\n",
    "    cropped_image.save(maskedName)"
   ]
  },
  {
   "cell_type": "code",
   "execution_count": null,
   "metadata": {
    "colab": {
     "base_uri": "https://localhost:8080/"
    },
    "id": "O7C0stvkabJM",
    "outputId": "0277cbc9-76b1-4da2-a38c-c2332573c822",
    "pycharm": {
     "name": "#%%\n"
    }
   },
   "outputs": [
    {
     "name": "stdout",
     "output_type": "stream",
     "text": [
      "Processing: /content/4DNFIPXU7V25.hic\n"
     ]
    },
    {
     "name": "stderr",
     "output_type": "stream",
     "text": [
      "<ipython-input-10-13563b46e566>:2: RuntimeWarning: divide by zero encountered in log10\n",
      "  displayMatrix = np.log10(matrix)\n"
     ]
    },
    {
     "name": "stdout",
     "output_type": "stream",
     "text": [
      "/content/4DNFIPXU7V25IMAGE.png\n"
     ]
    }
   ],
   "source": [
    "import fanc\n",
    "process_files(path_to_hic)\n"
   ]
  },
  {
   "cell_type": "code",
   "execution_count": null,
   "metadata": {
    "id": "lAxAtbEt0kKZ",
    "pycharm": {
     "name": "#%%\n"
    }
   },
   "outputs": [],
   "source": [
    "newName = path_to_hic.replace(\".hic\",\"MASKED.png\")\n",
    "im = cv2.imread(newName)\n",
    "# im = cv2.imread('/content/4DNFI3NN1U8TMASKED.png')\n",
    "im = resize(im, (400, 400))\n",
    "X = []\n",
    "X.append((im))\n",
    "grayify = RGB2GrayTransformer()\n",
    "hogify = HogTransformer(\n",
    "    pixels_per_cell=(14, 14),\n",
    "    cells_per_block=(2,2),\n",
    "    orientations=9,\n",
    "    block_norm='L2-Hys'\n",
    ")\n",
    "X_train_gray = grayify.transform(X)\n",
    "X_train_hog = hogify.transform(X_train_gray)\n",
    "X_train_prepared = scalify.transform(X_train_hog)"
   ]
  },
  {
   "cell_type": "markdown",
   "metadata": {
    "id": "OfGO7w9700EZ",
    "pycharm": {
     "name": "#%% md\n"
    }
   },
   "source": [
    "##Test Computer Vision Models\n",
    "In order to view model results the cells will need to be opened and then run."
   ]
  },
  {
   "cell_type": "code",
   "execution_count": null,
   "metadata": {
    "colab": {
     "base_uri": "https://localhost:8080/"
    },
    "id": "tR3BnHBalzQ1",
    "outputId": "7b7ac3a2-d7dc-47ef-b8be-d3f627a2cb2e",
    "pycharm": {
     "name": "#%%\n"
    }
   },
   "outputs": [
    {
     "name": "stdout",
     "output_type": "stream",
     "text": [
      "['UterineCervix']\n"
     ]
    }
   ],
   "source": [
    "pred = linear_model.predict(X_train_prepared)\n",
    "print(pred)"
   ]
  },
  {
   "cell_type": "code",
   "execution_count": null,
   "metadata": {
    "colab": {
     "base_uri": "https://localhost:8080/"
    },
    "id": "u-b0MZ_0tQct",
    "outputId": "0f41af60-5d11-4641-b602-34d9721b2ad1",
    "pycharm": {
     "name": "#%%\n"
    }
   },
   "outputs": [
    {
     "name": "stdout",
     "output_type": "stream",
     "text": [
      "+----------------+-------------+\n",
      "| Class          | Probability |\n",
      "+----------------+-------------+\n",
      "| BLymphocyte    | 0.01 %      |\n",
      "+----------------+-------------+\n",
      "| BloodCell      | 0.0 %       |\n",
      "+----------------+-------------+\n",
      "| Colon          | 0.01 %      |\n",
      "+----------------+-------------+\n",
      "| SkinFibroblast | 0.0 %       |\n",
      "+----------------+-------------+\n",
      "| StemCell       | 0.0 %       |\n",
      "+----------------+-------------+\n",
      "| UterineCervix  | 99.98 %     |\n",
      "+----------------+-------------+\n"
     ]
    }
   ],
   "source": [
    "t = Texttable()\n",
    "probs = neural_model.predict_proba(X_train_prepared)[0]\n",
    "classes = neural_model.classes_\n",
    "\n",
    "t.add_row([\"Class\", \"Probability\"])\n",
    "for i in range(len(probs)):\n",
    "    t.add_row([classes[i], str(round(probs[i]*100,2))+' %'])\n",
    "print(t.draw())\n",
    "# Add paragraphs in support\n",
    "# Change upload widget"
   ]
  },
  {
   "cell_type": "markdown",
   "metadata": {
    "id": "yUjn5ewi_3ut",
    "pycharm": {
     "name": "#%% md\n"
    }
   },
   "source": [
    "# TAD Frequency Approach"
   ]
  },
  {
   "cell_type": "markdown",
   "metadata": {
    "id": "hQO5lEJK_7m7",
    "pycharm": {
     "name": "#%% md\n"
    }
   },
   "source": [
    "## File Preprocessing for TAD Frequency\n",
    "These cells do not need to be opened, but do need to be run.\n",
    "We ask for your patience in this particular step, as running this step can take up to 10 minutes.\n",
    "\n"
   ]
  },
  {
   "cell_type": "code",
   "execution_count": null,
   "metadata": {
    "colab": {
     "base_uri": "https://localhost:8080/",
     "height": 193
    },
    "id": "IhIqwddoAYhf",
    "outputId": "c759e610-11b1-4803-9b2a-7d04418fbe45",
    "pycharm": {
     "name": "#%%\n"
    }
   },
   "outputs": [
    {
     "ename": "NameError",
     "evalue": "ignored",
     "output_type": "error",
     "traceback": [
      "\u001B[0;31m---------------------------------------------------------------------------\u001B[0m",
      "\u001B[0;31mNameError\u001B[0m                                 Traceback (most recent call last)",
      "\u001B[0;32m<ipython-input-8-1679e4a54463>\u001B[0m in \u001B[0;36m<cell line: 1>\u001B[0;34m()\u001B[0m\n\u001B[0;32m----> 1\u001B[0;31m \u001B[0;32mif\u001B[0m \u001B[0;32mnot\u001B[0m \u001B[0mpath_to_hic\u001B[0m\u001B[0;34m.\u001B[0m\u001B[0mendswith\u001B[0m\u001B[0;34m(\u001B[0m\u001B[0;34m\".hic\"\u001B[0m\u001B[0;34m)\u001B[0m\u001B[0;34m:\u001B[0m\u001B[0;34m\u001B[0m\u001B[0;34m\u001B[0m\u001B[0m\n\u001B[0m\u001B[1;32m      2\u001B[0m     \u001B[0;32mraise\u001B[0m \u001B[0mException\u001B[0m\u001B[0;34m(\u001B[0m\u001B[0;34m\"Please re-upload a .hic file in the 'File Entry' section\"\u001B[0m\u001B[0;34m)\u001B[0m\u001B[0;34m\u001B[0m\u001B[0;34m\u001B[0m\u001B[0m\n",
      "\u001B[0;31mNameError\u001B[0m: name 'path_to_hic' is not defined"
     ]
    }
   ],
   "source": [
    "if not path_to_hic.endswith(\".hic\"):\n",
    "    raise Exception(\"Please re-upload a .hic file in the 'File Entry' section\")"
   ]
  },
  {
   "cell_type": "code",
   "execution_count": 5,
   "metadata": {
    "colab": {
     "base_uri": "https://localhost:8080/"
    },
    "id": "GQZhlaEyAbNW",
    "outputId": "8fda4297-e806-4e94-8006-e0a39361e186",
    "pycharm": {
     "name": "#%%\n"
    }
   },
   "outputs": [
    {
     "name": "stdout",
     "output_type": "stream",
     "text": [
      "Requirement already satisfied: h1d in /usr/local/lib/python3.10/dist-packages (0.2.5)\n",
      "Requirement already satisfied: pandas in /usr/local/lib/python3.10/dist-packages (from h1d) (1.5.3)\n",
      "Requirement already satisfied: numpy in /usr/local/lib/python3.10/dist-packages (from h1d) (1.23.5)\n",
      "Requirement already satisfied: scikit-learn in /usr/local/lib/python3.10/dist-packages (from h1d) (1.3.2)\n",
      "Requirement already satisfied: scipy in /usr/local/lib/python3.10/dist-packages (from h1d) (1.11.4)\n",
      "Requirement already satisfied: matplotlib in /usr/local/lib/python3.10/dist-packages (from h1d) (3.7.1)\n",
      "Requirement already satisfied: seaborn in /usr/local/lib/python3.10/dist-packages (from h1d) (0.12.2)\n",
      "Requirement already satisfied: multiprocess in /usr/local/lib/python3.10/dist-packages (from h1d) (0.70.15)\n",
      "Requirement already satisfied: fithic==2.0.7 in /usr/local/lib/python3.10/dist-packages (from h1d) (2.0.7)\n",
      "Requirement already satisfied: statsmodels in /usr/local/lib/python3.10/dist-packages (from h1d) (0.14.0)\n",
      "Requirement already satisfied: cooler==0.9.* in /usr/local/lib/python3.10/dist-packages (from h1d) (0.9.3)\n",
      "Requirement already satisfied: asciitree in /usr/local/lib/python3.10/dist-packages (from cooler==0.9.*->h1d) (0.3.3)\n",
      "Requirement already satisfied: click>=7 in /usr/local/lib/python3.10/dist-packages (from cooler==0.9.*->h1d) (8.1.7)\n",
      "Requirement already satisfied: cytoolz in /usr/local/lib/python3.10/dist-packages (from cooler==0.9.*->h1d) (0.12.2)\n",
      "Requirement already satisfied: h5py>=2.5 in /usr/local/lib/python3.10/dist-packages (from cooler==0.9.*->h1d) (3.9.0)\n",
      "Requirement already satisfied: pyfaidx in /usr/local/lib/python3.10/dist-packages (from cooler==0.9.*->h1d) (0.7.2.2)\n",
      "Requirement already satisfied: pyyaml in /usr/local/lib/python3.10/dist-packages (from cooler==0.9.*->h1d) (6.0.1)\n",
      "Requirement already satisfied: simplejson in /usr/local/lib/python3.10/dist-packages (from cooler==0.9.*->h1d) (3.19.2)\n",
      "Requirement already satisfied: sortedcontainers in /usr/local/lib/python3.10/dist-packages (from fithic==2.0.7->h1d) (2.4.0)\n",
      "Requirement already satisfied: python-dateutil>=2.8.1 in /usr/local/lib/python3.10/dist-packages (from pandas->h1d) (2.8.2)\n",
      "Requirement already satisfied: pytz>=2020.1 in /usr/local/lib/python3.10/dist-packages (from pandas->h1d) (2023.3.post1)\n",
      "Requirement already satisfied: contourpy>=1.0.1 in /usr/local/lib/python3.10/dist-packages (from matplotlib->h1d) (1.2.0)\n",
      "Requirement already satisfied: cycler>=0.10 in /usr/local/lib/python3.10/dist-packages (from matplotlib->h1d) (0.12.1)\n",
      "Requirement already satisfied: fonttools>=4.22.0 in /usr/local/lib/python3.10/dist-packages (from matplotlib->h1d) (4.46.0)\n",
      "Requirement already satisfied: kiwisolver>=1.0.1 in /usr/local/lib/python3.10/dist-packages (from matplotlib->h1d) (1.4.5)\n",
      "Requirement already satisfied: packaging>=20.0 in /usr/local/lib/python3.10/dist-packages (from matplotlib->h1d) (23.2)\n",
      "Requirement already satisfied: pillow>=6.2.0 in /usr/local/lib/python3.10/dist-packages (from matplotlib->h1d) (9.4.0)\n",
      "Requirement already satisfied: pyparsing>=2.3.1 in /usr/local/lib/python3.10/dist-packages (from matplotlib->h1d) (3.1.1)\n",
      "Requirement already satisfied: dill>=0.3.7 in /usr/local/lib/python3.10/dist-packages (from multiprocess->h1d) (0.3.7)\n",
      "Requirement already satisfied: joblib>=1.1.1 in /usr/local/lib/python3.10/dist-packages (from scikit-learn->h1d) (1.3.2)\n",
      "Requirement already satisfied: threadpoolctl>=2.0.0 in /usr/local/lib/python3.10/dist-packages (from scikit-learn->h1d) (3.2.0)\n",
      "Requirement already satisfied: patsy>=0.5.2 in /usr/local/lib/python3.10/dist-packages (from statsmodels->h1d) (0.5.4)\n",
      "Requirement already satisfied: six in /usr/local/lib/python3.10/dist-packages (from patsy>=0.5.2->statsmodels->h1d) (1.16.0)\n",
      "Requirement already satisfied: toolz>=0.8.0 in /usr/local/lib/python3.10/dist-packages (from cytoolz->cooler==0.9.*->h1d) (0.12.0)\n",
      "Requirement already satisfied: setuptools in /usr/local/lib/python3.10/dist-packages (from pyfaidx->cooler==0.9.*->h1d) (67.7.2)\n",
      "Requirement already satisfied: importlib-metadata in /usr/local/lib/python3.10/dist-packages (from pyfaidx->cooler==0.9.*->h1d) (7.0.0)\n",
      "Requirement already satisfied: zipp>=0.5 in /usr/local/lib/python3.10/dist-packages (from importlib-metadata->pyfaidx->cooler==0.9.*->h1d) (3.17.0)\n",
      "Reading package lists... Done\n",
      "Building dependency tree... Done\n",
      "Reading state information... Done\n",
      "bedtools is already the newest version (2.30.0+dfsg-2ubuntu0.1).\n",
      "0 upgraded, 0 newly installed, 0 to remove and 16 not upgraded.\n",
      "\n",
      "h1d one IS /content/4DNFIKCEWMIA.hic 100000 chr1 -o IS_chr1 --datatype rawhic --gt /content/user_files/hg38_genome_table.txt -n 1000\n",
      "\n",
      "Start dump matrix from hic file\n",
      "Finish dump\n",
      "Calculating 1D metrics for one sample\n",
      "loading data...\n",
      "loading finished\n",
      "Finished calculating\n",
      "Saving...\n",
      "\n",
      "h1d one IS /content/4DNFIKCEWMIA.hic 100000 chr2 -o IS_chr2 --datatype rawhic --gt /content/user_files/hg38_genome_table.txt -n 1000\n",
      "\n",
      "Start dump matrix from hic file\n",
      "Finish dump\n",
      "Calculating 1D metrics for one sample\n",
      "loading data...\n",
      "loading finished\n",
      "Finished calculating\n",
      "Saving...\n",
      "\n",
      "h1d one IS /content/4DNFIKCEWMIA.hic 100000 chr3 -o IS_chr3 --datatype rawhic --gt /content/user_files/hg38_genome_table.txt -n 1000\n",
      "\n",
      "Start dump matrix from hic file\n",
      "Finish dump\n",
      "Calculating 1D metrics for one sample\n",
      "loading data...\n",
      "loading finished\n",
      "Finished calculating\n",
      "Saving...\n",
      "\n",
      "h1d one IS /content/4DNFIKCEWMIA.hic 100000 chr4 -o IS_chr4 --datatype rawhic --gt /content/user_files/hg38_genome_table.txt -n 1000\n",
      "\n",
      "Start dump matrix from hic file\n",
      "Finish dump\n",
      "Calculating 1D metrics for one sample\n",
      "loading data...\n",
      "loading finished\n",
      "Finished calculating\n",
      "Saving...\n",
      "\n",
      "h1d one IS /content/4DNFIKCEWMIA.hic 100000 chr5 -o IS_chr5 --datatype rawhic --gt /content/user_files/hg38_genome_table.txt -n 1000\n",
      "\n",
      "Start dump matrix from hic file\n",
      "Finish dump\n",
      "Calculating 1D metrics for one sample\n",
      "loading data...\n",
      "loading finished\n",
      "Finished calculating\n",
      "Saving...\n",
      "\n",
      "h1d one IS /content/4DNFIKCEWMIA.hic 100000 chr6 -o IS_chr6 --datatype rawhic --gt /content/user_files/hg38_genome_table.txt -n 1000\n",
      "\n",
      "Start dump matrix from hic file\n",
      "Finish dump\n",
      "Calculating 1D metrics for one sample\n",
      "loading data...\n",
      "loading finished\n",
      "Finished calculating\n",
      "Saving...\n",
      "\n",
      "h1d one IS /content/4DNFIKCEWMIA.hic 100000 chr7 -o IS_chr7 --datatype rawhic --gt /content/user_files/hg38_genome_table.txt -n 1000\n",
      "\n",
      "Start dump matrix from hic file\n",
      "Finish dump\n",
      "Calculating 1D metrics for one sample\n",
      "loading data...\n",
      "loading finished\n",
      "Finished calculating\n",
      "Saving...\n",
      "\n",
      "h1d one IS /content/4DNFIKCEWMIA.hic 100000 chr8 -o IS_chr8 --datatype rawhic --gt /content/user_files/hg38_genome_table.txt -n 1000\n",
      "\n",
      "Start dump matrix from hic file\n",
      "Finish dump\n",
      "Calculating 1D metrics for one sample\n",
      "loading data...\n",
      "loading finished\n",
      "Finished calculating\n",
      "Saving...\n",
      "\n",
      "h1d one IS /content/4DNFIKCEWMIA.hic 100000 chr9 -o IS_chr9 --datatype rawhic --gt /content/user_files/hg38_genome_table.txt -n 1000\n",
      "\n",
      "Start dump matrix from hic file\n",
      "Finish dump\n",
      "Calculating 1D metrics for one sample\n",
      "loading data...\n",
      "loading finished\n",
      "Finished calculating\n",
      "Saving...\n",
      "\n",
      "h1d one IS /content/4DNFIKCEWMIA.hic 100000 chr10 -o IS_chr10 --datatype rawhic --gt /content/user_files/hg38_genome_table.txt -n 1000\n",
      "\n",
      "Start dump matrix from hic file\n",
      "Finish dump\n",
      "Calculating 1D metrics for one sample\n",
      "loading data...\n",
      "loading finished\n",
      "Finished calculating\n",
      "Saving...\n",
      "\n",
      "h1d one IS /content/4DNFIKCEWMIA.hic 100000 chr11 -o IS_chr11 --datatype rawhic --gt /content/user_files/hg38_genome_table.txt -n 1000\n",
      "\n",
      "Start dump matrix from hic file\n",
      "Finish dump\n",
      "Calculating 1D metrics for one sample\n",
      "loading data...\n",
      "loading finished\n",
      "Finished calculating\n",
      "Saving...\n",
      "\n",
      "h1d one IS /content/4DNFIKCEWMIA.hic 100000 chr12 -o IS_chr12 --datatype rawhic --gt /content/user_files/hg38_genome_table.txt -n 1000\n",
      "\n",
      "Start dump matrix from hic file\n",
      "Finish dump\n",
      "Calculating 1D metrics for one sample\n",
      "loading data...\n",
      "loading finished\n",
      "Finished calculating\n",
      "Saving...\n",
      "\n",
      "h1d one IS /content/4DNFIKCEWMIA.hic 100000 chr13 -o IS_chr13 --datatype rawhic --gt /content/user_files/hg38_genome_table.txt -n 1000\n",
      "\n",
      "Start dump matrix from hic file\n",
      "Finish dump\n",
      "Calculating 1D metrics for one sample\n",
      "loading data...\n",
      "loading finished\n",
      "Finished calculating\n",
      "Saving...\n",
      "\n",
      "h1d one IS /content/4DNFIKCEWMIA.hic 100000 chr14 -o IS_chr14 --datatype rawhic --gt /content/user_files/hg38_genome_table.txt -n 1000\n",
      "\n",
      "Start dump matrix from hic file\n",
      "Finish dump\n",
      "Calculating 1D metrics for one sample\n",
      "loading data...\n",
      "loading finished\n",
      "Finished calculating\n",
      "Saving...\n",
      "\n",
      "h1d one IS /content/4DNFIKCEWMIA.hic 100000 chr15 -o IS_chr15 --datatype rawhic --gt /content/user_files/hg38_genome_table.txt -n 1000\n",
      "\n",
      "Start dump matrix from hic file\n",
      "Finish dump\n",
      "Calculating 1D metrics for one sample\n",
      "loading data...\n",
      "loading finished\n",
      "Finished calculating\n",
      "Saving...\n",
      "\n",
      "h1d one IS /content/4DNFIKCEWMIA.hic 100000 chr16 -o IS_chr16 --datatype rawhic --gt /content/user_files/hg38_genome_table.txt -n 1000\n",
      "\n",
      "Start dump matrix from hic file\n",
      "Finish dump\n",
      "Calculating 1D metrics for one sample\n",
      "loading data...\n",
      "loading finished\n",
      "Finished calculating\n",
      "Saving...\n",
      "\n",
      "h1d one IS /content/4DNFIKCEWMIA.hic 100000 chr17 -o IS_chr17 --datatype rawhic --gt /content/user_files/hg38_genome_table.txt -n 1000\n",
      "\n",
      "Start dump matrix from hic file\n",
      "Finish dump\n",
      "Calculating 1D metrics for one sample\n",
      "loading data...\n",
      "loading finished\n",
      "Finished calculating\n",
      "Saving...\n",
      "\n",
      "h1d one IS /content/4DNFIKCEWMIA.hic 100000 chr18 -o IS_chr18 --datatype rawhic --gt /content/user_files/hg38_genome_table.txt -n 1000\n",
      "\n",
      "Start dump matrix from hic file\n",
      "Finish dump\n",
      "Calculating 1D metrics for one sample\n",
      "loading data...\n",
      "loading finished\n",
      "Finished calculating\n",
      "Saving...\n",
      "\n",
      "h1d one IS /content/4DNFIKCEWMIA.hic 100000 chr19 -o IS_chr19 --datatype rawhic --gt /content/user_files/hg38_genome_table.txt -n 1000\n",
      "\n",
      "Start dump matrix from hic file\n",
      "Finish dump\n",
      "Calculating 1D metrics for one sample\n",
      "loading data...\n",
      "loading finished\n",
      "Finished calculating\n",
      "Saving...\n",
      "\n",
      "h1d one IS /content/4DNFIKCEWMIA.hic 100000 chr20 -o IS_chr20 --datatype rawhic --gt /content/user_files/hg38_genome_table.txt -n 1000\n",
      "\n",
      "Start dump matrix from hic file\n",
      "Finish dump\n",
      "Calculating 1D metrics for one sample\n",
      "loading data...\n",
      "loading finished\n",
      "Finished calculating\n",
      "Saving...\n",
      "\n",
      "h1d one IS /content/4DNFIKCEWMIA.hic 100000 chr21 -o IS_chr21 --datatype rawhic --gt /content/user_files/hg38_genome_table.txt -n 1000\n",
      "\n",
      "Start dump matrix from hic file\n",
      "Finish dump\n",
      "Calculating 1D metrics for one sample\n",
      "loading data...\n",
      "loading finished\n",
      "Finished calculating\n",
      "Saving...\n",
      "\n",
      "h1d one IS /content/4DNFIKCEWMIA.hic 100000 chr22 -o IS_chr22 --datatype rawhic --gt /content/user_files/hg38_genome_table.txt -n 1000\n",
      "\n",
      "Start dump matrix from hic file\n",
      "Finish dump\n",
      "Calculating 1D metrics for one sample\n",
      "loading data...\n",
      "loading finished\n",
      "Finished calculating\n",
      "Saving...\n",
      "\n",
      "h1d one IS /content/4DNFIKCEWMIA.hic 100000 chrX -o IS_chrX --datatype rawhic --gt /content/user_files/hg38_genome_table.txt -n 1000\n",
      "\n",
      "Start dump matrix from hic file\n",
      "Finish dump\n",
      "Calculating 1D metrics for one sample\n",
      "loading data...\n",
      "loading finished\n",
      "Finished calculating\n",
      "Saving...\n",
      "done\n",
      "4DNFIKCEWMIA_output/IS_chr4_4DNFIKCEWMIA.bedGraph\n",
      "4DNFIKCEWMIA_output/IS_chr16_4DNFIKCEWMIA.bedGraph\n",
      "4DNFIKCEWMIA_output/IS_chr17_4DNFIKCEWMIA.bedGraph\n",
      "4DNFIKCEWMIA_output/IS_chr8_4DNFIKCEWMIA.bedGraph\n",
      "4DNFIKCEWMIA_output/IS_chr18_4DNFIKCEWMIA.bedGraph\n",
      "4DNFIKCEWMIA_output/IS_chr7_4DNFIKCEWMIA.bedGraph\n",
      "4DNFIKCEWMIA_output/IS_chr11_4DNFIKCEWMIA.bedGraph\n",
      "4DNFIKCEWMIA_output/IS_chr21_4DNFIKCEWMIA.bedGraph\n",
      "4DNFIKCEWMIA_output/IS_chr20_4DNFIKCEWMIA.bedGraph\n",
      "4DNFIKCEWMIA_output/IS_chr6_4DNFIKCEWMIA.bedGraph\n",
      "4DNFIKCEWMIA_output/IS_chr5_4DNFIKCEWMIA.bedGraph\n",
      "4DNFIKCEWMIA_output/IS_chr9_4DNFIKCEWMIA.bedGraph\n",
      "4DNFIKCEWMIA_output/IS_chrX_4DNFIKCEWMIA.bedGraph\n",
      "4DNFIKCEWMIA_output/IS_chr1_4DNFIKCEWMIA.bedGraph\n",
      "4DNFIKCEWMIA_output/IS_chr13_4DNFIKCEWMIA.bedGraph\n",
      "4DNFIKCEWMIA_output/IS_chr10_4DNFIKCEWMIA.bedGraph\n",
      "4DNFIKCEWMIA_output/IS_chr12_4DNFIKCEWMIA.bedGraph\n",
      "4DNFIKCEWMIA_output/IS_chr3_4DNFIKCEWMIA.bedGraph\n",
      "4DNFIKCEWMIA_output/IS_chr14_4DNFIKCEWMIA.bedGraph\n",
      "4DNFIKCEWMIA_output/IS_chr19_4DNFIKCEWMIA.bedGraph\n",
      "4DNFIKCEWMIA_output/IS_chr2_4DNFIKCEWMIA.bedGraph\n",
      "4DNFIKCEWMIA_output/IS_chr22_4DNFIKCEWMIA.bedGraph\n",
      "4DNFIKCEWMIA_output/IS_chr15_4DNFIKCEWMIA.bedGraph\n",
      "Not same chromosome, moving on\n",
      "chr6\t170400000\t170500000\t0.549316\n",
      "\n",
      "chr7\t300000\t400000\t0.711499\n",
      "\n",
      "----------------------------------------------------\n",
      "Not same chromosome, moving on\n",
      "chr8\t144700000\t144800000\t0.689514\n",
      "\n",
      "chr9\t1000000\t1100000\t0.293317\n",
      "\n",
      "----------------------------------------------------\n",
      "Not same chromosome, moving on\n",
      "chr9\t137500000\t137600000\t0.337679\n",
      "\n",
      "chr10\t300000\t400000\t0.606478\n",
      "\n",
      "----------------------------------------------------\n",
      "Not same chromosome, moving on\n",
      "chr10\t133300000\t133400000\t0.225858\n",
      "\n",
      "chr11\t500000\t600000\t0.511225\n",
      "\n",
      "----------------------------------------------------\n",
      "Not same chromosome, moving on\n",
      "chr11\t134200000\t134300000\t0.402423\n",
      "\n",
      "chr12\t1000000\t1100000\t0.512821\n",
      "\n",
      "----------------------------------------------------\n",
      "Not same chromosome, moving on\n",
      "chr14\t106200000\t106300000\t0.868759\n",
      "\n",
      "chr15\t17100000\t17200000\t0.504637\n",
      "\n",
      "----------------------------------------------------\n",
      "Not same chromosome, moving on\n",
      "chr15\t101200000\t101300000\t0.531587\n",
      "\n",
      "chr16\t600000\t700000\t0.370672\n",
      "\n",
      "----------------------------------------------------\n",
      "Not same chromosome, moving on\n",
      "chr17\t82600000\t82700000\t0.501003\n",
      "\n",
      "chr18\t800000\t900000\t0.290211\n",
      "\n",
      "----------------------------------------------------\n",
      "Not same chromosome, moving on\n",
      "chr20\t64000000\t64100000\t0.390336\n",
      "\n",
      "chr21\t6100000\t6200000\t0.232977\n",
      "\n",
      "----------------------------------------------------\n",
      "Not same chromosome, moving on\n",
      "chr21\t46100000\t46200000\t0.620874\n",
      "\n",
      "chr22\t10600000\t10700000\t0.123895\n",
      "\n",
      "----------------------------------------------------\n",
      "Not same chromosome, moving on\n",
      "chr22\t50200000\t50300000\t0.482845\n",
      "\n",
      "chrX\t300000\t400000\t0.263947\n",
      "\n",
      "----------------------------------------------------\n",
      "Done 4DNFIKCEWMIA\n",
      "Done\n",
      "                         chr1                               ...      chrX                              \n",
      "                     10900000  15700000  19900000 21400000  ... 133400000 134800000 139700000 149800000\n",
      "                     11100000  15900000  20100000 21600000  ... 133600000 135000000 139900000 150000000\n",
      "4DNFIKCEWMIA_output  1.094921  0.649645  1.014448        0  ...  0.972619  1.023668         0  1.102111\n",
      "\n",
      "[1 rows x 718 columns]\n",
      "rm: cannot remove '/content/user_files/intersect_TADs_*.bedGraph': No such file or directory\n"
     ]
    }
   ],
   "source": [
    "!pip install natsort\n",
    "!pip install IPython\n",
    "!pip install -U scikit-learn\n",
    "!cp -r /content/drive/MyDrive/TAD_Frequency_Encoding/user_files /content/\n",
    "!chmod u+x /content/user_files/*.sh\n",
    "!/content/user_files/startup.sh\n",
    "!/content/user_files/hic_file_processor.sh $path_to_hic\n"
   ]
  },
  {
   "cell_type": "code",
   "execution_count": null,
   "metadata": {
    "id": "HQBVrZDRAAXL",
    "pycharm": {
     "name": "#%%\n"
    }
   },
   "outputs": [],
   "source": [
    "import os\n",
    "import subprocess\n",
    "import pandas as pd\n",
    "import sklearn\n",
    "import numpy as np\n",
    "import matplotlib.pyplot as plt\n",
    "import seaborn as sns\n",
    "from sklearn.feature_selection import SelectFromModel\n",
    "import pickle as pkl\n",
    "import joblib\n",
    "from texttable import Texttable"
   ]
  },
  {
   "cell_type": "code",
   "execution_count": null,
   "metadata": {
    "id": "X5BQA5bpCd21",
    "pycharm": {
     "name": "#%%\n"
    }
   },
   "outputs": [],
   "source": [
    "classifier = pkl.load(open('/content/user_files/finalized_model.pkl', 'rb'))"
   ]
  },
  {
   "cell_type": "code",
   "execution_count": null,
   "metadata": {
    "id": "yA_sKaEmAgiW",
    "pycharm": {
     "name": "#%%\n"
    }
   },
   "outputs": [],
   "source": [
    "dataset = pd.read_pickle(\"/content/user_files/final_data.pkl\")\n",
    "\n",
    "X = dataset.values"
   ]
  },
  {
   "cell_type": "markdown",
   "metadata": {
    "id": "ua8Wq98-1XMC",
    "pycharm": {
     "name": "#%% md\n"
    }
   },
   "source": [
    "## Test TAD Frequency Models\n",
    "In order to view model results the cells will need to be opened and then run."
   ]
  },
  {
   "cell_type": "code",
   "execution_count": null,
   "metadata": {
    "colab": {
     "base_uri": "https://localhost:8080/",
     "height": 250
    },
    "id": "vWl6q-SbI8RB",
    "outputId": "477ca8b4-0fb2-40e8-90ca-865143fb0956",
    "pycharm": {
     "name": "#%%\n"
    }
   },
   "outputs": [
    {
     "ename": "NameError",
     "evalue": "ignored",
     "output_type": "error",
     "traceback": [
      "\u001B[0;31m---------------------------------------------------------------------------\u001B[0m",
      "\u001B[0;31mNameError\u001B[0m                                 Traceback (most recent call last)",
      "\u001B[0;32m<ipython-input-1-bc7091b350ed>\u001B[0m in \u001B[0;36m<cell line: 1>\u001B[0;34m()\u001B[0m\n\u001B[0;32m----> 1\u001B[0;31m \u001B[0mt\u001B[0m \u001B[0;34m=\u001B[0m \u001B[0mTexttable\u001B[0m\u001B[0;34m(\u001B[0m\u001B[0;34m)\u001B[0m\u001B[0;34m\u001B[0m\u001B[0;34m\u001B[0m\u001B[0m\n\u001B[0m\u001B[1;32m      2\u001B[0m \u001B[0;34m\u001B[0m\u001B[0m\n\u001B[1;32m      3\u001B[0m \u001B[0mprobs\u001B[0m \u001B[0;34m=\u001B[0m \u001B[0mclassifier\u001B[0m\u001B[0;34m.\u001B[0m\u001B[0mpredict_proba\u001B[0m\u001B[0;34m(\u001B[0m\u001B[0mX\u001B[0m\u001B[0;34m)\u001B[0m\u001B[0;34m[\u001B[0m\u001B[0;36m0\u001B[0m\u001B[0;34m]\u001B[0m\u001B[0;34m\u001B[0m\u001B[0;34m\u001B[0m\u001B[0m\n\u001B[1;32m      4\u001B[0m \u001B[0mclasses\u001B[0m \u001B[0;34m=\u001B[0m \u001B[0mclassifier\u001B[0m\u001B[0;34m.\u001B[0m\u001B[0mclasses_\u001B[0m\u001B[0;34m\u001B[0m\u001B[0;34m\u001B[0m\u001B[0m\n\u001B[1;32m      5\u001B[0m \u001B[0;34m\u001B[0m\u001B[0m\n",
      "\u001B[0;31mNameError\u001B[0m: name 'Texttable' is not defined"
     ]
    }
   ],
   "source": [
    "t = Texttable()\n",
    "\n",
    "probs = classifier.predict_proba(X)[0]\n",
    "classes = classifier.classes_\n",
    "\n",
    "t.add_row([\"Class\", \"Probability\"])\n",
    "for i in range(len(probs)):\n",
    "    t.add_row([classes[i], str(round(probs[i]*100,2))+' %'])\n",
    "print(t.draw())\n"
   ]
  },
  {
   "cell_type": "code",
   "execution_count": null,
   "metadata": {
    "id": "67i6qRXc8qup",
    "pycharm": {
     "name": "#%%\n"
    }
   },
   "outputs": [],
   "source": [
    "import requests\n",
    "\n",
    "# Replace 'YOUR_ENCODE_API_KEY' with your actual API key if required\n",
    "encode_api_key = 'YOUR_ENCODE_API_KEY'\n",
    "hic_file_url = 'https://www.encodeproject.org/some_hic_file_url'  # Replace with your HIC file URL\n",
    "\n",
    "headers = {\n",
    "    'Authorization': f'Bearer {encode_api_key}',\n",
    "    'Content-Type': 'application/json'\n",
    "}\n",
    "\n",
    "response = requests.get(hic_file_url, headers=headers)\n",
    "\n",
    "if response.status_code == 200:\n",
    "    # File downloaded successfully\n",
    "    with open('downloaded_file.hic', 'wb') as f:\n",
    "        f.write(response.content)\n",
    "    print('File downloaded successfully.')\n",
    "else:\n",
    "    print(f'Failed to download file. Status code: {response.status_code}')\n",
    "    print(f'Response content: {response.content}')\n"
   ]
  }
 ],
 "metadata": {
  "colab": {
   "collapsed_sections": [
    "9UmDJLYxx39M",
    "wsj1DnhmyM1l"
   ],
   "provenance": []
  },
  "kernelspec": {
   "display_name": "Python 3 (ipykernel)",
   "language": "python",
   "name": "python3"
  },
  "language_info": {
   "codemirror_mode": {
    "name": "ipython",
    "version": 3
   },
   "file_extension": ".py",
   "mimetype": "text/x-python",
   "name": "python",
   "nbconvert_exporter": "python",
   "pygments_lexer": "ipython3",
   "version": "3.9.13"
  },
  "widgets": {
   "application/vnd.jupyter.widget-state+json": {
    "22391e58fc15472cb26305e75c2b277b": {
     "model_module": "@jupyter-widgets/controls",
     "model_module_version": "1.5.0",
     "model_name": "DescriptionStyleModel",
     "state": {
      "_model_module": "@jupyter-widgets/controls",
      "_model_module_version": "1.5.0",
      "_model_name": "DescriptionStyleModel",
      "_view_count": null,
      "_view_module": "@jupyter-widgets/base",
      "_view_module_version": "1.2.0",
      "_view_name": "StyleView",
      "description_width": ""
     }
    },
    "405788a9274444ae9541d440a71071b0": {
     "model_module": "@jupyter-widgets/base",
     "model_module_version": "1.2.0",
     "model_name": "LayoutModel",
     "state": {
      "_model_module": "@jupyter-widgets/base",
      "_model_module_version": "1.2.0",
      "_model_name": "LayoutModel",
      "_view_count": null,
      "_view_module": "@jupyter-widgets/base",
      "_view_module_version": "1.2.0",
      "_view_name": "LayoutView",
      "align_content": null,
      "align_items": null,
      "align_self": null,
      "border": null,
      "bottom": null,
      "display": null,
      "flex": null,
      "flex_flow": null,
      "grid_area": null,
      "grid_auto_columns": null,
      "grid_auto_flow": null,
      "grid_auto_rows": null,
      "grid_column": null,
      "grid_gap": null,
      "grid_row": null,
      "grid_template_areas": null,
      "grid_template_columns": null,
      "grid_template_rows": null,
      "height": null,
      "justify_content": null,
      "justify_items": null,
      "left": null,
      "margin": null,
      "max_height": null,
      "max_width": null,
      "min_height": null,
      "min_width": null,
      "object_fit": null,
      "object_position": null,
      "order": null,
      "overflow": null,
      "overflow_x": null,
      "overflow_y": null,
      "padding": null,
      "right": null,
      "top": null,
      "visibility": null,
      "width": null
     }
    },
    "48ae3bf452f8401da6e9fae7c5edb86b": {
     "model_module": "@jupyter-widgets/controls",
     "model_module_version": "1.5.0",
     "model_name": "ButtonStyleModel",
     "state": {
      "_model_module": "@jupyter-widgets/controls",
      "_model_module_version": "1.5.0",
      "_model_name": "ButtonStyleModel",
      "_view_count": null,
      "_view_module": "@jupyter-widgets/base",
      "_view_module_version": "1.2.0",
      "_view_name": "StyleView",
      "button_color": null,
      "font_weight": ""
     }
    },
    "6b3d90be7a0541119c1f4188e15ecfb7": {
     "model_module": "@jupyter-widgets/controls",
     "model_module_version": "1.5.0",
     "model_name": "FileUploadModel",
     "state": {
      "_counter": 0,
      "_dom_classes": [],
      "_model_module": "@jupyter-widgets/controls",
      "_model_module_version": "1.5.0",
      "_model_name": "FileUploadModel",
      "_view_count": null,
      "_view_module": "@jupyter-widgets/controls",
      "_view_module_version": "1.5.0",
      "_view_name": "FileUploadView",
      "accept": ".txt",
      "button_style": "",
      "data": [],
      "description": "Upload",
      "description_tooltip": null,
      "disabled": false,
      "error": "",
      "icon": "upload",
      "layout": "IPY_MODEL_405788a9274444ae9541d440a71071b0",
      "metadata": [],
      "multiple": true,
      "style": "IPY_MODEL_48ae3bf452f8401da6e9fae7c5edb86b"
     }
    },
    "7c43c7e8e30c44619966a4ec21ac94c5": {
     "model_module": "@jupyter-widgets/base",
     "model_module_version": "1.2.0",
     "model_name": "LayoutModel",
     "state": {
      "_model_module": "@jupyter-widgets/base",
      "_model_module_version": "1.2.0",
      "_model_name": "LayoutModel",
      "_view_count": null,
      "_view_module": "@jupyter-widgets/base",
      "_view_module_version": "1.2.0",
      "_view_name": "LayoutView",
      "align_content": null,
      "align_items": null,
      "align_self": null,
      "border": null,
      "bottom": null,
      "display": null,
      "flex": null,
      "flex_flow": null,
      "grid_area": null,
      "grid_auto_columns": null,
      "grid_auto_flow": null,
      "grid_auto_rows": null,
      "grid_column": null,
      "grid_gap": null,
      "grid_row": null,
      "grid_template_areas": null,
      "grid_template_columns": null,
      "grid_template_rows": null,
      "height": null,
      "justify_content": null,
      "justify_items": null,
      "left": null,
      "margin": null,
      "max_height": null,
      "max_width": null,
      "min_height": null,
      "min_width": null,
      "object_fit": null,
      "object_position": null,
      "order": null,
      "overflow": null,
      "overflow_x": null,
      "overflow_y": null,
      "padding": null,
      "right": null,
      "top": null,
      "visibility": null,
      "width": null
     }
    },
    "89a9105e430646ac8e8968635848d5c9": {
     "model_module": "@jupyter-widgets/controls",
     "model_module_version": "1.5.0",
     "model_name": "TextModel",
     "state": {
      "_dom_classes": [],
      "_model_module": "@jupyter-widgets/controls",
      "_model_module_version": "1.5.0",
      "_model_name": "TextModel",
      "_view_count": null,
      "_view_module": "@jupyter-widgets/controls",
      "_view_module_version": "1.5.0",
      "_view_name": "TextView",
      "continuous_update": true,
      "description": "Link to .hic:",
      "description_tooltip": null,
      "disabled": false,
      "layout": "IPY_MODEL_7c43c7e8e30c44619966a4ec21ac94c5",
      "placeholder": "Enter link",
      "style": "IPY_MODEL_22391e58fc15472cb26305e75c2b277b",
      "value": "https://data.4dnucleome.org/files-processed/4DNFIGOC9R2M/"
     }
    }
   }
  }
 },
 "nbformat": 4,
 "nbformat_minor": 1
}